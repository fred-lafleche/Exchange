{
  "nbformat": 4,
  "nbformat_minor": 0,
  "metadata": {
    "colab": {
      "name": "Project.ipynb",
      "provenance": [],
      "collapsed_sections": [],
      "mount_file_id": "1cYRbety3x6AoFpMEUBF3R9WjVt71emSx",
      "authorship_tag": "ABX9TyO8NgRiF308uHa6vjliBTCW",
      "include_colab_link": true
    },
    "kernelspec": {
      "name": "python3",
      "display_name": "Python 3"
    },
    "language_info": {
      "name": "python"
    }
  },
  "cells": [
    {
      "cell_type": "markdown",
      "metadata": {
        "id": "view-in-github",
        "colab_type": "text"
      },
      "source": [
        "<a href=\"https://colab.research.google.com/github/fred-lafleche/Exchange/blob/master/Project.ipynb\" target=\"_parent\"><img src=\"https://colab.research.google.com/assets/colab-badge.svg\" alt=\"Open In Colab\"/></a>"
      ]
    },
    {
      "cell_type": "markdown",
      "source": [
        "#Imports"
      ],
      "metadata": {
        "id": "lM6pV0wMrvJQ"
      }
    },
    {
      "cell_type": "code",
      "metadata": {
        "id": "orwXF2uXbvXy"
      },
      "source": [
        "#imports\n",
        "from sklearn import preprocessing\n",
        "from sklearn import tree\n",
        "from sklearn.svm import SVC\n",
        "from imblearn.over_sampling import SMOTE\n",
        "from sklearn.impute import SimpleImputer\n",
        "from sklearn.pipeline import make_pipeline\n",
        "from sklearn.preprocessing import StandardScaler\n",
        "from sklearn.ensemble import BaggingClassifier\n",
        "from sklearn.semi_supervised import LabelPropagation\n",
        "from sklearn.semi_supervised import SelfTrainingClassifier\n",
        "from sklearn.ensemble import RandomForestClassifier\n",
        "from sklearn.neighbors import KNeighborsClassifier\n",
        "from sklearn.metrics import confusion_matrix\n",
        "from sklearn.metrics import roc_curve\n",
        "from sklearn.metrics import classification_report\n",
        "from sklearn.metrics import roc_curve, auc\n",
        "import matplotlib.pyplot as plot\n",
        "from sklearn.utils import resample\n",
        "from scipy.sparse import coo_matrix\n",
        "from sklearn.utils import resample\n",
        "from sklearn import svm\n",
        "import numpy as np\n",
        "import pandas as pd\n",
        "from sklearn.metrics import accuracy_score\n",
        "from sklearn.model_selection import cross_val_score\n",
        "from sklearn.neural_network import MLPClassifier\n",
        "from sklearn.ensemble import GradientBoostingClassifier"
      ],
      "execution_count": 1,
      "outputs": []
    },
    {
      "cell_type": "code",
      "metadata": {
        "colab": {
          "base_uri": "https://localhost:8080/"
        },
        "id": "j_0SiOCqb2PV",
        "outputId": "af95b13d-25ff-47be-f9d2-d6add40e0d36"
      },
      "source": [
        "shoppersInput_file= \"/content/drive/MyDrive/Colab Notebooks/online_shoppers_intention.csv\"\n",
        "heartInput_file = \"/content/drive/MyDrive/Colab Notebooks/heart.csv\"\n",
        "marketingInput_file = \"/content/drive/MyDrive/Colab Notebooks/marketing_campaign.csv\"\n",
        "\n",
        "shopDataPd = pd.read_csv(shoppersInput_file)\n",
        "heartDataPd = pd.read_csv(heartInput_file)\n",
        "marketDataPd = pd.read_csv(marketingInput_file)\n",
        "print(\"Shopper Data: \\n\",shopDataPd.head())\n",
        "print(\"\\nHeart Data: \\n\",heartDataPd.head())\n",
        "print(\"\\nMarket Campaing Data: \\n\",marketDataPd.head())\n"
      ],
      "execution_count": 2,
      "outputs": [
        {
          "output_type": "stream",
          "name": "stdout",
          "text": [
            "Shopper Data: \n",
            "    Administrative  Administrative_Duration  ...  Weekend  Revenue\n",
            "0               0                      0.0  ...    False    False\n",
            "1               0                      0.0  ...    False    False\n",
            "2               0                      0.0  ...    False    False\n",
            "3               0                      0.0  ...    False    False\n",
            "4               0                      0.0  ...     True    False\n",
            "\n",
            "[5 rows x 18 columns]\n",
            "\n",
            "Heart Data: \n",
            "    age  sex  cp  trestbps  chol  fbs  ...  exang  oldpeak  slope  ca  thal  target\n",
            "0   63    1   3       145   233    1  ...      0      2.3      0   0     1       1\n",
            "1   37    1   2       130   250    0  ...      0      3.5      0   0     2       1\n",
            "2   41    0   1       130   204    0  ...      0      1.4      2   0     2       1\n",
            "3   56    1   1       120   236    0  ...      0      0.8      2   0     2       1\n",
            "4   57    0   0       120   354    0  ...      1      0.6      2   0     2       1\n",
            "\n",
            "[5 rows x 14 columns]\n",
            "\n",
            "Market Campaing Data: \n",
            "      ID  Year_Birth   Education  ... Z_CostContact  Z_Revenue  Response\n",
            "0  5524        1957  Graduation  ...             3         11         1\n",
            "1  2174        1954  Graduation  ...             3         11         0\n",
            "2  4141        1965  Graduation  ...             3         11         0\n",
            "3  6182        1984  Graduation  ...             3         11         0\n",
            "4  5324        1981         PhD  ...             3         11         0\n",
            "\n",
            "[5 rows x 29 columns]\n"
          ]
        }
      ]
    },
    {
      "cell_type": "markdown",
      "source": [
        "#Preprocessing"
      ],
      "metadata": {
        "id": "r6QnbFSbrnnM"
      }
    },
    {
      "cell_type": "markdown",
      "metadata": {
        "id": "OEb3J8MXC-3f"
      },
      "source": [
        "Online Shoppers Intention"
      ]
    },
    {
      "cell_type": "code",
      "metadata": {
        "id": "rN0D8kMPC-Kj"
      },
      "source": [
        "# Normalization\n",
        "dataArray = shopDataPd.values\n",
        "np.random.shuffle(dataArray)\n",
        "numericData = dataArray[:,[0,1,2,3,4,5,6,7,8,9]]\n",
        "scaler = preprocessing.StandardScaler().fit(numericData)\n",
        "scalledNumericData = scaler.transform(numericData)\n",
        "\n",
        "# One hot encoding\n",
        "categoricalData = dataArray[:,[10,15,16]]\n",
        "categoricalLabel = dataArray[:,[17]]\n",
        "encoder1 = preprocessing.OneHotEncoder()\n",
        "encoder2 = preprocessing.OneHotEncoder()\n",
        "encoder1.fit(categoricalData)\n",
        "encoder2.fit(categoricalLabel)\n",
        "categoricalData=encoder1.transform(categoricalData).toarray()\n",
        "categoricalLabel = encoder2.transform(categoricalLabel).toarray()\n",
        "\n",
        "#join data back together\n",
        "shopData = np.column_stack((scalledNumericData, categoricalData))\n",
        "#add back columns 11 to 14 and 17\n",
        "shopData = np.column_stack((shopData, dataArray[:,[11,12,13,14]]))\n",
        "shopLabel = categoricalLabel[:,[1]]"
      ],
      "execution_count": 3,
      "outputs": []
    },
    {
      "cell_type": "markdown",
      "metadata": {
        "id": "HcH5d5HWsB01"
      },
      "source": [
        "Heart Data"
      ]
    },
    {
      "cell_type": "code",
      "metadata": {
        "colab": {
          "base_uri": "https://localhost:8080/"
        },
        "id": "8QJHbiEwcr9w",
        "outputId": "7e941cc4-f26f-4e37-a1a0-d195cb8d3147"
      },
      "source": [
        "heartDataArray = heartDataPd.values\n",
        "np.random.shuffle(heartDataArray)\n",
        "print(heartDataArray.size)\n",
        "heartData = np.delete(heartDataArray, 13, 1)\n",
        "print(heartData.size)\n",
        "heartLabel = heartDataArray[:,[13]]\n",
        "print(heartLabel.size)"
      ],
      "execution_count": 4,
      "outputs": [
        {
          "output_type": "stream",
          "name": "stdout",
          "text": [
            "4242\n",
            "3939\n",
            "303\n"
          ]
        }
      ]
    },
    {
      "cell_type": "markdown",
      "metadata": {
        "id": "5T9dPSatsFy_"
      },
      "source": [
        "Marketing Campaign"
      ]
    },
    {
      "cell_type": "code",
      "metadata": {
        "colab": {
          "base_uri": "https://localhost:8080/"
        },
        "id": "KoHrurITr_Aw",
        "outputId": "a22546ca-e171-4c20-b2fc-caff7be5f66e"
      },
      "source": [
        "marketDataArray = marketDataPd.values\n",
        "np.random.shuffle(marketDataArray)\n",
        "print(marketDataArray.size)\n",
        "marketLabel = marketDataArray[:,[6]] #label\n",
        "marketData = np.delete(marketDataArray, 6, 1) #remove label\n",
        "marketData = np.delete(marketData, 6, 1) #date\n",
        "marketData = np.delete(marketData, 3, 1) #Marital Status\n",
        "marketData = np.delete(marketData, 2, 1) #Education\n",
        "\n",
        "# Normalization and remove nan with mean\n",
        "imp = SimpleImputer(missing_values=np.nan, strategy='mean')\n",
        "imp.fit(marketData)\n",
        "marketData=imp.transform(marketData)\n",
        "\n",
        "scalerMarket = preprocessing.StandardScaler().fit(marketData)\n",
        "scalledMarketData = scalerMarket.transform(marketData)\n",
        "\n",
        "# One hot encoding\n",
        "categoricalMarketData = marketDataArray[:,[2,3]]\n",
        "encoder = preprocessing.OneHotEncoder()\n",
        "encoder.fit(categoricalMarketData)\n",
        "categoricalMarketData=encoder.transform(categoricalMarketData).toarray()\n",
        "\n",
        "encoder = preprocessing.OneHotEncoder()\n",
        "encoder.fit(marketLabel)\n",
        "marketLabel=encoder.transform(marketLabel).toarray()\n",
        "marketLabel = marketLabel[:,[0]] #1 for absence\n",
        "\n",
        "#join data back together\n",
        "marketData = np.column_stack((scalledMarketData, categoricalMarketData))\n",
        "\n",
        "print(marketData[100])\n",
        "print(marketLabel[0])\n",
        "print(marketLabel[1])\n",
        "print(marketLabel[2])\n",
        "print(marketData.size)\n",
        "\n",
        "print(marketLabel.size)"
      ],
      "execution_count": 5,
      "outputs": [
        {
          "output_type": "stream",
          "name": "stdout",
          "text": [
            "64960\n",
            "[-1.67229343  0.6839101  -0.92977222 -0.82521765  0.34157444 -0.291023\n",
            " -0.66144918 -0.5359715  -0.63213986 -0.60727326 -0.61396583 -0.16823634\n",
            "  0.3294268  -0.56871962 -0.24311448  1.10608734 -0.28014028 -0.28383019\n",
            " -0.28014028 -0.26211122 -0.11651035 -0.09728167  0.          0.\n",
            " -0.41861211  0.          0.          0.          0.          1.\n",
            "  0.          0.          0.          1.          0.          0.\n",
            "  0.          0.        ]\n",
            "[0.]\n",
            "[1.]\n",
            "[1.]\n",
            "85120\n",
            "2240\n"
          ]
        }
      ]
    },
    {
      "cell_type": "markdown",
      "source": [
        "# Dividing the data into training and testing"
      ],
      "metadata": {
        "id": "FNq0OGcu3PiO"
      }
    },
    {
      "cell_type": "code",
      "source": [
        "Levels = [0,0.1,0.2,0.5,0.9,0.95]\n",
        "\n",
        "#Divide data, 80% for training, 20% for testing\n",
        "\n",
        "#Heart data (80% of 303 is 242)\n",
        "print(heartData.shape)\n",
        "print(heartLabel.shape)\n",
        "\n",
        "H_training_data=heartData[0:242,0:13]\n",
        "H_training_label=heartLabel[0:242]\n",
        "\n",
        "H_testing_data=heartData[242:303,0:13]\n",
        "H_testing_label=heartLabel[242:303]\n",
        "\n",
        "#Marketing data (80% of 2240 is 1792)\n",
        "print(marketData.shape)\n",
        "print(marketLabel.shape)\n",
        "\n",
        "M_training_data=marketData[0:1792,0:38]\n",
        "M_training_label=marketLabel[0:1792]\n",
        "\n",
        "M_testing_data=marketData[1792:2240,0:38]\n",
        "M_testing_label=marketLabel[1792:2240]\n",
        "\n",
        "#Online Shoppers Data (80% of 12330 is 9864)\n",
        "print(shopData.shape)\n",
        "print(shopLabel.shape)\n",
        "\n",
        "S_training_data=shopData[0:9864,0:29]\n",
        "S_training_label=shopLabel[0:9864]\n",
        "\n",
        "S_testing_data=shopData[9864:12330,0:29]\n",
        "S_testing_label=shopLabel[9864:12330]\n",
        "\n",
        "#Balanced Online Shoppers Data (80% of 20844 is 16675)\n",
        "shopDataSMOTE, shopLabelSMOTE = SMOTE().fit_resample(shopData, shopLabel)\n",
        "\n",
        "print(shopDataSMOTE.shape)\n",
        "print(shopLabelSMOTE.shape)\n",
        "\n",
        "BS_training_data=shopDataSMOTE[0:16675,0:29]\n",
        "BS_training_label=shopLabelSMOTE[0:16675]\n",
        "\n",
        "BS_testing_data=shopDataSMOTE[16675:20844,0:29]\n",
        "BS_testing_label=shopLabelSMOTE[16675:20844]\n",
        "\n",
        "#label balance\n",
        "th=0\n",
        "tm=0\n",
        "ts=0\n",
        "tss=0\n",
        "for s in heartLabel:\n",
        "  if (s==0):\n",
        "    th=th+1\n",
        "print(\"Average is: \",th/len(heartLabel))\n",
        "\n",
        "for s in marketLabel:\n",
        "  if (s==0):\n",
        "    tm=tm+1\n",
        "print(\"Average is: \",tm/len(marketLabel))\n",
        "\n",
        "for s in shopLabel:\n",
        "  if (s==0):\n",
        "    ts=ts+1\n",
        "print(\"Average is: \",ts/len(shopLabel))\n",
        "\n",
        "for s in shopLabelSMOTE:\n",
        "  if (s==0):\n",
        "    tss=tss+1\n",
        "print(\"Average is: \",tss/len(shopLabelSMOTE))\n"
      ],
      "metadata": {
        "colab": {
          "base_uri": "https://localhost:8080/"
        },
        "id": "ES3WBqGz3OqC",
        "outputId": "7608dac0-f3ec-4092-acc5-66a7ee28129c"
      },
      "execution_count": 7,
      "outputs": [
        {
          "output_type": "stream",
          "name": "stdout",
          "text": [
            "(303, 13)\n",
            "(303, 1)\n",
            "(2240, 38)\n",
            "(2240, 1)\n",
            "(12330, 29)\n",
            "(12330, 1)\n",
            "(20844, 29)\n",
            "(20844,)\n",
            "Average is:  0.45544554455445546\n",
            "Average is:  0.4830357142857143\n",
            "Average is:  0.8452554744525548\n",
            "Average is:  0.5\n"
          ]
        }
      ]
    },
    {
      "cell_type": "markdown",
      "metadata": {
        "id": "syxuaRPllHtC"
      },
      "source": [
        "# Self-training algorithm"
      ]
    },
    {
      "cell_type": "markdown",
      "source": [
        "Heart Data"
      ],
      "metadata": {
        "id": "Om9iwR5ishUW"
      }
    },
    {
      "cell_type": "code",
      "metadata": {
        "colab": {
          "base_uri": "https://localhost:8080/"
        },
        "id": "BTALndHvkFtf",
        "outputId": "90be94d6-d4a9-4206-b19b-be4bccac6904"
      },
      "source": [
        "STrand = np.random.RandomState()\n",
        "\n",
        "#for calculating average\n",
        "H_SDT_S = 0\n",
        "H_RF_S = 0\n",
        "H_KNN_S = 0\n",
        "H_MLP_S = 0\n",
        "H_GB_S = 0\n",
        "\n",
        "for l in Levels:\n",
        "  H_SDT = tree.DecisionTreeClassifier()\n",
        "  H_RF = RandomForestClassifier()\n",
        "  H_KNN = KNeighborsClassifier()\n",
        "  H_MLP = MLPClassifier(random_state=1, max_iter=100)\n",
        "  H_GB = GradientBoostingClassifier(n_estimators=100, learning_rate=1.0, max_depth=1, random_state=0)\n",
        "  H_SVM = SVC() # does not work\n",
        "\n",
        "  H_random_unlabeled_points = STrand.rand(H_training_label.shape[0]) < l\n",
        "  H_labels = np.copy(H_training_label)\n",
        "  H_labels[H_random_unlabeled_points] = -1\n",
        "\n",
        "  print(\"Scores when we have \",(l*100),\"% of unlabelled data:\\n\")\n",
        "  #Single Decision Tree\n",
        "  H_ST_SDT = SelfTrainingClassifier(H_SDT)\n",
        "  H_ST_SDT.fit(H_training_data,H_labels.ravel())\n",
        "\n",
        "  H_ST_SDT_Pred=H_ST_SDT.predict(H_testing_data)\n",
        "  H_ST_SDT_score = accuracy_score(H_testing_label, H_ST_SDT_Pred)\n",
        "  H_SDT_S = H_SDT_S + H_ST_SDT_score\n",
        "  print(\"Heart SDT Accuracy Score: \",H_ST_SDT_score)\n",
        "\n",
        "  #Random Forest\n",
        "  H_ST_RF = SelfTrainingClassifier(H_RF)\n",
        "  H_ST_RF.fit(H_training_data,H_labels.ravel())\n",
        "\n",
        "  H_ST_RF_Pred=H_ST_RF.predict(H_testing_data)\n",
        "  H_ST_RF_score = accuracy_score(H_testing_label, H_ST_RF_Pred)\n",
        "  H_RF_S = H_RF_S + H_ST_RF_score\n",
        "  print(\"Heart RF Accuracy Score: \",H_ST_RF_score)\n",
        "\n",
        "  #K-nearest neighbor\n",
        "  H_ST_KNN = SelfTrainingClassifier(H_KNN)\n",
        "  H_ST_KNN.fit(H_training_data,H_labels.ravel())\n",
        "\n",
        "  H_ST_KNN_Pred=H_ST_KNN.predict(H_testing_data)\n",
        "  H_ST_KNN_score = accuracy_score(H_testing_label, H_ST_KNN_Pred)\n",
        "  H_KNN_S = H_KNN_S + H_ST_KNN_score\n",
        "  print(\"Heart KNN Accuracy Score: \",H_ST_KNN_score)\n",
        "\n",
        "  #Multi-layer Perceptron\n",
        "\n",
        "  H_ST_MLP = SelfTrainingClassifier(H_MLP)\n",
        "  H_ST_MLP.fit(H_training_data,H_labels.ravel())\n",
        "\n",
        "  H_ST_MLP_Pred=H_ST_MLP.predict(H_testing_data)\n",
        "  H_ST_MLP_score = accuracy_score(H_testing_label, H_ST_MLP_Pred)\n",
        "  H_MLP_S = H_MLP_S + H_ST_MLP_score\n",
        "  print(\"Heart MLP Accuracy Score: \",H_ST_MLP_score)\n",
        "\n",
        "  #Gradient Boosting\n",
        "  H_ST_GB = SelfTrainingClassifier(H_GB)\n",
        "  H_ST_GB.fit(H_training_data,H_labels.ravel())\n",
        "\n",
        "  H_ST_GB_Pred=H_ST_GB.predict(H_testing_data)\n",
        "  H_ST_GB_score = accuracy_score(H_testing_label, H_ST_GB_Pred)\n",
        "  H_GB_S = H_GB_S + H_ST_GB_score\n",
        "  print(\"Heart GB Accuracy Score: \",H_ST_GB_score)\n",
        "\n",
        "  print(\"\\n\\n\")\n",
        "\n",
        "  # Support Vector Machine --> base_estimator (Pipeline) should implement predict_proba!\n",
        "  # H_ST_SVM = SelfTrainingClassifier(H_SVM)\n",
        "  # H_ST_SVM.fit(H_training_data,H_labels.ravel())\n",
        "\n",
        "  # H_ST_SVM_Pred=H_ST_SVM.predict(H_testing_data)\n",
        "  # H_ST_SVM_score = accuracy_score(H_testing_label, H_ST_SVM_Pred)\n",
        "  # print(\"Heart SVM Accuracy Score: \",H_ST_SVM_score)\n",
        "\n",
        "print(\"Average Heart SDT Accuracy Score: \",H_SDT_S/len(Levels))\n",
        "print(\"Average Heart RF Accuracy Score: \",H_RF_S/len(Levels))\n",
        "print(\"Average Heart KNN Accuracy Score: \",H_KNN_S/len(Levels))\n",
        "print(\"Average Heart MLP Accuracy Score: \",H_MLP_S/len(Levels))\n",
        "print(\"Average Heart GB Accuracy Score: \",H_GB_S/len(Levels))"
      ],
      "execution_count": 41,
      "outputs": [
        {
          "output_type": "stream",
          "name": "stdout",
          "text": [
            "Scores when we have  0 % of unlabelled data:\n",
            "\n",
            "Heart SDT Accuracy Score:  0.7213114754098361\n",
            "Heart RF Accuracy Score:  0.8524590163934426\n",
            "Heart KNN Accuracy Score:  0.5081967213114754\n"
          ]
        },
        {
          "output_type": "stream",
          "name": "stderr",
          "text": [
            "/usr/local/lib/python3.7/dist-packages/sklearn/semi_supervised/_self_training.py:210: UserWarning: y contains no unlabeled samples\n",
            "  warnings.warn(\"y contains no unlabeled samples\", UserWarning)\n",
            "/usr/local/lib/python3.7/dist-packages/sklearn/semi_supervised/_self_training.py:210: UserWarning: y contains no unlabeled samples\n",
            "  warnings.warn(\"y contains no unlabeled samples\", UserWarning)\n",
            "/usr/local/lib/python3.7/dist-packages/sklearn/semi_supervised/_self_training.py:210: UserWarning: y contains no unlabeled samples\n",
            "  warnings.warn(\"y contains no unlabeled samples\", UserWarning)\n",
            "/usr/local/lib/python3.7/dist-packages/sklearn/semi_supervised/_self_training.py:210: UserWarning: y contains no unlabeled samples\n",
            "  warnings.warn(\"y contains no unlabeled samples\", UserWarning)\n",
            "/usr/local/lib/python3.7/dist-packages/sklearn/neural_network/_multilayer_perceptron.py:696: ConvergenceWarning: Stochastic Optimizer: Maximum iterations (100) reached and the optimization hasn't converged yet.\n",
            "  ConvergenceWarning,\n",
            "/usr/local/lib/python3.7/dist-packages/sklearn/semi_supervised/_self_training.py:210: UserWarning: y contains no unlabeled samples\n",
            "  warnings.warn(\"y contains no unlabeled samples\", UserWarning)\n"
          ]
        },
        {
          "output_type": "stream",
          "name": "stdout",
          "text": [
            "Heart MLP Accuracy Score:  0.8524590163934426\n",
            "Heart GB Accuracy Score:  0.8032786885245902\n",
            "\n",
            "\n",
            "\n",
            "Scores when we have  10.0 % of unlabelled data:\n",
            "\n",
            "Heart SDT Accuracy Score:  0.7377049180327869\n",
            "Heart RF Accuracy Score:  0.8524590163934426\n",
            "Heart KNN Accuracy Score:  0.5737704918032787\n"
          ]
        },
        {
          "output_type": "stream",
          "name": "stderr",
          "text": [
            "/usr/local/lib/python3.7/dist-packages/sklearn/neural_network/_multilayer_perceptron.py:696: ConvergenceWarning: Stochastic Optimizer: Maximum iterations (100) reached and the optimization hasn't converged yet.\n",
            "  ConvergenceWarning,\n",
            "/usr/local/lib/python3.7/dist-packages/sklearn/neural_network/_multilayer_perceptron.py:696: ConvergenceWarning: Stochastic Optimizer: Maximum iterations (100) reached and the optimization hasn't converged yet.\n",
            "  ConvergenceWarning,\n",
            "/usr/local/lib/python3.7/dist-packages/sklearn/neural_network/_multilayer_perceptron.py:696: ConvergenceWarning: Stochastic Optimizer: Maximum iterations (100) reached and the optimization hasn't converged yet.\n",
            "  ConvergenceWarning,\n",
            "/usr/local/lib/python3.7/dist-packages/sklearn/neural_network/_multilayer_perceptron.py:696: ConvergenceWarning: Stochastic Optimizer: Maximum iterations (100) reached and the optimization hasn't converged yet.\n",
            "  ConvergenceWarning,\n",
            "/usr/local/lib/python3.7/dist-packages/sklearn/neural_network/_multilayer_perceptron.py:696: ConvergenceWarning: Stochastic Optimizer: Maximum iterations (100) reached and the optimization hasn't converged yet.\n",
            "  ConvergenceWarning,\n",
            "/usr/local/lib/python3.7/dist-packages/sklearn/neural_network/_multilayer_perceptron.py:696: ConvergenceWarning: Stochastic Optimizer: Maximum iterations (100) reached and the optimization hasn't converged yet.\n",
            "  ConvergenceWarning,\n"
          ]
        },
        {
          "output_type": "stream",
          "name": "stdout",
          "text": [
            "Heart MLP Accuracy Score:  0.8360655737704918\n",
            "Heart GB Accuracy Score:  0.8360655737704918\n",
            "\n",
            "\n",
            "\n",
            "Scores when we have  20.0 % of unlabelled data:\n",
            "\n",
            "Heart SDT Accuracy Score:  0.7377049180327869\n",
            "Heart RF Accuracy Score:  0.819672131147541\n",
            "Heart KNN Accuracy Score:  0.6065573770491803\n"
          ]
        },
        {
          "output_type": "stream",
          "name": "stderr",
          "text": [
            "/usr/local/lib/python3.7/dist-packages/sklearn/neural_network/_multilayer_perceptron.py:696: ConvergenceWarning: Stochastic Optimizer: Maximum iterations (100) reached and the optimization hasn't converged yet.\n",
            "  ConvergenceWarning,\n",
            "/usr/local/lib/python3.7/dist-packages/sklearn/neural_network/_multilayer_perceptron.py:696: ConvergenceWarning: Stochastic Optimizer: Maximum iterations (100) reached and the optimization hasn't converged yet.\n",
            "  ConvergenceWarning,\n",
            "/usr/local/lib/python3.7/dist-packages/sklearn/neural_network/_multilayer_perceptron.py:696: ConvergenceWarning: Stochastic Optimizer: Maximum iterations (100) reached and the optimization hasn't converged yet.\n",
            "  ConvergenceWarning,\n",
            "/usr/local/lib/python3.7/dist-packages/sklearn/neural_network/_multilayer_perceptron.py:696: ConvergenceWarning: Stochastic Optimizer: Maximum iterations (100) reached and the optimization hasn't converged yet.\n",
            "  ConvergenceWarning,\n"
          ]
        },
        {
          "output_type": "stream",
          "name": "stdout",
          "text": [
            "Heart MLP Accuracy Score:  0.8360655737704918\n",
            "Heart GB Accuracy Score:  0.7868852459016393\n",
            "\n",
            "\n",
            "\n",
            "Scores when we have  50.0 % of unlabelled data:\n",
            "\n",
            "Heart SDT Accuracy Score:  0.6885245901639344\n",
            "Heart RF Accuracy Score:  0.7704918032786885\n",
            "Heart KNN Accuracy Score:  0.5409836065573771\n"
          ]
        },
        {
          "output_type": "stream",
          "name": "stderr",
          "text": [
            "/usr/local/lib/python3.7/dist-packages/sklearn/neural_network/_multilayer_perceptron.py:696: ConvergenceWarning: Stochastic Optimizer: Maximum iterations (100) reached and the optimization hasn't converged yet.\n",
            "  ConvergenceWarning,\n",
            "/usr/local/lib/python3.7/dist-packages/sklearn/neural_network/_multilayer_perceptron.py:696: ConvergenceWarning: Stochastic Optimizer: Maximum iterations (100) reached and the optimization hasn't converged yet.\n",
            "  ConvergenceWarning,\n",
            "/usr/local/lib/python3.7/dist-packages/sklearn/neural_network/_multilayer_perceptron.py:696: ConvergenceWarning: Stochastic Optimizer: Maximum iterations (100) reached and the optimization hasn't converged yet.\n",
            "  ConvergenceWarning,\n",
            "/usr/local/lib/python3.7/dist-packages/sklearn/neural_network/_multilayer_perceptron.py:696: ConvergenceWarning: Stochastic Optimizer: Maximum iterations (100) reached and the optimization hasn't converged yet.\n",
            "  ConvergenceWarning,\n",
            "/usr/local/lib/python3.7/dist-packages/sklearn/neural_network/_multilayer_perceptron.py:696: ConvergenceWarning: Stochastic Optimizer: Maximum iterations (100) reached and the optimization hasn't converged yet.\n",
            "  ConvergenceWarning,\n"
          ]
        },
        {
          "output_type": "stream",
          "name": "stdout",
          "text": [
            "Heart MLP Accuracy Score:  0.7377049180327869\n",
            "Heart GB Accuracy Score:  0.7213114754098361\n",
            "\n",
            "\n",
            "\n",
            "Scores when we have  90.0 % of unlabelled data:\n",
            "\n",
            "Heart SDT Accuracy Score:  0.7704918032786885\n",
            "Heart RF Accuracy Score:  0.7868852459016393\n",
            "Heart KNN Accuracy Score:  0.45901639344262296\n"
          ]
        },
        {
          "output_type": "stream",
          "name": "stderr",
          "text": [
            "/usr/local/lib/python3.7/dist-packages/sklearn/neural_network/_multilayer_perceptron.py:696: ConvergenceWarning: Stochastic Optimizer: Maximum iterations (100) reached and the optimization hasn't converged yet.\n",
            "  ConvergenceWarning,\n",
            "/usr/local/lib/python3.7/dist-packages/sklearn/neural_network/_multilayer_perceptron.py:696: ConvergenceWarning: Stochastic Optimizer: Maximum iterations (100) reached and the optimization hasn't converged yet.\n",
            "  ConvergenceWarning,\n",
            "/usr/local/lib/python3.7/dist-packages/sklearn/neural_network/_multilayer_perceptron.py:696: ConvergenceWarning: Stochastic Optimizer: Maximum iterations (100) reached and the optimization hasn't converged yet.\n",
            "  ConvergenceWarning,\n",
            "/usr/local/lib/python3.7/dist-packages/sklearn/neural_network/_multilayer_perceptron.py:696: ConvergenceWarning: Stochastic Optimizer: Maximum iterations (100) reached and the optimization hasn't converged yet.\n",
            "  ConvergenceWarning,\n",
            "/usr/local/lib/python3.7/dist-packages/sklearn/neural_network/_multilayer_perceptron.py:696: ConvergenceWarning: Stochastic Optimizer: Maximum iterations (100) reached and the optimization hasn't converged yet.\n",
            "  ConvergenceWarning,\n",
            "/usr/local/lib/python3.7/dist-packages/sklearn/neural_network/_multilayer_perceptron.py:696: ConvergenceWarning: Stochastic Optimizer: Maximum iterations (100) reached and the optimization hasn't converged yet.\n",
            "  ConvergenceWarning,\n",
            "/usr/local/lib/python3.7/dist-packages/sklearn/neural_network/_multilayer_perceptron.py:696: ConvergenceWarning: Stochastic Optimizer: Maximum iterations (100) reached and the optimization hasn't converged yet.\n",
            "  ConvergenceWarning,\n",
            "/usr/local/lib/python3.7/dist-packages/sklearn/neural_network/_multilayer_perceptron.py:696: ConvergenceWarning: Stochastic Optimizer: Maximum iterations (100) reached and the optimization hasn't converged yet.\n",
            "  ConvergenceWarning,\n"
          ]
        },
        {
          "output_type": "stream",
          "name": "stdout",
          "text": [
            "Heart MLP Accuracy Score:  0.6229508196721312\n",
            "Heart GB Accuracy Score:  0.7704918032786885\n",
            "\n",
            "\n",
            "\n",
            "Scores when we have  95.0 % of unlabelled data:\n",
            "\n",
            "Heart SDT Accuracy Score:  0.6885245901639344\n",
            "Heart RF Accuracy Score:  0.4918032786885246\n",
            "Heart KNN Accuracy Score:  0.4262295081967213\n"
          ]
        },
        {
          "output_type": "stream",
          "name": "stderr",
          "text": [
            "/usr/local/lib/python3.7/dist-packages/sklearn/neural_network/_multilayer_perceptron.py:696: ConvergenceWarning: Stochastic Optimizer: Maximum iterations (100) reached and the optimization hasn't converged yet.\n",
            "  ConvergenceWarning,\n",
            "/usr/local/lib/python3.7/dist-packages/sklearn/neural_network/_multilayer_perceptron.py:696: ConvergenceWarning: Stochastic Optimizer: Maximum iterations (100) reached and the optimization hasn't converged yet.\n",
            "  ConvergenceWarning,\n",
            "/usr/local/lib/python3.7/dist-packages/sklearn/neural_network/_multilayer_perceptron.py:696: ConvergenceWarning: Stochastic Optimizer: Maximum iterations (100) reached and the optimization hasn't converged yet.\n",
            "  ConvergenceWarning,\n",
            "/usr/local/lib/python3.7/dist-packages/sklearn/neural_network/_multilayer_perceptron.py:696: ConvergenceWarning: Stochastic Optimizer: Maximum iterations (100) reached and the optimization hasn't converged yet.\n",
            "  ConvergenceWarning,\n"
          ]
        },
        {
          "output_type": "stream",
          "name": "stdout",
          "text": [
            "Heart MLP Accuracy Score:  0.5737704918032787\n",
            "Heart GB Accuracy Score:  0.6885245901639344\n",
            "\n",
            "\n",
            "\n",
            "Average Heart SDT Accuracy Score:  0.7240437158469946\n",
            "Average Heart RF Accuracy Score:  0.7622950819672131\n",
            "Average Heart KNN Accuracy Score:  0.5191256830601093\n",
            "Average Heart MLP Accuracy Score:  0.7431693989071038\n",
            "Average Heart GB Accuracy Score:  0.7677595628415301\n"
          ]
        },
        {
          "output_type": "stream",
          "name": "stderr",
          "text": [
            "/usr/local/lib/python3.7/dist-packages/sklearn/neural_network/_multilayer_perceptron.py:696: ConvergenceWarning: Stochastic Optimizer: Maximum iterations (100) reached and the optimization hasn't converged yet.\n",
            "  ConvergenceWarning,\n"
          ]
        }
      ]
    },
    {
      "cell_type": "markdown",
      "source": [
        "Marketing Data"
      ],
      "metadata": {
        "id": "k8uMXJxMsm7O"
      }
    },
    {
      "cell_type": "code",
      "source": [
        "STrand = np.random.RandomState()\n",
        "\n",
        "#for calculating average\n",
        "M_SDT_S = 0\n",
        "M_RF_S = 0\n",
        "M_KNN_S = 0\n",
        "M_MLP_S = 0\n",
        "M_GB_S = 0\n",
        "\n",
        "for l in Levels:\n",
        "  M_SDT = tree.DecisionTreeClassifier()\n",
        "  M_RF = RandomForestClassifier()\n",
        "  M_KNN = KNeighborsClassifier()\n",
        "  M_MLP = MLPClassifier(random_state=1, max_iter=100)\n",
        "  M_GB = GradientBoostingClassifier(n_estimators=100, learning_rate=1.0, max_depth=1, random_state=0)\n",
        "  M_SVM = SVC() # does not work\n",
        "\n",
        "  M_random_unlabeled_points = STrand.rand(M_training_label.shape[0]) < l\n",
        "  M_labels = np.copy(M_training_label)\n",
        "  M_labels[M_random_unlabeled_points] = -1\n",
        "\n",
        "  print(\"Scores when we have \",(l*100),\"% of unlabelled data:\\n\")\n",
        "  #Single Decision Tree\n",
        "  M_ST_SDT = SelfTrainingClassifier(M_SDT)\n",
        "  M_ST_SDT.fit(M_training_data,M_labels.ravel())\n",
        "\n",
        "  M_ST_SDT_Pred=M_ST_SDT.predict(M_testing_data)\n",
        "  M_ST_SDT_score = accuracy_score(M_testing_label, M_ST_SDT_Pred)\n",
        "  M_SDT_S = M_SDT_S + M_ST_SDT_score\n",
        "  print(\"Market SDT Accuracy Score: \",M_ST_SDT_score)\n",
        "\n",
        "  #Random Forest\n",
        "  M_ST_RF = SelfTrainingClassifier(M_RF)\n",
        "  M_ST_RF.fit(M_training_data,M_labels.ravel())\n",
        "\n",
        "  M_ST_RF_Pred=M_ST_RF.predict(M_testing_data)\n",
        "  M_ST_RF_score = accuracy_score(M_testing_label, M_ST_RF_Pred)\n",
        "  M_RF_S = M_RF_S + M_ST_RF_score\n",
        "  print(\"Market RF Accuracy Score: \",M_ST_RF_score)\n",
        "\n",
        "  #K-nearest neighbor\n",
        "  M_ST_KNN = SelfTrainingClassifier(M_KNN)\n",
        "  M_ST_KNN.fit(M_training_data,M_labels.ravel())\n",
        "\n",
        "  M_ST_KNN_Pred=M_ST_KNN.predict(M_testing_data)\n",
        "  M_ST_KNN_score = accuracy_score(M_testing_label, M_ST_KNN_Pred)\n",
        "  M_KNN_S = M_KNN_S + M_ST_KNN_score\n",
        "  print(\"Market KNN Accuracy Score: \",M_ST_KNN_score)\n",
        "\n",
        "  #Multi-layer Perceptron\n",
        "\n",
        "  M_ST_MLP = SelfTrainingClassifier(M_MLP)\n",
        "  M_ST_MLP.fit(M_training_data,M_labels.ravel())\n",
        "\n",
        "  M_ST_MLP_Pred=M_ST_MLP.predict(M_testing_data)\n",
        "  M_ST_MLP_score = accuracy_score(M_testing_label, M_ST_MLP_Pred)\n",
        "  M_MLP_S = M_MLP_S + M_ST_MLP_score\n",
        "  print(\"Market MLP Accuracy Score: \",M_ST_MLP_score)\n",
        "\n",
        "  #Gradient Boosting\n",
        "  M_ST_GB = SelfTrainingClassifier(M_GB)\n",
        "  M_ST_GB.fit(M_training_data,M_labels.ravel())\n",
        "\n",
        "  M_ST_GB_Pred=M_ST_GB.predict(M_testing_data)\n",
        "  M_ST_GB_score = accuracy_score(M_testing_label, M_ST_GB_Pred)\n",
        "  M_GB_S = M_GB_S + M_ST_GB_score\n",
        "  print(\"Market GB Accuracy Score: \",M_ST_GB_score)\n",
        "\n",
        "  print(\"\\n\\n\")\n",
        "\n",
        "  # Support Vector Machine --> base_estimator (Pipeline) should implement predict_proba!\n",
        "  # M_ST_SVM = SelfTrainingClassifier(M_SVM)\n",
        "  # M_ST_SVM.fit(M_training_data,M_labels.ravel())\n",
        "\n",
        "  # M_ST_SVM_Pred=M_ST_SVM.predict(M_testing_data)\n",
        "  # M_ST_SVM_score = accuracy_score(M_testing_label, M_ST_SVM_Pred)\n",
        "  # print(\"Market SVM Accuracy Score: \",M_ST_SVM_score)\n",
        "\n",
        "print(\"Average Market SDT Accuracy Score: \",M_SDT_S/len(Levels))\n",
        "print(\"Average Market RF Accuracy Score: \",M_RF_S/len(Levels))\n",
        "print(\"Average Market KNN Accuracy Score: \",M_KNN_S/len(Levels))\n",
        "print(\"Average Market MLP Accuracy Score: \",M_MLP_S/len(Levels))\n",
        "print(\"Average Market GB Accuracy Score: \",M_GB_S/len(Levels))"
      ],
      "metadata": {
        "colab": {
          "base_uri": "https://localhost:8080/"
        },
        "id": "vX1KUizgsq0W",
        "outputId": "f1d7e659-cc40-42cc-a6b6-ebb0492e6c09"
      },
      "execution_count": 42,
      "outputs": [
        {
          "output_type": "stream",
          "name": "stdout",
          "text": [
            "Scores when we have  0 % of unlabelled data:\n",
            "\n",
            "Market SDT Accuracy Score:  0.8526785714285714\n"
          ]
        },
        {
          "output_type": "stream",
          "name": "stderr",
          "text": [
            "/usr/local/lib/python3.7/dist-packages/sklearn/semi_supervised/_self_training.py:210: UserWarning: y contains no unlabeled samples\n",
            "  warnings.warn(\"y contains no unlabeled samples\", UserWarning)\n",
            "/usr/local/lib/python3.7/dist-packages/sklearn/semi_supervised/_self_training.py:210: UserWarning: y contains no unlabeled samples\n",
            "  warnings.warn(\"y contains no unlabeled samples\", UserWarning)\n"
          ]
        },
        {
          "output_type": "stream",
          "name": "stdout",
          "text": [
            "Market RF Accuracy Score:  0.8705357142857143\n",
            "Market KNN Accuracy Score:  0.796875\n"
          ]
        },
        {
          "output_type": "stream",
          "name": "stderr",
          "text": [
            "/usr/local/lib/python3.7/dist-packages/sklearn/semi_supervised/_self_training.py:210: UserWarning: y contains no unlabeled samples\n",
            "  warnings.warn(\"y contains no unlabeled samples\", UserWarning)\n",
            "/usr/local/lib/python3.7/dist-packages/sklearn/semi_supervised/_self_training.py:210: UserWarning: y contains no unlabeled samples\n",
            "  warnings.warn(\"y contains no unlabeled samples\", UserWarning)\n",
            "/usr/local/lib/python3.7/dist-packages/sklearn/neural_network/_multilayer_perceptron.py:696: ConvergenceWarning: Stochastic Optimizer: Maximum iterations (100) reached and the optimization hasn't converged yet.\n",
            "  ConvergenceWarning,\n",
            "/usr/local/lib/python3.7/dist-packages/sklearn/semi_supervised/_self_training.py:210: UserWarning: y contains no unlabeled samples\n",
            "  warnings.warn(\"y contains no unlabeled samples\", UserWarning)\n"
          ]
        },
        {
          "output_type": "stream",
          "name": "stdout",
          "text": [
            "Market MLP Accuracy Score:  0.8928571428571429\n",
            "Market GB Accuracy Score:  0.8660714285714286\n",
            "\n",
            "\n",
            "\n",
            "Scores when we have  10.0 % of unlabelled data:\n",
            "\n",
            "Market SDT Accuracy Score:  0.8348214285714286\n",
            "Market RF Accuracy Score:  0.8727678571428571\n",
            "Market KNN Accuracy Score:  0.8013392857142857\n"
          ]
        },
        {
          "output_type": "stream",
          "name": "stderr",
          "text": [
            "/usr/local/lib/python3.7/dist-packages/sklearn/neural_network/_multilayer_perceptron.py:696: ConvergenceWarning: Stochastic Optimizer: Maximum iterations (100) reached and the optimization hasn't converged yet.\n",
            "  ConvergenceWarning,\n",
            "/usr/local/lib/python3.7/dist-packages/sklearn/neural_network/_multilayer_perceptron.py:696: ConvergenceWarning: Stochastic Optimizer: Maximum iterations (100) reached and the optimization hasn't converged yet.\n",
            "  ConvergenceWarning,\n",
            "/usr/local/lib/python3.7/dist-packages/sklearn/neural_network/_multilayer_perceptron.py:696: ConvergenceWarning: Stochastic Optimizer: Maximum iterations (100) reached and the optimization hasn't converged yet.\n",
            "  ConvergenceWarning,\n",
            "/usr/local/lib/python3.7/dist-packages/sklearn/neural_network/_multilayer_perceptron.py:696: ConvergenceWarning: Stochastic Optimizer: Maximum iterations (100) reached and the optimization hasn't converged yet.\n",
            "  ConvergenceWarning,\n"
          ]
        },
        {
          "output_type": "stream",
          "name": "stdout",
          "text": [
            "Market MLP Accuracy Score:  0.8861607142857143\n",
            "Market GB Accuracy Score:  0.8705357142857143\n",
            "\n",
            "\n",
            "\n",
            "Scores when we have  20.0 % of unlabelled data:\n",
            "\n",
            "Market SDT Accuracy Score:  0.8392857142857143\n",
            "Market RF Accuracy Score:  0.8861607142857143\n",
            "Market KNN Accuracy Score:  0.78125\n"
          ]
        },
        {
          "output_type": "stream",
          "name": "stderr",
          "text": [
            "/usr/local/lib/python3.7/dist-packages/sklearn/neural_network/_multilayer_perceptron.py:696: ConvergenceWarning: Stochastic Optimizer: Maximum iterations (100) reached and the optimization hasn't converged yet.\n",
            "  ConvergenceWarning,\n",
            "/usr/local/lib/python3.7/dist-packages/sklearn/neural_network/_multilayer_perceptron.py:696: ConvergenceWarning: Stochastic Optimizer: Maximum iterations (100) reached and the optimization hasn't converged yet.\n",
            "  ConvergenceWarning,\n",
            "/usr/local/lib/python3.7/dist-packages/sklearn/neural_network/_multilayer_perceptron.py:696: ConvergenceWarning: Stochastic Optimizer: Maximum iterations (100) reached and the optimization hasn't converged yet.\n",
            "  ConvergenceWarning,\n",
            "/usr/local/lib/python3.7/dist-packages/sklearn/neural_network/_multilayer_perceptron.py:696: ConvergenceWarning: Stochastic Optimizer: Maximum iterations (100) reached and the optimization hasn't converged yet.\n",
            "  ConvergenceWarning,\n",
            "/usr/local/lib/python3.7/dist-packages/sklearn/neural_network/_multilayer_perceptron.py:696: ConvergenceWarning: Stochastic Optimizer: Maximum iterations (100) reached and the optimization hasn't converged yet.\n",
            "  ConvergenceWarning,\n"
          ]
        },
        {
          "output_type": "stream",
          "name": "stdout",
          "text": [
            "Market MLP Accuracy Score:  0.8928571428571429\n",
            "Market GB Accuracy Score:  0.8794642857142857\n",
            "\n",
            "\n",
            "\n",
            "Scores when we have  50.0 % of unlabelled data:\n",
            "\n",
            "Market SDT Accuracy Score:  0.8102678571428571\n",
            "Market RF Accuracy Score:  0.84375\n",
            "Market KNN Accuracy Score:  0.7790178571428571\n"
          ]
        },
        {
          "output_type": "stream",
          "name": "stderr",
          "text": [
            "/usr/local/lib/python3.7/dist-packages/sklearn/neural_network/_multilayer_perceptron.py:696: ConvergenceWarning: Stochastic Optimizer: Maximum iterations (100) reached and the optimization hasn't converged yet.\n",
            "  ConvergenceWarning,\n",
            "/usr/local/lib/python3.7/dist-packages/sklearn/neural_network/_multilayer_perceptron.py:696: ConvergenceWarning: Stochastic Optimizer: Maximum iterations (100) reached and the optimization hasn't converged yet.\n",
            "  ConvergenceWarning,\n",
            "/usr/local/lib/python3.7/dist-packages/sklearn/neural_network/_multilayer_perceptron.py:696: ConvergenceWarning: Stochastic Optimizer: Maximum iterations (100) reached and the optimization hasn't converged yet.\n",
            "  ConvergenceWarning,\n",
            "/usr/local/lib/python3.7/dist-packages/sklearn/neural_network/_multilayer_perceptron.py:696: ConvergenceWarning: Stochastic Optimizer: Maximum iterations (100) reached and the optimization hasn't converged yet.\n",
            "  ConvergenceWarning,\n",
            "/usr/local/lib/python3.7/dist-packages/sklearn/neural_network/_multilayer_perceptron.py:696: ConvergenceWarning: Stochastic Optimizer: Maximum iterations (100) reached and the optimization hasn't converged yet.\n",
            "  ConvergenceWarning,\n",
            "/usr/local/lib/python3.7/dist-packages/sklearn/neural_network/_multilayer_perceptron.py:696: ConvergenceWarning: Stochastic Optimizer: Maximum iterations (100) reached and the optimization hasn't converged yet.\n",
            "  ConvergenceWarning,\n",
            "/usr/local/lib/python3.7/dist-packages/sklearn/neural_network/_multilayer_perceptron.py:696: ConvergenceWarning: Stochastic Optimizer: Maximum iterations (100) reached and the optimization hasn't converged yet.\n",
            "  ConvergenceWarning,\n",
            "/usr/local/lib/python3.7/dist-packages/sklearn/neural_network/_multilayer_perceptron.py:696: ConvergenceWarning: Stochastic Optimizer: Maximum iterations (100) reached and the optimization hasn't converged yet.\n",
            "  ConvergenceWarning,\n",
            "/usr/local/lib/python3.7/dist-packages/sklearn/neural_network/_multilayer_perceptron.py:696: ConvergenceWarning: Stochastic Optimizer: Maximum iterations (100) reached and the optimization hasn't converged yet.\n",
            "  ConvergenceWarning,\n"
          ]
        },
        {
          "output_type": "stream",
          "name": "stdout",
          "text": [
            "Market MLP Accuracy Score:  0.8616071428571429\n",
            "Market GB Accuracy Score:  0.8883928571428571\n",
            "\n",
            "\n",
            "\n",
            "Scores when we have  90.0 % of unlabelled data:\n",
            "\n",
            "Market SDT Accuracy Score:  0.7767857142857143\n",
            "Market RF Accuracy Score:  0.8013392857142857\n",
            "Market KNN Accuracy Score:  0.7142857142857143\n"
          ]
        },
        {
          "output_type": "stream",
          "name": "stderr",
          "text": [
            "/usr/local/lib/python3.7/dist-packages/sklearn/neural_network/_multilayer_perceptron.py:696: ConvergenceWarning: Stochastic Optimizer: Maximum iterations (100) reached and the optimization hasn't converged yet.\n",
            "  ConvergenceWarning,\n",
            "/usr/local/lib/python3.7/dist-packages/sklearn/neural_network/_multilayer_perceptron.py:696: ConvergenceWarning: Stochastic Optimizer: Maximum iterations (100) reached and the optimization hasn't converged yet.\n",
            "  ConvergenceWarning,\n",
            "/usr/local/lib/python3.7/dist-packages/sklearn/neural_network/_multilayer_perceptron.py:696: ConvergenceWarning: Stochastic Optimizer: Maximum iterations (100) reached and the optimization hasn't converged yet.\n",
            "  ConvergenceWarning,\n",
            "/usr/local/lib/python3.7/dist-packages/sklearn/neural_network/_multilayer_perceptron.py:696: ConvergenceWarning: Stochastic Optimizer: Maximum iterations (100) reached and the optimization hasn't converged yet.\n",
            "  ConvergenceWarning,\n",
            "/usr/local/lib/python3.7/dist-packages/sklearn/neural_network/_multilayer_perceptron.py:696: ConvergenceWarning: Stochastic Optimizer: Maximum iterations (100) reached and the optimization hasn't converged yet.\n",
            "  ConvergenceWarning,\n",
            "/usr/local/lib/python3.7/dist-packages/sklearn/neural_network/_multilayer_perceptron.py:696: ConvergenceWarning: Stochastic Optimizer: Maximum iterations (100) reached and the optimization hasn't converged yet.\n",
            "  ConvergenceWarning,\n",
            "/usr/local/lib/python3.7/dist-packages/sklearn/neural_network/_multilayer_perceptron.py:696: ConvergenceWarning: Stochastic Optimizer: Maximum iterations (100) reached and the optimization hasn't converged yet.\n",
            "  ConvergenceWarning,\n",
            "/usr/local/lib/python3.7/dist-packages/sklearn/neural_network/_multilayer_perceptron.py:696: ConvergenceWarning: Stochastic Optimizer: Maximum iterations (100) reached and the optimization hasn't converged yet.\n",
            "  ConvergenceWarning,\n",
            "/usr/local/lib/python3.7/dist-packages/sklearn/neural_network/_multilayer_perceptron.py:696: ConvergenceWarning: Stochastic Optimizer: Maximum iterations (100) reached and the optimization hasn't converged yet.\n",
            "  ConvergenceWarning,\n",
            "/usr/local/lib/python3.7/dist-packages/sklearn/neural_network/_multilayer_perceptron.py:696: ConvergenceWarning: Stochastic Optimizer: Maximum iterations (100) reached and the optimization hasn't converged yet.\n",
            "  ConvergenceWarning,\n",
            "/usr/local/lib/python3.7/dist-packages/sklearn/neural_network/_multilayer_perceptron.py:696: ConvergenceWarning: Stochastic Optimizer: Maximum iterations (100) reached and the optimization hasn't converged yet.\n",
            "  ConvergenceWarning,\n"
          ]
        },
        {
          "output_type": "stream",
          "name": "stdout",
          "text": [
            "Market MLP Accuracy Score:  0.78125\n",
            "Market GB Accuracy Score:  0.8013392857142857\n",
            "\n",
            "\n",
            "\n",
            "Scores when we have  95.0 % of unlabelled data:\n",
            "\n",
            "Market SDT Accuracy Score:  0.7745535714285714\n",
            "Market RF Accuracy Score:  0.8325892857142857\n",
            "Market KNN Accuracy Score:  0.7522321428571429\n"
          ]
        },
        {
          "output_type": "stream",
          "name": "stderr",
          "text": [
            "/usr/local/lib/python3.7/dist-packages/sklearn/neural_network/_multilayer_perceptron.py:696: ConvergenceWarning: Stochastic Optimizer: Maximum iterations (100) reached and the optimization hasn't converged yet.\n",
            "  ConvergenceWarning,\n",
            "/usr/local/lib/python3.7/dist-packages/sklearn/neural_network/_multilayer_perceptron.py:696: ConvergenceWarning: Stochastic Optimizer: Maximum iterations (100) reached and the optimization hasn't converged yet.\n",
            "  ConvergenceWarning,\n",
            "/usr/local/lib/python3.7/dist-packages/sklearn/neural_network/_multilayer_perceptron.py:696: ConvergenceWarning: Stochastic Optimizer: Maximum iterations (100) reached and the optimization hasn't converged yet.\n",
            "  ConvergenceWarning,\n",
            "/usr/local/lib/python3.7/dist-packages/sklearn/neural_network/_multilayer_perceptron.py:696: ConvergenceWarning: Stochastic Optimizer: Maximum iterations (100) reached and the optimization hasn't converged yet.\n",
            "  ConvergenceWarning,\n",
            "/usr/local/lib/python3.7/dist-packages/sklearn/neural_network/_multilayer_perceptron.py:696: ConvergenceWarning: Stochastic Optimizer: Maximum iterations (100) reached and the optimization hasn't converged yet.\n",
            "  ConvergenceWarning,\n",
            "/usr/local/lib/python3.7/dist-packages/sklearn/neural_network/_multilayer_perceptron.py:696: ConvergenceWarning: Stochastic Optimizer: Maximum iterations (100) reached and the optimization hasn't converged yet.\n",
            "  ConvergenceWarning,\n",
            "/usr/local/lib/python3.7/dist-packages/sklearn/neural_network/_multilayer_perceptron.py:696: ConvergenceWarning: Stochastic Optimizer: Maximum iterations (100) reached and the optimization hasn't converged yet.\n",
            "  ConvergenceWarning,\n",
            "/usr/local/lib/python3.7/dist-packages/sklearn/neural_network/_multilayer_perceptron.py:696: ConvergenceWarning: Stochastic Optimizer: Maximum iterations (100) reached and the optimization hasn't converged yet.\n",
            "  ConvergenceWarning,\n",
            "/usr/local/lib/python3.7/dist-packages/sklearn/neural_network/_multilayer_perceptron.py:696: ConvergenceWarning: Stochastic Optimizer: Maximum iterations (100) reached and the optimization hasn't converged yet.\n",
            "  ConvergenceWarning,\n",
            "/usr/local/lib/python3.7/dist-packages/sklearn/neural_network/_multilayer_perceptron.py:696: ConvergenceWarning: Stochastic Optimizer: Maximum iterations (100) reached and the optimization hasn't converged yet.\n",
            "  ConvergenceWarning,\n",
            "/usr/local/lib/python3.7/dist-packages/sklearn/neural_network/_multilayer_perceptron.py:696: ConvergenceWarning: Stochastic Optimizer: Maximum iterations (100) reached and the optimization hasn't converged yet.\n",
            "  ConvergenceWarning,\n"
          ]
        },
        {
          "output_type": "stream",
          "name": "stdout",
          "text": [
            "Market MLP Accuracy Score:  0.7991071428571429\n",
            "Market GB Accuracy Score:  0.8191964285714286\n",
            "\n",
            "\n",
            "\n",
            "Average Market SDT Accuracy Score:  0.8147321428571428\n",
            "Average Market RF Accuracy Score:  0.8511904761904762\n",
            "Average Market KNN Accuracy Score:  0.7708333333333334\n",
            "Average Market MLP Accuracy Score:  0.8523065476190476\n",
            "Average Market GB Accuracy Score:  0.8541666666666666\n"
          ]
        }
      ]
    },
    {
      "cell_type": "markdown",
      "source": [
        "Online Shoppers Data"
      ],
      "metadata": {
        "id": "BzdOS1_QsrQC"
      }
    },
    {
      "cell_type": "code",
      "source": [
        "STrand = np.random.RandomState()\n",
        "\n",
        "#for calculating average\n",
        "S_SDT_S = 0\n",
        "S_RF_S = 0\n",
        "S_KNN_S = 0\n",
        "S_MLP_S = 0\n",
        "S_GB_S = 0\n",
        "\n",
        "for l in Levels:\n",
        "  S_SDT = tree.DecisionTreeClassifier()\n",
        "  S_RF = RandomForestClassifier()\n",
        "  S_KNN = KNeighborsClassifier()\n",
        "  S_MLP = MLPClassifier(random_state=1, max_iter=100)\n",
        "  S_GB = GradientBoostingClassifier(n_estimators=100, learning_rate=1.0, max_depth=1, random_state=0)\n",
        "  S_SVM = SVC() # does not work\n",
        "\n",
        "  S_random_unlabeled_points = STrand.rand(S_training_label.shape[0]) < l\n",
        "  S_labels = np.copy(S_training_label)\n",
        "  S_labels[S_random_unlabeled_points] = -1\n",
        "\n",
        "  print(\"Scores when we have \",(l*100),\"% of unlabelled data:\\n\")\n",
        "  #Single Decision Tree\n",
        "  S_ST_SDT = SelfTrainingClassifier(S_SDT)\n",
        "  S_ST_SDT.fit(S_training_data,S_labels.ravel())\n",
        "\n",
        "  S_ST_SDT_Pred=S_ST_SDT.predict(S_testing_data)\n",
        "  S_ST_SDT_score = accuracy_score(S_testing_label, S_ST_SDT_Pred)\n",
        "  S_SDT_S = S_SDT_S + S_ST_SDT_score\n",
        "  print(\"Online Shoppers SDT Accuracy Score: \",S_ST_SDT_score)\n",
        "\n",
        "  #Random Forest\n",
        "  S_ST_RF = SelfTrainingClassifier(S_RF)\n",
        "  S_ST_RF.fit(S_training_data,S_labels.ravel())\n",
        "\n",
        "  S_ST_RF_Pred=S_ST_RF.predict(S_testing_data)\n",
        "  S_ST_RF_score = accuracy_score(S_testing_label, S_ST_RF_Pred)\n",
        "  S_RF_S = S_RF_S + S_ST_RF_score\n",
        "  print(\"Online Shoppers RF Accuracy Score: \",S_ST_RF_score)\n",
        "\n",
        "  #K-nearest neighbor\n",
        "  S_ST_KNN = SelfTrainingClassifier(S_KNN)\n",
        "  S_ST_KNN.fit(S_training_data,S_labels.ravel())\n",
        "\n",
        "  S_ST_KNN_Pred=S_ST_KNN.predict(S_testing_data)\n",
        "  S_ST_KNN_score = accuracy_score(S_testing_label, S_ST_KNN_Pred)\n",
        "  S_KNN_S = S_KNN_S + S_ST_KNN_score\n",
        "  print(\"Online Shoppers KNN Accuracy Score: \",S_ST_KNN_score)\n",
        "\n",
        "  #Multi-layer Perceptron\n",
        "\n",
        "  S_ST_MLP = SelfTrainingClassifier(S_MLP)\n",
        "  S_ST_MLP.fit(S_training_data,S_labels.ravel())\n",
        "\n",
        "  S_ST_MLP_Pred=S_ST_MLP.predict(S_testing_data)\n",
        "  S_ST_MLP_score = accuracy_score(S_testing_label, S_ST_MLP_Pred)\n",
        "  S_MLP_S = S_MLP_S + S_ST_MLP_score\n",
        "  print(\"Online Shoppers MLP Accuracy Score: \",S_ST_MLP_score)\n",
        "\n",
        "  #Gradient Boosting\n",
        "  S_ST_GB = SelfTrainingClassifier(S_GB)\n",
        "  S_ST_GB.fit(S_training_data,S_labels.ravel())\n",
        "\n",
        "  S_ST_GB_Pred=S_ST_GB.predict(S_testing_data)\n",
        "  S_ST_GB_score = accuracy_score(S_testing_label, S_ST_GB_Pred)\n",
        "  S_GB_S = S_GB_S + S_ST_GB_score\n",
        "  print(\"Online Shoppers GB Accuracy Score: \",S_ST_GB_score)\n",
        "\n",
        "  print(\"\\n\\n\")\n",
        "\n",
        "  # Support Vector Machine --> base_estimator (Pipeline) should implement predict_proba!\n",
        "  # S_ST_SVM = SelfTrainingClassifier(S_SVM)\n",
        "  # S_ST_SVM.fit(S_training_data,S_labels.ravel())\n",
        "\n",
        "  # S_ST_SVS_Pred=S_ST_SVM.predict(S_testing_data)\n",
        "  # S_ST_SVS_score = accuracy_score(S_testing_label, S_ST_SVS_Pred)\n",
        "  # print(\"Online Shoppers SVM Accuracy Score: \",S_ST_SVS_score)\n",
        "\n",
        "print(\"Average Online Shoppers SDT Accuracy Score: \",S_SDT_S/len(Levels))\n",
        "print(\"Average Online Shoppers RF Accuracy Score: \",S_RF_S/len(Levels))\n",
        "print(\"Average Online Shoppers KNN Accuracy Score: \",S_KNN_S/len(Levels))\n",
        "print(\"Average Online Shoppers MLP Accuracy Score: \",S_MLP_S/len(Levels))\n",
        "print(\"Average Online Shoppers GB Accuracy Score: \",S_GB_S/len(Levels))"
      ],
      "metadata": {
        "colab": {
          "base_uri": "https://localhost:8080/"
        },
        "id": "Q4fEDGccst4w",
        "outputId": "2c879e7b-5616-42ac-f10c-53d7da61e9cc"
      },
      "execution_count": 43,
      "outputs": [
        {
          "output_type": "stream",
          "name": "stdout",
          "text": [
            "Scores when we have  0 % of unlabelled data:\n",
            "\n",
            "Online Shoppers SDT Accuracy Score:  0.8661800486618005\n"
          ]
        },
        {
          "output_type": "stream",
          "name": "stderr",
          "text": [
            "/usr/local/lib/python3.7/dist-packages/sklearn/semi_supervised/_self_training.py:210: UserWarning: y contains no unlabeled samples\n",
            "  warnings.warn(\"y contains no unlabeled samples\", UserWarning)\n",
            "/usr/local/lib/python3.7/dist-packages/sklearn/semi_supervised/_self_training.py:210: UserWarning: y contains no unlabeled samples\n",
            "  warnings.warn(\"y contains no unlabeled samples\", UserWarning)\n"
          ]
        },
        {
          "output_type": "stream",
          "name": "stdout",
          "text": [
            "Online Shoppers RF Accuracy Score:  0.8937550689375506\n"
          ]
        },
        {
          "output_type": "stream",
          "name": "stderr",
          "text": [
            "/usr/local/lib/python3.7/dist-packages/sklearn/semi_supervised/_self_training.py:210: UserWarning: y contains no unlabeled samples\n",
            "  warnings.warn(\"y contains no unlabeled samples\", UserWarning)\n"
          ]
        },
        {
          "output_type": "stream",
          "name": "stdout",
          "text": [
            "Online Shoppers KNN Accuracy Score:  0.875506893755069\n"
          ]
        },
        {
          "output_type": "stream",
          "name": "stderr",
          "text": [
            "/usr/local/lib/python3.7/dist-packages/sklearn/semi_supervised/_self_training.py:210: UserWarning: y contains no unlabeled samples\n",
            "  warnings.warn(\"y contains no unlabeled samples\", UserWarning)\n",
            "/usr/local/lib/python3.7/dist-packages/sklearn/neural_network/_multilayer_perceptron.py:696: ConvergenceWarning: Stochastic Optimizer: Maximum iterations (100) reached and the optimization hasn't converged yet.\n",
            "  ConvergenceWarning,\n",
            "/usr/local/lib/python3.7/dist-packages/sklearn/semi_supervised/_self_training.py:210: UserWarning: y contains no unlabeled samples\n",
            "  warnings.warn(\"y contains no unlabeled samples\", UserWarning)\n"
          ]
        },
        {
          "output_type": "stream",
          "name": "stdout",
          "text": [
            "Online Shoppers MLP Accuracy Score:  0.8933495539334956\n",
            "Online Shoppers GB Accuracy Score:  0.8905109489051095\n",
            "\n",
            "\n",
            "\n",
            "Scores when we have  10.0 % of unlabelled data:\n",
            "\n",
            "Online Shoppers SDT Accuracy Score:  0.8641524736415247\n",
            "Online Shoppers RF Accuracy Score:  0.9010543390105434\n",
            "Online Shoppers KNN Accuracy Score:  0.8726682887266829\n"
          ]
        },
        {
          "output_type": "stream",
          "name": "stderr",
          "text": [
            "/usr/local/lib/python3.7/dist-packages/sklearn/neural_network/_multilayer_perceptron.py:696: ConvergenceWarning: Stochastic Optimizer: Maximum iterations (100) reached and the optimization hasn't converged yet.\n",
            "  ConvergenceWarning,\n",
            "/usr/local/lib/python3.7/dist-packages/sklearn/neural_network/_multilayer_perceptron.py:696: ConvergenceWarning: Stochastic Optimizer: Maximum iterations (100) reached and the optimization hasn't converged yet.\n",
            "  ConvergenceWarning,\n",
            "/usr/local/lib/python3.7/dist-packages/sklearn/neural_network/_multilayer_perceptron.py:696: ConvergenceWarning: Stochastic Optimizer: Maximum iterations (100) reached and the optimization hasn't converged yet.\n",
            "  ConvergenceWarning,\n",
            "/usr/local/lib/python3.7/dist-packages/sklearn/neural_network/_multilayer_perceptron.py:696: ConvergenceWarning: Stochastic Optimizer: Maximum iterations (100) reached and the optimization hasn't converged yet.\n",
            "  ConvergenceWarning,\n",
            "/usr/local/lib/python3.7/dist-packages/sklearn/neural_network/_multilayer_perceptron.py:696: ConvergenceWarning: Stochastic Optimizer: Maximum iterations (100) reached and the optimization hasn't converged yet.\n",
            "  ConvergenceWarning,\n"
          ]
        },
        {
          "output_type": "stream",
          "name": "stdout",
          "text": [
            "Online Shoppers MLP Accuracy Score:  0.8978102189781022\n",
            "Online Shoppers GB Accuracy Score:  0.8905109489051095\n",
            "\n",
            "\n",
            "\n",
            "Scores when we have  20.0 % of unlabelled data:\n",
            "\n",
            "Online Shoppers SDT Accuracy Score:  0.862124898621249\n",
            "Online Shoppers RF Accuracy Score:  0.8994322789943228\n",
            "Online Shoppers KNN Accuracy Score:  0.8759124087591241\n"
          ]
        },
        {
          "output_type": "stream",
          "name": "stderr",
          "text": [
            "/usr/local/lib/python3.7/dist-packages/sklearn/neural_network/_multilayer_perceptron.py:696: ConvergenceWarning: Stochastic Optimizer: Maximum iterations (100) reached and the optimization hasn't converged yet.\n",
            "  ConvergenceWarning,\n",
            "/usr/local/lib/python3.7/dist-packages/sklearn/neural_network/_multilayer_perceptron.py:696: ConvergenceWarning: Stochastic Optimizer: Maximum iterations (100) reached and the optimization hasn't converged yet.\n",
            "  ConvergenceWarning,\n",
            "/usr/local/lib/python3.7/dist-packages/sklearn/neural_network/_multilayer_perceptron.py:696: ConvergenceWarning: Stochastic Optimizer: Maximum iterations (100) reached and the optimization hasn't converged yet.\n",
            "  ConvergenceWarning,\n",
            "/usr/local/lib/python3.7/dist-packages/sklearn/neural_network/_multilayer_perceptron.py:696: ConvergenceWarning: Stochastic Optimizer: Maximum iterations (100) reached and the optimization hasn't converged yet.\n",
            "  ConvergenceWarning,\n",
            "/usr/local/lib/python3.7/dist-packages/sklearn/neural_network/_multilayer_perceptron.py:696: ConvergenceWarning: Stochastic Optimizer: Maximum iterations (100) reached and the optimization hasn't converged yet.\n",
            "  ConvergenceWarning,\n",
            "/usr/local/lib/python3.7/dist-packages/sklearn/neural_network/_multilayer_perceptron.py:696: ConvergenceWarning: Stochastic Optimizer: Maximum iterations (100) reached and the optimization hasn't converged yet.\n",
            "  ConvergenceWarning,\n",
            "/usr/local/lib/python3.7/dist-packages/sklearn/neural_network/_multilayer_perceptron.py:696: ConvergenceWarning: Stochastic Optimizer: Maximum iterations (100) reached and the optimization hasn't converged yet.\n",
            "  ConvergenceWarning,\n",
            "/usr/local/lib/python3.7/dist-packages/sklearn/neural_network/_multilayer_perceptron.py:696: ConvergenceWarning: Stochastic Optimizer: Maximum iterations (100) reached and the optimization hasn't converged yet.\n",
            "  ConvergenceWarning,\n",
            "/usr/local/lib/python3.7/dist-packages/sklearn/neural_network/_multilayer_perceptron.py:696: ConvergenceWarning: Stochastic Optimizer: Maximum iterations (100) reached and the optimization hasn't converged yet.\n",
            "  ConvergenceWarning,\n",
            "/usr/local/lib/python3.7/dist-packages/sklearn/neural_network/_multilayer_perceptron.py:696: ConvergenceWarning: Stochastic Optimizer: Maximum iterations (100) reached and the optimization hasn't converged yet.\n",
            "  ConvergenceWarning,\n",
            "/usr/local/lib/python3.7/dist-packages/sklearn/neural_network/_multilayer_perceptron.py:696: ConvergenceWarning: Stochastic Optimizer: Maximum iterations (100) reached and the optimization hasn't converged yet.\n",
            "  ConvergenceWarning,\n"
          ]
        },
        {
          "output_type": "stream",
          "name": "stdout",
          "text": [
            "Online Shoppers MLP Accuracy Score:  0.8957826439578265\n",
            "Online Shoppers GB Accuracy Score:  0.8880778588807786\n",
            "\n",
            "\n",
            "\n",
            "Scores when we have  50.0 % of unlabelled data:\n",
            "\n",
            "Online Shoppers SDT Accuracy Score:  0.8495539334955393\n",
            "Online Shoppers RF Accuracy Score:  0.8961881589618816\n",
            "Online Shoppers KNN Accuracy Score:  0.8710462287104623\n"
          ]
        },
        {
          "output_type": "stream",
          "name": "stderr",
          "text": [
            "/usr/local/lib/python3.7/dist-packages/sklearn/neural_network/_multilayer_perceptron.py:696: ConvergenceWarning: Stochastic Optimizer: Maximum iterations (100) reached and the optimization hasn't converged yet.\n",
            "  ConvergenceWarning,\n",
            "/usr/local/lib/python3.7/dist-packages/sklearn/neural_network/_multilayer_perceptron.py:696: ConvergenceWarning: Stochastic Optimizer: Maximum iterations (100) reached and the optimization hasn't converged yet.\n",
            "  ConvergenceWarning,\n",
            "/usr/local/lib/python3.7/dist-packages/sklearn/neural_network/_multilayer_perceptron.py:696: ConvergenceWarning: Stochastic Optimizer: Maximum iterations (100) reached and the optimization hasn't converged yet.\n",
            "  ConvergenceWarning,\n",
            "/usr/local/lib/python3.7/dist-packages/sklearn/neural_network/_multilayer_perceptron.py:696: ConvergenceWarning: Stochastic Optimizer: Maximum iterations (100) reached and the optimization hasn't converged yet.\n",
            "  ConvergenceWarning,\n",
            "/usr/local/lib/python3.7/dist-packages/sklearn/neural_network/_multilayer_perceptron.py:696: ConvergenceWarning: Stochastic Optimizer: Maximum iterations (100) reached and the optimization hasn't converged yet.\n",
            "  ConvergenceWarning,\n",
            "/usr/local/lib/python3.7/dist-packages/sklearn/neural_network/_multilayer_perceptron.py:696: ConvergenceWarning: Stochastic Optimizer: Maximum iterations (100) reached and the optimization hasn't converged yet.\n",
            "  ConvergenceWarning,\n",
            "/usr/local/lib/python3.7/dist-packages/sklearn/neural_network/_multilayer_perceptron.py:696: ConvergenceWarning: Stochastic Optimizer: Maximum iterations (100) reached and the optimization hasn't converged yet.\n",
            "  ConvergenceWarning,\n",
            "/usr/local/lib/python3.7/dist-packages/sklearn/neural_network/_multilayer_perceptron.py:696: ConvergenceWarning: Stochastic Optimizer: Maximum iterations (100) reached and the optimization hasn't converged yet.\n",
            "  ConvergenceWarning,\n",
            "/usr/local/lib/python3.7/dist-packages/sklearn/neural_network/_multilayer_perceptron.py:696: ConvergenceWarning: Stochastic Optimizer: Maximum iterations (100) reached and the optimization hasn't converged yet.\n",
            "  ConvergenceWarning,\n",
            "/usr/local/lib/python3.7/dist-packages/sklearn/neural_network/_multilayer_perceptron.py:696: ConvergenceWarning: Stochastic Optimizer: Maximum iterations (100) reached and the optimization hasn't converged yet.\n",
            "  ConvergenceWarning,\n",
            "/usr/local/lib/python3.7/dist-packages/sklearn/neural_network/_multilayer_perceptron.py:696: ConvergenceWarning: Stochastic Optimizer: Maximum iterations (100) reached and the optimization hasn't converged yet.\n",
            "  ConvergenceWarning,\n"
          ]
        },
        {
          "output_type": "stream",
          "name": "stdout",
          "text": [
            "Online Shoppers MLP Accuracy Score:  0.8913219789132197\n",
            "Online Shoppers GB Accuracy Score:  0.884022708840227\n",
            "\n",
            "\n",
            "\n",
            "Scores when we have  90.0 % of unlabelled data:\n",
            "\n",
            "Online Shoppers SDT Accuracy Score:  0.8495539334955393\n",
            "Online Shoppers RF Accuracy Score:  0.8819951338199513\n",
            "Online Shoppers KNN Accuracy Score:  0.8580697485806975\n"
          ]
        },
        {
          "output_type": "stream",
          "name": "stderr",
          "text": [
            "/usr/local/lib/python3.7/dist-packages/sklearn/neural_network/_multilayer_perceptron.py:696: ConvergenceWarning: Stochastic Optimizer: Maximum iterations (100) reached and the optimization hasn't converged yet.\n",
            "  ConvergenceWarning,\n",
            "/usr/local/lib/python3.7/dist-packages/sklearn/neural_network/_multilayer_perceptron.py:696: ConvergenceWarning: Stochastic Optimizer: Maximum iterations (100) reached and the optimization hasn't converged yet.\n",
            "  ConvergenceWarning,\n",
            "/usr/local/lib/python3.7/dist-packages/sklearn/neural_network/_multilayer_perceptron.py:696: ConvergenceWarning: Stochastic Optimizer: Maximum iterations (100) reached and the optimization hasn't converged yet.\n",
            "  ConvergenceWarning,\n",
            "/usr/local/lib/python3.7/dist-packages/sklearn/neural_network/_multilayer_perceptron.py:696: ConvergenceWarning: Stochastic Optimizer: Maximum iterations (100) reached and the optimization hasn't converged yet.\n",
            "  ConvergenceWarning,\n",
            "/usr/local/lib/python3.7/dist-packages/sklearn/neural_network/_multilayer_perceptron.py:696: ConvergenceWarning: Stochastic Optimizer: Maximum iterations (100) reached and the optimization hasn't converged yet.\n",
            "  ConvergenceWarning,\n",
            "/usr/local/lib/python3.7/dist-packages/sklearn/neural_network/_multilayer_perceptron.py:696: ConvergenceWarning: Stochastic Optimizer: Maximum iterations (100) reached and the optimization hasn't converged yet.\n",
            "  ConvergenceWarning,\n",
            "/usr/local/lib/python3.7/dist-packages/sklearn/neural_network/_multilayer_perceptron.py:696: ConvergenceWarning: Stochastic Optimizer: Maximum iterations (100) reached and the optimization hasn't converged yet.\n",
            "  ConvergenceWarning,\n",
            "/usr/local/lib/python3.7/dist-packages/sklearn/neural_network/_multilayer_perceptron.py:696: ConvergenceWarning: Stochastic Optimizer: Maximum iterations (100) reached and the optimization hasn't converged yet.\n",
            "  ConvergenceWarning,\n",
            "/usr/local/lib/python3.7/dist-packages/sklearn/neural_network/_multilayer_perceptron.py:696: ConvergenceWarning: Stochastic Optimizer: Maximum iterations (100) reached and the optimization hasn't converged yet.\n",
            "  ConvergenceWarning,\n",
            "/usr/local/lib/python3.7/dist-packages/sklearn/neural_network/_multilayer_perceptron.py:696: ConvergenceWarning: Stochastic Optimizer: Maximum iterations (100) reached and the optimization hasn't converged yet.\n",
            "  ConvergenceWarning,\n",
            "/usr/local/lib/python3.7/dist-packages/sklearn/neural_network/_multilayer_perceptron.py:696: ConvergenceWarning: Stochastic Optimizer: Maximum iterations (100) reached and the optimization hasn't converged yet.\n",
            "  ConvergenceWarning,\n"
          ]
        },
        {
          "output_type": "stream",
          "name": "stdout",
          "text": [
            "Online Shoppers MLP Accuracy Score:  0.8884833738848338\n",
            "Online Shoppers GB Accuracy Score:  0.883617193836172\n",
            "\n",
            "\n",
            "\n",
            "Scores when we have  95.0 % of unlabelled data:\n",
            "\n",
            "Online Shoppers SDT Accuracy Score:  0.856853203568532\n",
            "Online Shoppers RF Accuracy Score:  0.8811841038118411\n",
            "Online Shoppers KNN Accuracy Score:  0.8592862935928629\n"
          ]
        },
        {
          "output_type": "stream",
          "name": "stderr",
          "text": [
            "/usr/local/lib/python3.7/dist-packages/sklearn/neural_network/_multilayer_perceptron.py:696: ConvergenceWarning: Stochastic Optimizer: Maximum iterations (100) reached and the optimization hasn't converged yet.\n",
            "  ConvergenceWarning,\n",
            "/usr/local/lib/python3.7/dist-packages/sklearn/neural_network/_multilayer_perceptron.py:696: ConvergenceWarning: Stochastic Optimizer: Maximum iterations (100) reached and the optimization hasn't converged yet.\n",
            "  ConvergenceWarning,\n",
            "/usr/local/lib/python3.7/dist-packages/sklearn/neural_network/_multilayer_perceptron.py:696: ConvergenceWarning: Stochastic Optimizer: Maximum iterations (100) reached and the optimization hasn't converged yet.\n",
            "  ConvergenceWarning,\n",
            "/usr/local/lib/python3.7/dist-packages/sklearn/neural_network/_multilayer_perceptron.py:696: ConvergenceWarning: Stochastic Optimizer: Maximum iterations (100) reached and the optimization hasn't converged yet.\n",
            "  ConvergenceWarning,\n",
            "/usr/local/lib/python3.7/dist-packages/sklearn/neural_network/_multilayer_perceptron.py:696: ConvergenceWarning: Stochastic Optimizer: Maximum iterations (100) reached and the optimization hasn't converged yet.\n",
            "  ConvergenceWarning,\n",
            "/usr/local/lib/python3.7/dist-packages/sklearn/neural_network/_multilayer_perceptron.py:696: ConvergenceWarning: Stochastic Optimizer: Maximum iterations (100) reached and the optimization hasn't converged yet.\n",
            "  ConvergenceWarning,\n",
            "/usr/local/lib/python3.7/dist-packages/sklearn/neural_network/_multilayer_perceptron.py:696: ConvergenceWarning: Stochastic Optimizer: Maximum iterations (100) reached and the optimization hasn't converged yet.\n",
            "  ConvergenceWarning,\n",
            "/usr/local/lib/python3.7/dist-packages/sklearn/neural_network/_multilayer_perceptron.py:696: ConvergenceWarning: Stochastic Optimizer: Maximum iterations (100) reached and the optimization hasn't converged yet.\n",
            "  ConvergenceWarning,\n",
            "/usr/local/lib/python3.7/dist-packages/sklearn/neural_network/_multilayer_perceptron.py:696: ConvergenceWarning: Stochastic Optimizer: Maximum iterations (100) reached and the optimization hasn't converged yet.\n",
            "  ConvergenceWarning,\n",
            "/usr/local/lib/python3.7/dist-packages/sklearn/neural_network/_multilayer_perceptron.py:696: ConvergenceWarning: Stochastic Optimizer: Maximum iterations (100) reached and the optimization hasn't converged yet.\n",
            "  ConvergenceWarning,\n",
            "/usr/local/lib/python3.7/dist-packages/sklearn/neural_network/_multilayer_perceptron.py:696: ConvergenceWarning: Stochastic Optimizer: Maximum iterations (100) reached and the optimization hasn't converged yet.\n",
            "  ConvergenceWarning,\n"
          ]
        },
        {
          "output_type": "stream",
          "name": "stdout",
          "text": [
            "Online Shoppers MLP Accuracy Score:  0.884022708840227\n",
            "Online Shoppers GB Accuracy Score:  0.8771289537712895\n",
            "\n",
            "\n",
            "\n",
            "Average Online Shoppers SDT Accuracy Score:  0.8580697485806974\n",
            "Average Online Shoppers RF Accuracy Score:  0.8922681805893484\n",
            "Average Online Shoppers KNN Accuracy Score:  0.8687483103541499\n",
            "Average Online Shoppers MLP Accuracy Score:  0.8917950797512842\n",
            "Average Online Shoppers GB Accuracy Score:  0.8856447688564476\n"
          ]
        }
      ]
    },
    {
      "cell_type": "markdown",
      "source": [
        "Balanced Online Shoppers Data"
      ],
      "metadata": {
        "id": "3wBuFAc9QxkX"
      }
    },
    {
      "cell_type": "code",
      "source": [
        "STrand = np.random.RandomState()\n",
        "\n",
        "#for calculating average\n",
        "BS_SDT_S = 0\n",
        "BS_RF_S = 0\n",
        "BS_KNN_S = 0\n",
        "BS_MLP_S = 0\n",
        "BS_GB_S = 0\n",
        "\n",
        "for l in Levels:\n",
        "  BS_SDT = tree.DecisionTreeClassifier()\n",
        "  BS_RF = RandomForestClassifier()\n",
        "  BS_KNN = KNeighborsClassifier()\n",
        "  BS_MLP = MLPClassifier(random_state=1, max_iter=100)\n",
        "  BS_GB = GradientBoostingClassifier(n_estimators=100, learning_rate=1.0, max_depth=1, random_state=0)\n",
        "  BS_SVM = SVC() # does not work\n",
        "\n",
        "  BS_random_unlabeled_points = STrand.rand(BS_training_label.shape[0]) < l\n",
        "  BS_labels = np.copy(BS_training_label)\n",
        "  BS_labels[BS_random_unlabeled_points] = -1\n",
        "\n",
        "  print(\"Scores when we have \",(l*100),\"% of unlabelled data:\\n\")\n",
        "  #Single Decision Tree\n",
        "  BS_ST_SDT = SelfTrainingClassifier(BS_SDT)\n",
        "  BS_ST_SDT.fit(BS_training_data,BS_labels.ravel())\n",
        "\n",
        "  BS_ST_SDT_Pred=BS_ST_SDT.predict(BS_testing_data)\n",
        "  BS_ST_SDT_score = accuracy_score(BS_testing_label, BS_ST_SDT_Pred)\n",
        "  BS_SDT_S = BS_SDT_S + BS_ST_SDT_score\n",
        "  print(\"Balanced Online Shoppers SDT Accuracy Score: \",BS_ST_SDT_score)\n",
        "\n",
        "  #Random Forest\n",
        "  BS_ST_RF = SelfTrainingClassifier(BS_RF)\n",
        "  BS_ST_RF.fit(BS_training_data,BS_labels.ravel())\n",
        "\n",
        "  BS_ST_RF_Pred=BS_ST_RF.predict(BS_testing_data)\n",
        "  BS_ST_RF_score = accuracy_score(BS_testing_label, BS_ST_RF_Pred)\n",
        "  BS_RF_S = BS_RF_S + BS_ST_RF_score\n",
        "  print(\"Balanced Online Shoppers RF Accuracy Score: \",BS_ST_RF_score)\n",
        "\n",
        "  #K-nearest neighbor\n",
        "  BS_ST_KNN = SelfTrainingClassifier(BS_KNN)\n",
        "  BS_ST_KNN.fit(BS_training_data,BS_labels.ravel())\n",
        "\n",
        "  BS_ST_KNN_Pred=BS_ST_KNN.predict(BS_testing_data)\n",
        "  BS_ST_KNN_score = accuracy_score(BS_testing_label, BS_ST_KNN_Pred)\n",
        "  BS_KNN_S = BS_KNN_S + BS_ST_KNN_score\n",
        "  print(\"Balanced Online Shoppers KNN Accuracy Score: \",BS_ST_KNN_score)\n",
        "\n",
        "  #Multi-layer Perceptron\n",
        "\n",
        "  BS_ST_MLP = SelfTrainingClassifier(BS_MLP)\n",
        "  BS_ST_MLP.fit(BS_training_data,BS_labels.ravel())\n",
        "\n",
        "  BS_ST_MLP_Pred=BS_ST_MLP.predict(BS_testing_data)\n",
        "  BS_ST_MLP_score = accuracy_score(BS_testing_label, BS_ST_MLP_Pred)\n",
        "  BS_MLP_S = BS_MLP_S + BS_ST_MLP_score\n",
        "  print(\"Balanced Online Shoppers MLP Accuracy Score: \",BS_ST_MLP_score)\n",
        "\n",
        "  #Gradient Boosting\n",
        "  BS_ST_GB = SelfTrainingClassifier(BS_GB)\n",
        "  BS_ST_GB.fit(BS_training_data,BS_labels.ravel())\n",
        "\n",
        "  BS_ST_GB_Pred=BS_ST_GB.predict(BS_testing_data)\n",
        "  BS_ST_GB_score = accuracy_score(BS_testing_label, BS_ST_GB_Pred)\n",
        "  BS_GB_S = BS_GB_S + BS_ST_GB_score\n",
        "  print(\"Balanced Online Shoppers GB Accuracy Score: \",BS_ST_GB_score)\n",
        "\n",
        "  print(\"\\n\\n\")\n",
        "\n",
        "  # Support Vector Machine --> base_estimator (Pipeline) should implement predict_proba!\n",
        "  # BS_ST_SVM = SelfTrainingClassifier(BS_SVM)\n",
        "  # BS_ST_SVM.fit(BS_training_data,BS_labels.ravel())\n",
        "\n",
        "  # BS_ST_SVM_Pred=BS_ST_SVM.predict(BS_testing_data)\n",
        "  # BS_ST_SVM_score = accuracy_score(BS_testing_label, BS_ST_SVM_Pred)\n",
        "  # print(\"Balanced Online Shoppers SVM Accuracy Score: \",BS_ST_SVM_score)\n",
        "\n",
        "print(\"Average Balanced Online Shoppers SDT Accuracy Score: \",BS_SDT_S/len(Levels))\n",
        "print(\"Average Balanced Online Shoppers RF Accuracy Score: \",BS_RF_S/len(Levels))\n",
        "print(\"Average Balanced Online Shoppers KNN Accuracy Score: \",BS_KNN_S/len(Levels))\n",
        "print(\"Average Balanced Online Shoppers MLP Accuracy Score: \",BS_MLP_S/len(Levels))\n",
        "print(\"Average Balanced Online Shoppers GB Accuracy Score: \",BS_GB_S/len(Levels))"
      ],
      "metadata": {
        "colab": {
          "base_uri": "https://localhost:8080/"
        },
        "id": "_ci8bwzHQ2R-",
        "outputId": "0e2cf769-9a93-457a-8e41-16d9c9c5e345"
      },
      "execution_count": 8,
      "outputs": [
        {
          "output_type": "stream",
          "name": "stdout",
          "text": [
            "Scores when we have  0 % of unlabelled data:\n",
            "\n",
            "Balanced Online Shoppers SDT Accuracy Score:  0.9378747901175342\n"
          ]
        },
        {
          "output_type": "stream",
          "name": "stderr",
          "text": [
            "/usr/local/lib/python3.7/dist-packages/sklearn/semi_supervised/_self_training.py:210: UserWarning: y contains no unlabeled samples\n",
            "  warnings.warn(\"y contains no unlabeled samples\", UserWarning)\n",
            "/usr/local/lib/python3.7/dist-packages/sklearn/semi_supervised/_self_training.py:210: UserWarning: y contains no unlabeled samples\n",
            "  warnings.warn(\"y contains no unlabeled samples\", UserWarning)\n"
          ]
        },
        {
          "output_type": "stream",
          "name": "stdout",
          "text": [
            "Balanced Online Shoppers RF Accuracy Score:  0.9827296713840249\n"
          ]
        },
        {
          "output_type": "stream",
          "name": "stderr",
          "text": [
            "/usr/local/lib/python3.7/dist-packages/sklearn/semi_supervised/_self_training.py:210: UserWarning: y contains no unlabeled samples\n",
            "  warnings.warn(\"y contains no unlabeled samples\", UserWarning)\n"
          ]
        },
        {
          "output_type": "stream",
          "name": "stdout",
          "text": [
            "Balanced Online Shoppers KNN Accuracy Score:  0.9640201487167186\n"
          ]
        },
        {
          "output_type": "stream",
          "name": "stderr",
          "text": [
            "/usr/local/lib/python3.7/dist-packages/sklearn/semi_supervised/_self_training.py:210: UserWarning: y contains no unlabeled samples\n",
            "  warnings.warn(\"y contains no unlabeled samples\", UserWarning)\n",
            "/usr/local/lib/python3.7/dist-packages/sklearn/neural_network/_multilayer_perceptron.py:696: ConvergenceWarning: Stochastic Optimizer: Maximum iterations (100) reached and the optimization hasn't converged yet.\n",
            "  ConvergenceWarning,\n",
            "/usr/local/lib/python3.7/dist-packages/sklearn/semi_supervised/_self_training.py:210: UserWarning: y contains no unlabeled samples\n",
            "  warnings.warn(\"y contains no unlabeled samples\", UserWarning)\n"
          ]
        },
        {
          "output_type": "stream",
          "name": "stdout",
          "text": [
            "Balanced Online Shoppers MLP Accuracy Score:  0.9203645958263372\n",
            "Balanced Online Shoppers GB Accuracy Score:  0.9373950587670904\n",
            "\n",
            "\n",
            "\n",
            "Scores when we have  10.0 % of unlabelled data:\n",
            "\n",
            "Balanced Online Shoppers SDT Accuracy Score:  0.9234828496042217\n",
            "Balanced Online Shoppers RF Accuracy Score:  0.9796114176061406\n",
            "Balanced Online Shoppers KNN Accuracy Score:  0.9553849844087311\n"
          ]
        },
        {
          "output_type": "stream",
          "name": "stderr",
          "text": [
            "/usr/local/lib/python3.7/dist-packages/sklearn/neural_network/_multilayer_perceptron.py:696: ConvergenceWarning: Stochastic Optimizer: Maximum iterations (100) reached and the optimization hasn't converged yet.\n",
            "  ConvergenceWarning,\n",
            "/usr/local/lib/python3.7/dist-packages/sklearn/neural_network/_multilayer_perceptron.py:696: ConvergenceWarning: Stochastic Optimizer: Maximum iterations (100) reached and the optimization hasn't converged yet.\n",
            "  ConvergenceWarning,\n",
            "/usr/local/lib/python3.7/dist-packages/sklearn/neural_network/_multilayer_perceptron.py:696: ConvergenceWarning: Stochastic Optimizer: Maximum iterations (100) reached and the optimization hasn't converged yet.\n",
            "  ConvergenceWarning,\n",
            "/usr/local/lib/python3.7/dist-packages/sklearn/neural_network/_multilayer_perceptron.py:696: ConvergenceWarning: Stochastic Optimizer: Maximum iterations (100) reached and the optimization hasn't converged yet.\n",
            "  ConvergenceWarning,\n",
            "/usr/local/lib/python3.7/dist-packages/sklearn/neural_network/_multilayer_perceptron.py:696: ConvergenceWarning: Stochastic Optimizer: Maximum iterations (100) reached and the optimization hasn't converged yet.\n",
            "  ConvergenceWarning,\n",
            "/usr/local/lib/python3.7/dist-packages/sklearn/neural_network/_multilayer_perceptron.py:696: ConvergenceWarning: Stochastic Optimizer: Maximum iterations (100) reached and the optimization hasn't converged yet.\n",
            "  ConvergenceWarning,\n",
            "/usr/local/lib/python3.7/dist-packages/sklearn/neural_network/_multilayer_perceptron.py:696: ConvergenceWarning: Stochastic Optimizer: Maximum iterations (100) reached and the optimization hasn't converged yet.\n",
            "  ConvergenceWarning,\n",
            "/usr/local/lib/python3.7/dist-packages/sklearn/neural_network/_multilayer_perceptron.py:696: ConvergenceWarning: Stochastic Optimizer: Maximum iterations (100) reached and the optimization hasn't converged yet.\n",
            "  ConvergenceWarning,\n",
            "/usr/local/lib/python3.7/dist-packages/sklearn/neural_network/_multilayer_perceptron.py:696: ConvergenceWarning: Stochastic Optimizer: Maximum iterations (100) reached and the optimization hasn't converged yet.\n",
            "  ConvergenceWarning,\n",
            "/usr/local/lib/python3.7/dist-packages/sklearn/neural_network/_multilayer_perceptron.py:696: ConvergenceWarning: Stochastic Optimizer: Maximum iterations (100) reached and the optimization hasn't converged yet.\n",
            "  ConvergenceWarning,\n",
            "/usr/local/lib/python3.7/dist-packages/sklearn/neural_network/_multilayer_perceptron.py:696: ConvergenceWarning: Stochastic Optimizer: Maximum iterations (100) reached and the optimization hasn't converged yet.\n",
            "  ConvergenceWarning,\n"
          ]
        },
        {
          "output_type": "stream",
          "name": "stdout",
          "text": [
            "Balanced Online Shoppers MLP Accuracy Score:  0.8882225953466059\n",
            "Balanced Online Shoppers GB Accuracy Score:  0.9342768049892061\n",
            "\n",
            "\n",
            "\n",
            "Scores when we have  20.0 % of unlabelled data:\n",
            "\n",
            "Balanced Online Shoppers SDT Accuracy Score:  0.917006476373231\n",
            "Balanced Online Shoppers RF Accuracy Score:  0.9709762532981531\n",
            "Balanced Online Shoppers KNN Accuracy Score:  0.9477092828016311\n"
          ]
        },
        {
          "output_type": "stream",
          "name": "stderr",
          "text": [
            "/usr/local/lib/python3.7/dist-packages/sklearn/neural_network/_multilayer_perceptron.py:696: ConvergenceWarning: Stochastic Optimizer: Maximum iterations (100) reached and the optimization hasn't converged yet.\n",
            "  ConvergenceWarning,\n",
            "/usr/local/lib/python3.7/dist-packages/sklearn/neural_network/_multilayer_perceptron.py:696: ConvergenceWarning: Stochastic Optimizer: Maximum iterations (100) reached and the optimization hasn't converged yet.\n",
            "  ConvergenceWarning,\n",
            "/usr/local/lib/python3.7/dist-packages/sklearn/neural_network/_multilayer_perceptron.py:696: ConvergenceWarning: Stochastic Optimizer: Maximum iterations (100) reached and the optimization hasn't converged yet.\n",
            "  ConvergenceWarning,\n",
            "/usr/local/lib/python3.7/dist-packages/sklearn/neural_network/_multilayer_perceptron.py:696: ConvergenceWarning: Stochastic Optimizer: Maximum iterations (100) reached and the optimization hasn't converged yet.\n",
            "  ConvergenceWarning,\n",
            "/usr/local/lib/python3.7/dist-packages/sklearn/neural_network/_multilayer_perceptron.py:696: ConvergenceWarning: Stochastic Optimizer: Maximum iterations (100) reached and the optimization hasn't converged yet.\n",
            "  ConvergenceWarning,\n",
            "/usr/local/lib/python3.7/dist-packages/sklearn/neural_network/_multilayer_perceptron.py:696: ConvergenceWarning: Stochastic Optimizer: Maximum iterations (100) reached and the optimization hasn't converged yet.\n",
            "  ConvergenceWarning,\n",
            "/usr/local/lib/python3.7/dist-packages/sklearn/neural_network/_multilayer_perceptron.py:696: ConvergenceWarning: Stochastic Optimizer: Maximum iterations (100) reached and the optimization hasn't converged yet.\n",
            "  ConvergenceWarning,\n",
            "/usr/local/lib/python3.7/dist-packages/sklearn/neural_network/_multilayer_perceptron.py:696: ConvergenceWarning: Stochastic Optimizer: Maximum iterations (100) reached and the optimization hasn't converged yet.\n",
            "  ConvergenceWarning,\n",
            "/usr/local/lib/python3.7/dist-packages/sklearn/neural_network/_multilayer_perceptron.py:696: ConvergenceWarning: Stochastic Optimizer: Maximum iterations (100) reached and the optimization hasn't converged yet.\n",
            "  ConvergenceWarning,\n",
            "/usr/local/lib/python3.7/dist-packages/sklearn/neural_network/_multilayer_perceptron.py:696: ConvergenceWarning: Stochastic Optimizer: Maximum iterations (100) reached and the optimization hasn't converged yet.\n",
            "  ConvergenceWarning,\n",
            "/usr/local/lib/python3.7/dist-packages/sklearn/neural_network/_multilayer_perceptron.py:696: ConvergenceWarning: Stochastic Optimizer: Maximum iterations (100) reached and the optimization hasn't converged yet.\n",
            "  ConvergenceWarning,\n"
          ]
        },
        {
          "output_type": "stream",
          "name": "stdout",
          "text": [
            "Balanced Online Shoppers MLP Accuracy Score:  0.8851043415687215\n",
            "Balanced Online Shoppers GB Accuracy Score:  0.9342768049892061\n",
            "\n",
            "\n",
            "\n",
            "Scores when we have  50.0 % of unlabelled data:\n",
            "\n",
            "Balanced Online Shoppers SDT Accuracy Score:  0.9050131926121372\n",
            "Balanced Online Shoppers RF Accuracy Score:  0.9467498201007436\n",
            "Balanced Online Shoppers KNN Accuracy Score:  0.9042935955864716\n"
          ]
        },
        {
          "output_type": "stream",
          "name": "stderr",
          "text": [
            "/usr/local/lib/python3.7/dist-packages/sklearn/neural_network/_multilayer_perceptron.py:696: ConvergenceWarning: Stochastic Optimizer: Maximum iterations (100) reached and the optimization hasn't converged yet.\n",
            "  ConvergenceWarning,\n",
            "/usr/local/lib/python3.7/dist-packages/sklearn/neural_network/_multilayer_perceptron.py:696: ConvergenceWarning: Stochastic Optimizer: Maximum iterations (100) reached and the optimization hasn't converged yet.\n",
            "  ConvergenceWarning,\n",
            "/usr/local/lib/python3.7/dist-packages/sklearn/neural_network/_multilayer_perceptron.py:696: ConvergenceWarning: Stochastic Optimizer: Maximum iterations (100) reached and the optimization hasn't converged yet.\n",
            "  ConvergenceWarning,\n",
            "/usr/local/lib/python3.7/dist-packages/sklearn/neural_network/_multilayer_perceptron.py:696: ConvergenceWarning: Stochastic Optimizer: Maximum iterations (100) reached and the optimization hasn't converged yet.\n",
            "  ConvergenceWarning,\n",
            "/usr/local/lib/python3.7/dist-packages/sklearn/neural_network/_multilayer_perceptron.py:696: ConvergenceWarning: Stochastic Optimizer: Maximum iterations (100) reached and the optimization hasn't converged yet.\n",
            "  ConvergenceWarning,\n",
            "/usr/local/lib/python3.7/dist-packages/sklearn/neural_network/_multilayer_perceptron.py:696: ConvergenceWarning: Stochastic Optimizer: Maximum iterations (100) reached and the optimization hasn't converged yet.\n",
            "  ConvergenceWarning,\n",
            "/usr/local/lib/python3.7/dist-packages/sklearn/neural_network/_multilayer_perceptron.py:696: ConvergenceWarning: Stochastic Optimizer: Maximum iterations (100) reached and the optimization hasn't converged yet.\n",
            "  ConvergenceWarning,\n",
            "/usr/local/lib/python3.7/dist-packages/sklearn/neural_network/_multilayer_perceptron.py:696: ConvergenceWarning: Stochastic Optimizer: Maximum iterations (100) reached and the optimization hasn't converged yet.\n",
            "  ConvergenceWarning,\n",
            "/usr/local/lib/python3.7/dist-packages/sklearn/neural_network/_multilayer_perceptron.py:696: ConvergenceWarning: Stochastic Optimizer: Maximum iterations (100) reached and the optimization hasn't converged yet.\n",
            "  ConvergenceWarning,\n",
            "/usr/local/lib/python3.7/dist-packages/sklearn/neural_network/_multilayer_perceptron.py:696: ConvergenceWarning: Stochastic Optimizer: Maximum iterations (100) reached and the optimization hasn't converged yet.\n",
            "  ConvergenceWarning,\n",
            "/usr/local/lib/python3.7/dist-packages/sklearn/neural_network/_multilayer_perceptron.py:696: ConvergenceWarning: Stochastic Optimizer: Maximum iterations (100) reached and the optimization hasn't converged yet.\n",
            "  ConvergenceWarning,\n"
          ]
        },
        {
          "output_type": "stream",
          "name": "stdout",
          "text": [
            "Balanced Online Shoppers MLP Accuracy Score:  0.862796833773087\n",
            "Balanced Online Shoppers GB Accuracy Score:  0.9213240585272248\n",
            "\n",
            "\n",
            "\n",
            "Scores when we have  90.0 % of unlabelled data:\n",
            "\n",
            "Balanced Online Shoppers SDT Accuracy Score:  0.8304149676181338\n",
            "Balanced Online Shoppers RF Accuracy Score:  0.8925401775005997\n",
            "Balanced Online Shoppers KNN Accuracy Score:  0.6709042935955865\n"
          ]
        },
        {
          "output_type": "stream",
          "name": "stderr",
          "text": [
            "/usr/local/lib/python3.7/dist-packages/sklearn/neural_network/_multilayer_perceptron.py:696: ConvergenceWarning: Stochastic Optimizer: Maximum iterations (100) reached and the optimization hasn't converged yet.\n",
            "  ConvergenceWarning,\n",
            "/usr/local/lib/python3.7/dist-packages/sklearn/neural_network/_multilayer_perceptron.py:696: ConvergenceWarning: Stochastic Optimizer: Maximum iterations (100) reached and the optimization hasn't converged yet.\n",
            "  ConvergenceWarning,\n",
            "/usr/local/lib/python3.7/dist-packages/sklearn/neural_network/_multilayer_perceptron.py:696: ConvergenceWarning: Stochastic Optimizer: Maximum iterations (100) reached and the optimization hasn't converged yet.\n",
            "  ConvergenceWarning,\n",
            "/usr/local/lib/python3.7/dist-packages/sklearn/neural_network/_multilayer_perceptron.py:696: ConvergenceWarning: Stochastic Optimizer: Maximum iterations (100) reached and the optimization hasn't converged yet.\n",
            "  ConvergenceWarning,\n",
            "/usr/local/lib/python3.7/dist-packages/sklearn/neural_network/_multilayer_perceptron.py:696: ConvergenceWarning: Stochastic Optimizer: Maximum iterations (100) reached and the optimization hasn't converged yet.\n",
            "  ConvergenceWarning,\n",
            "/usr/local/lib/python3.7/dist-packages/sklearn/neural_network/_multilayer_perceptron.py:696: ConvergenceWarning: Stochastic Optimizer: Maximum iterations (100) reached and the optimization hasn't converged yet.\n",
            "  ConvergenceWarning,\n",
            "/usr/local/lib/python3.7/dist-packages/sklearn/neural_network/_multilayer_perceptron.py:696: ConvergenceWarning: Stochastic Optimizer: Maximum iterations (100) reached and the optimization hasn't converged yet.\n",
            "  ConvergenceWarning,\n",
            "/usr/local/lib/python3.7/dist-packages/sklearn/neural_network/_multilayer_perceptron.py:696: ConvergenceWarning: Stochastic Optimizer: Maximum iterations (100) reached and the optimization hasn't converged yet.\n",
            "  ConvergenceWarning,\n",
            "/usr/local/lib/python3.7/dist-packages/sklearn/neural_network/_multilayer_perceptron.py:696: ConvergenceWarning: Stochastic Optimizer: Maximum iterations (100) reached and the optimization hasn't converged yet.\n",
            "  ConvergenceWarning,\n",
            "/usr/local/lib/python3.7/dist-packages/sklearn/neural_network/_multilayer_perceptron.py:696: ConvergenceWarning: Stochastic Optimizer: Maximum iterations (100) reached and the optimization hasn't converged yet.\n",
            "  ConvergenceWarning,\n",
            "/usr/local/lib/python3.7/dist-packages/sklearn/neural_network/_multilayer_perceptron.py:696: ConvergenceWarning: Stochastic Optimizer: Maximum iterations (100) reached and the optimization hasn't converged yet.\n",
            "  ConvergenceWarning,\n"
          ]
        },
        {
          "output_type": "stream",
          "name": "stdout",
          "text": [
            "Balanced Online Shoppers MLP Accuracy Score:  0.8057088030702806\n",
            "Balanced Online Shoppers GB Accuracy Score:  0.8923003118253778\n",
            "\n",
            "\n",
            "\n",
            "Scores when we have  95.0 % of unlabelled data:\n",
            "\n",
            "Balanced Online Shoppers SDT Accuracy Score:  0.7853202206764212\n",
            "Balanced Online Shoppers RF Accuracy Score:  0.8330534900455745\n",
            "Balanced Online Shoppers KNN Accuracy Score:  0.6694650995442553\n"
          ]
        },
        {
          "output_type": "stream",
          "name": "stderr",
          "text": [
            "/usr/local/lib/python3.7/dist-packages/sklearn/neural_network/_multilayer_perceptron.py:696: ConvergenceWarning: Stochastic Optimizer: Maximum iterations (100) reached and the optimization hasn't converged yet.\n",
            "  ConvergenceWarning,\n",
            "/usr/local/lib/python3.7/dist-packages/sklearn/neural_network/_multilayer_perceptron.py:696: ConvergenceWarning: Stochastic Optimizer: Maximum iterations (100) reached and the optimization hasn't converged yet.\n",
            "  ConvergenceWarning,\n",
            "/usr/local/lib/python3.7/dist-packages/sklearn/neural_network/_multilayer_perceptron.py:696: ConvergenceWarning: Stochastic Optimizer: Maximum iterations (100) reached and the optimization hasn't converged yet.\n",
            "  ConvergenceWarning,\n",
            "/usr/local/lib/python3.7/dist-packages/sklearn/neural_network/_multilayer_perceptron.py:696: ConvergenceWarning: Stochastic Optimizer: Maximum iterations (100) reached and the optimization hasn't converged yet.\n",
            "  ConvergenceWarning,\n",
            "/usr/local/lib/python3.7/dist-packages/sklearn/neural_network/_multilayer_perceptron.py:696: ConvergenceWarning: Stochastic Optimizer: Maximum iterations (100) reached and the optimization hasn't converged yet.\n",
            "  ConvergenceWarning,\n",
            "/usr/local/lib/python3.7/dist-packages/sklearn/neural_network/_multilayer_perceptron.py:696: ConvergenceWarning: Stochastic Optimizer: Maximum iterations (100) reached and the optimization hasn't converged yet.\n",
            "  ConvergenceWarning,\n",
            "/usr/local/lib/python3.7/dist-packages/sklearn/neural_network/_multilayer_perceptron.py:696: ConvergenceWarning: Stochastic Optimizer: Maximum iterations (100) reached and the optimization hasn't converged yet.\n",
            "  ConvergenceWarning,\n",
            "/usr/local/lib/python3.7/dist-packages/sklearn/neural_network/_multilayer_perceptron.py:696: ConvergenceWarning: Stochastic Optimizer: Maximum iterations (100) reached and the optimization hasn't converged yet.\n",
            "  ConvergenceWarning,\n",
            "/usr/local/lib/python3.7/dist-packages/sklearn/neural_network/_multilayer_perceptron.py:696: ConvergenceWarning: Stochastic Optimizer: Maximum iterations (100) reached and the optimization hasn't converged yet.\n",
            "  ConvergenceWarning,\n",
            "/usr/local/lib/python3.7/dist-packages/sklearn/neural_network/_multilayer_perceptron.py:696: ConvergenceWarning: Stochastic Optimizer: Maximum iterations (100) reached and the optimization hasn't converged yet.\n",
            "  ConvergenceWarning,\n",
            "/usr/local/lib/python3.7/dist-packages/sklearn/neural_network/_multilayer_perceptron.py:696: ConvergenceWarning: Stochastic Optimizer: Maximum iterations (100) reached and the optimization hasn't converged yet.\n",
            "  ConvergenceWarning,\n"
          ]
        },
        {
          "output_type": "stream",
          "name": "stdout",
          "text": [
            "Balanced Online Shoppers MLP Accuracy Score:  0.7531782201966899\n",
            "Balanced Online Shoppers GB Accuracy Score:  0.8707124010554089\n",
            "\n",
            "\n",
            "\n",
            "Average Balanced Online Shoppers SDT Accuracy Score:  0.8831854161669467\n",
            "Average Balanced Online Shoppers RF Accuracy Score:  0.934276804989206\n",
            "Average Balanced Online Shoppers KNN Accuracy Score:  0.8519629007755657\n",
            "Average Balanced Online Shoppers MLP Accuracy Score:  0.8525625649636203\n",
            "Average Balanced Online Shoppers GB Accuracy Score:  0.915047573358919\n"
          ]
        }
      ]
    },
    {
      "cell_type": "markdown",
      "metadata": {
        "id": "jTjPefQwlagb"
      },
      "source": [
        "# Label Propagation"
      ]
    },
    {
      "cell_type": "markdown",
      "source": [
        "Heart Data"
      ],
      "metadata": {
        "id": "Fux8EzG-9Bfs"
      }
    },
    {
      "cell_type": "code",
      "metadata": {
        "colab": {
          "base_uri": "https://localhost:8080/"
        },
        "id": "VK2YYGcZlagb",
        "outputId": "32347540-c63b-4cb6-abf1-0789654280a6"
      },
      "source": [
        "LPrand = np.random.RandomState()\n",
        "\n",
        "H_LP_S=0\n",
        "\n",
        "for l in Levels:\n",
        "  H_LP = LabelPropagation()\n",
        "\n",
        "  H_random_unlabeled_pointsLP = LPrand.rand(H_training_label.shape[0]) < l\n",
        "  H_labelsLP = np.copy(H_training_label)\n",
        "  H_labelsLP[H_random_unlabeled_pointsLP] = -1\n",
        "\n",
        "  print(\"Scores when we have \",(l*100),\"% of unlabelled data:\\n\")\n",
        "\n",
        "  H_LP.fit(H_training_data, H_labelsLP.ravel())\n",
        "\n",
        "  H_LP_Pred=H_LP.predict(H_testing_data)\n",
        "  H_LP_score = accuracy_score(H_testing_label, H_LP_Pred)\n",
        "  H_LP_S = H_LP_S + H_LP_score\n",
        "  print(\"Heart LP Accuracy Score: \",H_LP_score)\n",
        "  print(\"\\n\\n\")\n",
        "\n",
        "print(\"Average Heart LP Accuracy Score: \",H_LP_S/len(Levels))"
      ],
      "execution_count": 44,
      "outputs": [
        {
          "output_type": "stream",
          "name": "stdout",
          "text": [
            "Scores when we have  0 % of unlabelled data:\n",
            "\n",
            "Heart LP Accuracy Score:  0.5409836065573771\n",
            "\n",
            "\n",
            "\n",
            "Scores when we have  10.0 % of unlabelled data:\n",
            "\n",
            "Heart LP Accuracy Score:  0.5409836065573771\n",
            "\n",
            "\n",
            "\n",
            "Scores when we have  20.0 % of unlabelled data:\n",
            "\n",
            "Heart LP Accuracy Score:  0.5409836065573771\n",
            "\n",
            "\n",
            "\n",
            "Scores when we have  50.0 % of unlabelled data:\n",
            "\n",
            "Heart LP Accuracy Score:  0.5409836065573771\n",
            "\n",
            "\n",
            "\n",
            "Scores when we have  90.0 % of unlabelled data:\n",
            "\n",
            "Heart LP Accuracy Score:  0.5737704918032787\n",
            "\n",
            "\n",
            "\n",
            "Scores when we have  95.0 % of unlabelled data:\n",
            "\n",
            "Heart LP Accuracy Score:  0.5737704918032787\n",
            "\n",
            "\n",
            "\n",
            "Average Heart LP Accuracy Score:  0.551912568306011\n"
          ]
        },
        {
          "output_type": "stream",
          "name": "stderr",
          "text": [
            "/usr/local/lib/python3.7/dist-packages/sklearn/semi_supervised/_label_propagation.py:222: RuntimeWarning: invalid value encountered in true_divide\n",
            "  probabilities /= normalizer\n",
            "/usr/local/lib/python3.7/dist-packages/sklearn/semi_supervised/_label_propagation.py:222: RuntimeWarning: invalid value encountered in true_divide\n",
            "  probabilities /= normalizer\n",
            "/usr/local/lib/python3.7/dist-packages/sklearn/semi_supervised/_label_propagation.py:222: RuntimeWarning: invalid value encountered in true_divide\n",
            "  probabilities /= normalizer\n",
            "/usr/local/lib/python3.7/dist-packages/sklearn/semi_supervised/_label_propagation.py:222: RuntimeWarning: invalid value encountered in true_divide\n",
            "  probabilities /= normalizer\n",
            "/usr/local/lib/python3.7/dist-packages/sklearn/semi_supervised/_label_propagation.py:222: RuntimeWarning: invalid value encountered in true_divide\n",
            "  probabilities /= normalizer\n",
            "/usr/local/lib/python3.7/dist-packages/sklearn/semi_supervised/_label_propagation.py:222: RuntimeWarning: invalid value encountered in true_divide\n",
            "  probabilities /= normalizer\n"
          ]
        }
      ]
    },
    {
      "cell_type": "markdown",
      "source": [
        "Marketing data"
      ],
      "metadata": {
        "id": "S9b5xgpj9GKe"
      }
    },
    {
      "cell_type": "code",
      "source": [
        "LPrand = np.random.RandomState()\n",
        "\n",
        "M_LP_S=0\n",
        "\n",
        "for l in Levels:\n",
        "  M_LP = LabelPropagation()\n",
        "\n",
        "  M_random_unlabeled_pointsLP = LPrand.rand(M_training_label.shape[0]) < l\n",
        "  M_labelsLP = np.copy(M_training_label)\n",
        "  M_labelsLP[M_random_unlabeled_pointsLP] = -1\n",
        "\n",
        "  print(\"Scores when we have \",(l*100),\"% of unlabelled data:\\n\")\n",
        "\n",
        "  M_LP.fit(M_training_data, M_labelsLP.ravel())\n",
        "\n",
        "  M_LP_Pred=M_LP.predict(M_testing_data)\n",
        "  M_LP_score = accuracy_score(M_testing_label, M_LP_Pred)\n",
        "  M_LP_S = M_LP_S + M_LP_score\n",
        "  print(\"Market LP Accuracy Score: \",M_LP_score)\n",
        "  print(\"\\n\\n\")\n",
        "\n",
        "print(\"Average Market LP Accuracy Score: \",M_LP_S/len(Levels))"
      ],
      "metadata": {
        "colab": {
          "base_uri": "https://localhost:8080/"
        },
        "id": "GRc_8uuF9JG9",
        "outputId": "065022e3-d455-4fe5-e7a1-038598847b9c"
      },
      "execution_count": 45,
      "outputs": [
        {
          "output_type": "stream",
          "name": "stdout",
          "text": [
            "Scores when we have  0 % of unlabelled data:\n",
            "\n"
          ]
        },
        {
          "output_type": "stream",
          "name": "stderr",
          "text": [
            "/usr/local/lib/python3.7/dist-packages/sklearn/semi_supervised/_label_propagation.py:222: RuntimeWarning: invalid value encountered in true_divide\n",
            "  probabilities /= normalizer\n"
          ]
        },
        {
          "output_type": "stream",
          "name": "stdout",
          "text": [
            "Market LP Accuracy Score:  0.7745535714285714\n",
            "\n",
            "\n",
            "\n",
            "Scores when we have  10.0 % of unlabelled data:\n",
            "\n"
          ]
        },
        {
          "output_type": "stream",
          "name": "stderr",
          "text": [
            "/usr/local/lib/python3.7/dist-packages/sklearn/semi_supervised/_label_propagation.py:222: RuntimeWarning: invalid value encountered in true_divide\n",
            "  probabilities /= normalizer\n"
          ]
        },
        {
          "output_type": "stream",
          "name": "stdout",
          "text": [
            "Market LP Accuracy Score:  0.765625\n",
            "\n",
            "\n",
            "\n",
            "Scores when we have  20.0 % of unlabelled data:\n",
            "\n"
          ]
        },
        {
          "output_type": "stream",
          "name": "stderr",
          "text": [
            "/usr/local/lib/python3.7/dist-packages/sklearn/semi_supervised/_label_propagation.py:222: RuntimeWarning: invalid value encountered in true_divide\n",
            "  probabilities /= normalizer\n"
          ]
        },
        {
          "output_type": "stream",
          "name": "stdout",
          "text": [
            "Market LP Accuracy Score:  0.7433035714285714\n",
            "\n",
            "\n",
            "\n",
            "Scores when we have  50.0 % of unlabelled data:\n",
            "\n"
          ]
        },
        {
          "output_type": "stream",
          "name": "stderr",
          "text": [
            "/usr/local/lib/python3.7/dist-packages/sklearn/semi_supervised/_label_propagation.py:222: RuntimeWarning: invalid value encountered in true_divide\n",
            "  probabilities /= normalizer\n"
          ]
        },
        {
          "output_type": "stream",
          "name": "stdout",
          "text": [
            "Market LP Accuracy Score:  0.7433035714285714\n",
            "\n",
            "\n",
            "\n",
            "Scores when we have  90.0 % of unlabelled data:\n",
            "\n"
          ]
        },
        {
          "output_type": "stream",
          "name": "stderr",
          "text": [
            "/usr/local/lib/python3.7/dist-packages/sklearn/semi_supervised/_label_propagation.py:318: ConvergenceWarning: max_iter=1000 was reached without convergence.\n",
            "  category=ConvergenceWarning,\n",
            "/usr/local/lib/python3.7/dist-packages/sklearn/semi_supervised/_label_propagation.py:222: RuntimeWarning: invalid value encountered in true_divide\n",
            "  probabilities /= normalizer\n"
          ]
        },
        {
          "output_type": "stream",
          "name": "stdout",
          "text": [
            "Market LP Accuracy Score:  0.6584821428571429\n",
            "\n",
            "\n",
            "\n",
            "Scores when we have  95.0 % of unlabelled data:\n",
            "\n",
            "Market LP Accuracy Score:  0.6495535714285714\n",
            "\n",
            "\n",
            "\n",
            "Average Market LP Accuracy Score:  0.7224702380952381\n"
          ]
        },
        {
          "output_type": "stream",
          "name": "stderr",
          "text": [
            "/usr/local/lib/python3.7/dist-packages/sklearn/semi_supervised/_label_propagation.py:318: ConvergenceWarning: max_iter=1000 was reached without convergence.\n",
            "  category=ConvergenceWarning,\n",
            "/usr/local/lib/python3.7/dist-packages/sklearn/semi_supervised/_label_propagation.py:222: RuntimeWarning: invalid value encountered in true_divide\n",
            "  probabilities /= normalizer\n"
          ]
        }
      ]
    },
    {
      "cell_type": "markdown",
      "source": [
        "Online Shoppers data"
      ],
      "metadata": {
        "id": "vgG2PO179KnB"
      }
    },
    {
      "cell_type": "code",
      "source": [
        "LPrand = np.random.RandomState()\n",
        "\n",
        "S_LP_S=0\n",
        "\n",
        "for l in Levels:\n",
        "  S_LP = LabelPropagation()\n",
        "\n",
        "  S_random_unlabeled_pointsLP = LPrand.rand(S_training_label.shape[0]) < l\n",
        "  S_labelsLP = np.copy(S_training_label)\n",
        "  S_labelsLP[S_random_unlabeled_pointsLP] = -1\n",
        "\n",
        "  print(\"Scores when we have \",(l*100),\"% of unlabelled data:\\n\")\n",
        "\n",
        "  S_LP.fit(S_training_data, S_labelsLP.ravel())\n",
        "\n",
        "  S_LP_Pred=S_LP.predict(S_testing_data)\n",
        "  S_LP_score = accuracy_score(S_testing_label, S_LP_Pred)\n",
        "  S_LP_S = S_LP_S + S_LP_score\n",
        "  print(\"Online Shoppers LP Accuracy Score: \",S_LP_score)\n",
        "  print(\"\\n\\n\")\n",
        "\n",
        "print(\"Average Online Shoppers LP Accuracy Score: \",S_LP_S/len(Levels))"
      ],
      "metadata": {
        "colab": {
          "base_uri": "https://localhost:8080/"
        },
        "id": "jcYDRs0d9PPU",
        "outputId": "f721ae49-1322-4905-d3dc-8525c29092dd"
      },
      "execution_count": 46,
      "outputs": [
        {
          "output_type": "stream",
          "name": "stdout",
          "text": [
            "Scores when we have  0 % of unlabelled data:\n",
            "\n"
          ]
        },
        {
          "output_type": "stream",
          "name": "stderr",
          "text": [
            "/usr/local/lib/python3.7/dist-packages/sklearn/semi_supervised/_label_propagation.py:222: RuntimeWarning: invalid value encountered in true_divide\n",
            "  probabilities /= normalizer\n"
          ]
        },
        {
          "output_type": "stream",
          "name": "stdout",
          "text": [
            "Online Shoppers LP Accuracy Score:  0.8365774533657745\n",
            "\n",
            "\n",
            "\n",
            "Scores when we have  10.0 % of unlabelled data:\n",
            "\n"
          ]
        },
        {
          "output_type": "stream",
          "name": "stderr",
          "text": [
            "/usr/local/lib/python3.7/dist-packages/sklearn/semi_supervised/_label_propagation.py:222: RuntimeWarning: invalid value encountered in true_divide\n",
            "  probabilities /= normalizer\n"
          ]
        },
        {
          "output_type": "stream",
          "name": "stdout",
          "text": [
            "Online Shoppers LP Accuracy Score:  0.8349553933495539\n",
            "\n",
            "\n",
            "\n",
            "Scores when we have  20.0 % of unlabelled data:\n",
            "\n"
          ]
        },
        {
          "output_type": "stream",
          "name": "stderr",
          "text": [
            "/usr/local/lib/python3.7/dist-packages/sklearn/semi_supervised/_label_propagation.py:222: RuntimeWarning: invalid value encountered in true_divide\n",
            "  probabilities /= normalizer\n"
          ]
        },
        {
          "output_type": "stream",
          "name": "stdout",
          "text": [
            "Online Shoppers LP Accuracy Score:  0.8304947283049473\n",
            "\n",
            "\n",
            "\n",
            "Scores when we have  50.0 % of unlabelled data:\n",
            "\n"
          ]
        },
        {
          "output_type": "stream",
          "name": "stderr",
          "text": [
            "/usr/local/lib/python3.7/dist-packages/sklearn/semi_supervised/_label_propagation.py:318: ConvergenceWarning: max_iter=1000 was reached without convergence.\n",
            "  category=ConvergenceWarning,\n",
            "/usr/local/lib/python3.7/dist-packages/sklearn/semi_supervised/_label_propagation.py:222: RuntimeWarning: invalid value encountered in true_divide\n",
            "  probabilities /= normalizer\n"
          ]
        },
        {
          "output_type": "stream",
          "name": "stdout",
          "text": [
            "Online Shoppers LP Accuracy Score:  0.8361719383617194\n",
            "\n",
            "\n",
            "\n",
            "Scores when we have  90.0 % of unlabelled data:\n",
            "\n"
          ]
        },
        {
          "output_type": "stream",
          "name": "stderr",
          "text": [
            "/usr/local/lib/python3.7/dist-packages/sklearn/semi_supervised/_label_propagation.py:318: ConvergenceWarning: max_iter=1000 was reached without convergence.\n",
            "  category=ConvergenceWarning,\n",
            "/usr/local/lib/python3.7/dist-packages/sklearn/semi_supervised/_label_propagation.py:222: RuntimeWarning: invalid value encountered in true_divide\n",
            "  probabilities /= normalizer\n"
          ]
        },
        {
          "output_type": "stream",
          "name": "stdout",
          "text": [
            "Online Shoppers LP Accuracy Score:  0.8110300081103001\n",
            "\n",
            "\n",
            "\n",
            "Scores when we have  95.0 % of unlabelled data:\n",
            "\n"
          ]
        },
        {
          "output_type": "stream",
          "name": "stderr",
          "text": [
            "/usr/local/lib/python3.7/dist-packages/sklearn/semi_supervised/_label_propagation.py:318: ConvergenceWarning: max_iter=1000 was reached without convergence.\n",
            "  category=ConvergenceWarning,\n"
          ]
        },
        {
          "output_type": "stream",
          "name": "stdout",
          "text": [
            "Online Shoppers LP Accuracy Score:  0.8199513381995134\n",
            "\n",
            "\n",
            "\n",
            "Average Online Shoppers LP Accuracy Score:  0.8281968099486346\n"
          ]
        },
        {
          "output_type": "stream",
          "name": "stderr",
          "text": [
            "/usr/local/lib/python3.7/dist-packages/sklearn/semi_supervised/_label_propagation.py:222: RuntimeWarning: invalid value encountered in true_divide\n",
            "  probabilities /= normalizer\n"
          ]
        }
      ]
    },
    {
      "cell_type": "markdown",
      "source": [
        "Balanced Online Shoppers Data"
      ],
      "metadata": {
        "id": "ZSDuQmsNRQOd"
      }
    },
    {
      "cell_type": "code",
      "source": [
        "LPrand = np.random.RandomState()\n",
        "\n",
        "BS_LP_S=0\n",
        "\n",
        "for l in Levels:\n",
        "  BS_LP = LabelPropagation()\n",
        "\n",
        "  BS_random_unlabeled_pointsLP = LPrand.rand(BS_training_label.shape[0]) < l\n",
        "  BS_labelsLP = np.copy(BS_training_label)\n",
        "  BS_labelsLP[BS_random_unlabeled_pointsLP] = -1\n",
        "\n",
        "  print(\"Scores when we have \",(l*100),\"% of unlabelled data:\\n\")\n",
        "\n",
        "  BS_LP.fit(BS_training_data, BS_labelsLP.ravel())\n",
        "\n",
        "  BS_LP_Pred=BS_LP.predict(BS_testing_data)\n",
        "  BS_LP_score = accuracy_score(BS_testing_label, BS_LP_Pred)\n",
        "  BS_LP_S = BS_LP_S + BS_LP_score\n",
        "  print(\"Balanced Online Shoppers LP Accuracy Score: \",BS_LP_score)\n",
        "  print(\"\\n\\n\")\n",
        "\n",
        "print(\"Average Balanced Online Shoppers LP Accuracy Score: \",BS_LP_S/len(Levels))"
      ],
      "metadata": {
        "colab": {
          "base_uri": "https://localhost:8080/"
        },
        "id": "Syi0WIkHRRU7",
        "outputId": "4808c5a3-02a1-4490-e84b-5af6b4500a74"
      },
      "execution_count": 9,
      "outputs": [
        {
          "output_type": "stream",
          "name": "stdout",
          "text": [
            "Scores when we have  0 % of unlabelled data:\n",
            "\n",
            "Balanced Online Shoppers LP Accuracy Score:  0.9918445670424563\n",
            "\n",
            "\n",
            "\n",
            "Scores when we have  10.0 % of unlabelled data:\n",
            "\n",
            "Balanced Online Shoppers LP Accuracy Score:  0.9880067162389062\n",
            "\n",
            "\n",
            "\n",
            "Scores when we have  20.0 % of unlabelled data:\n",
            "\n",
            "Balanced Online Shoppers LP Accuracy Score:  0.9767330295034781\n",
            "\n",
            "\n",
            "\n",
            "Scores when we have  50.0 % of unlabelled data:\n",
            "\n"
          ]
        },
        {
          "output_type": "stream",
          "name": "stderr",
          "text": [
            "/usr/local/lib/python3.7/dist-packages/sklearn/semi_supervised/_label_propagation.py:318: ConvergenceWarning: max_iter=1000 was reached without convergence.\n",
            "  category=ConvergenceWarning,\n"
          ]
        },
        {
          "output_type": "stream",
          "name": "stdout",
          "text": [
            "Balanced Online Shoppers LP Accuracy Score:  0.9503478052290717\n",
            "\n",
            "\n",
            "\n",
            "Scores when we have  90.0 % of unlabelled data:\n",
            "\n"
          ]
        },
        {
          "output_type": "stream",
          "name": "stderr",
          "text": [
            "/usr/local/lib/python3.7/dist-packages/sklearn/semi_supervised/_label_propagation.py:318: ConvergenceWarning: max_iter=1000 was reached without convergence.\n",
            "  category=ConvergenceWarning,\n",
            "/usr/local/lib/python3.7/dist-packages/sklearn/semi_supervised/_label_propagation.py:222: RuntimeWarning: invalid value encountered in true_divide\n",
            "  probabilities /= normalizer\n"
          ]
        },
        {
          "output_type": "stream",
          "name": "stdout",
          "text": [
            "Balanced Online Shoppers LP Accuracy Score:  0.777884384744543\n",
            "\n",
            "\n",
            "\n",
            "Scores when we have  95.0 % of unlabelled data:\n",
            "\n"
          ]
        },
        {
          "output_type": "stream",
          "name": "stderr",
          "text": [
            "/usr/local/lib/python3.7/dist-packages/sklearn/semi_supervised/_label_propagation.py:318: ConvergenceWarning: max_iter=1000 was reached without convergence.\n",
            "  category=ConvergenceWarning,\n"
          ]
        },
        {
          "output_type": "stream",
          "name": "stdout",
          "text": [
            "Balanced Online Shoppers LP Accuracy Score:  0.7371072199568242\n",
            "\n",
            "\n",
            "\n",
            "Average Balanced Online Shoppers LP Accuracy Score:  0.9036539537858799\n"
          ]
        },
        {
          "output_type": "stream",
          "name": "stderr",
          "text": [
            "/usr/local/lib/python3.7/dist-packages/sklearn/semi_supervised/_label_propagation.py:222: RuntimeWarning: invalid value encountered in true_divide\n",
            "  probabilities /= normalizer\n"
          ]
        }
      ]
    },
    {
      "cell_type": "markdown",
      "metadata": {
        "id": "IWz5nceulZ2z"
      },
      "source": [
        "# Semi-supervised Ensemble"
      ]
    },
    {
      "cell_type": "markdown",
      "source": [
        "Heart Data"
      ],
      "metadata": {
        "id": "9u-jyo_gF9dE"
      }
    },
    {
      "cell_type": "code",
      "metadata": {
        "colab": {
          "base_uri": "https://localhost:8080/"
        },
        "id": "H6u4TbVJlZ20",
        "outputId": "3f7fe884-10ad-4968-b21d-11562556e98c"
      },
      "source": [
        "SSErand = np.random.RandomState()\n",
        "\n",
        "#for calculating average\n",
        "H_SSE_S = 0\n",
        "\n",
        "for l in Levels:\n",
        "  #most successsful in self-training\n",
        "  H_RF_SSE = RandomForestClassifier()\n",
        "  H_ST_SSE = SelfTrainingClassifier(H_RF_SSE)\n",
        "\n",
        "  H_random_unlabeled_pointsSSE = SSErand.rand(H_training_label.shape[0]) < l\n",
        "  H_labelsSSE = np.copy(H_training_label)\n",
        "  H_labelsSSE[H_random_unlabeled_pointsSSE] = -1\n",
        "\n",
        "  print(\"Scores when we have \",(l*100),\"% of unlabelled data:\\n\")\n",
        "\n",
        "  H_SSE = BaggingClassifier(H_ST_SSE,n_estimators=10, random_state=0)\n",
        "  H_SSE.fit(H_training_data,H_labelsSSE.ravel())\n",
        "\n",
        "  H_SEE_Pred=H_SSE.predict(H_testing_data)\n",
        "  H_SSE_score = accuracy_score(H_testing_label, H_SEE_Pred)\n",
        "  H_SSE_S = H_SSE_S + H_SSE_score\n",
        "  print(\"Heart RF Accuracy Score: \",H_SSE_score)\n",
        "  print(\"\\n\\n\")\n",
        "\n",
        "print(\"Average Heart SSE Accuracy Score: \",H_SSE_S/len(Levels))"
      ],
      "execution_count": 47,
      "outputs": [
        {
          "output_type": "stream",
          "name": "stdout",
          "text": [
            "Scores when we have  0 % of unlabelled data:\n",
            "\n"
          ]
        },
        {
          "output_type": "stream",
          "name": "stderr",
          "text": [
            "/usr/local/lib/python3.7/dist-packages/sklearn/semi_supervised/_self_training.py:210: UserWarning: y contains no unlabeled samples\n",
            "  warnings.warn(\"y contains no unlabeled samples\", UserWarning)\n",
            "/usr/local/lib/python3.7/dist-packages/sklearn/semi_supervised/_self_training.py:210: UserWarning: y contains no unlabeled samples\n",
            "  warnings.warn(\"y contains no unlabeled samples\", UserWarning)\n",
            "/usr/local/lib/python3.7/dist-packages/sklearn/semi_supervised/_self_training.py:210: UserWarning: y contains no unlabeled samples\n",
            "  warnings.warn(\"y contains no unlabeled samples\", UserWarning)\n",
            "/usr/local/lib/python3.7/dist-packages/sklearn/semi_supervised/_self_training.py:210: UserWarning: y contains no unlabeled samples\n",
            "  warnings.warn(\"y contains no unlabeled samples\", UserWarning)\n",
            "/usr/local/lib/python3.7/dist-packages/sklearn/semi_supervised/_self_training.py:210: UserWarning: y contains no unlabeled samples\n",
            "  warnings.warn(\"y contains no unlabeled samples\", UserWarning)\n",
            "/usr/local/lib/python3.7/dist-packages/sklearn/semi_supervised/_self_training.py:210: UserWarning: y contains no unlabeled samples\n",
            "  warnings.warn(\"y contains no unlabeled samples\", UserWarning)\n",
            "/usr/local/lib/python3.7/dist-packages/sklearn/semi_supervised/_self_training.py:210: UserWarning: y contains no unlabeled samples\n",
            "  warnings.warn(\"y contains no unlabeled samples\", UserWarning)\n",
            "/usr/local/lib/python3.7/dist-packages/sklearn/semi_supervised/_self_training.py:210: UserWarning: y contains no unlabeled samples\n",
            "  warnings.warn(\"y contains no unlabeled samples\", UserWarning)\n",
            "/usr/local/lib/python3.7/dist-packages/sklearn/semi_supervised/_self_training.py:210: UserWarning: y contains no unlabeled samples\n",
            "  warnings.warn(\"y contains no unlabeled samples\", UserWarning)\n",
            "/usr/local/lib/python3.7/dist-packages/sklearn/semi_supervised/_self_training.py:210: UserWarning: y contains no unlabeled samples\n",
            "  warnings.warn(\"y contains no unlabeled samples\", UserWarning)\n"
          ]
        },
        {
          "output_type": "stream",
          "name": "stdout",
          "text": [
            "Heart RF Accuracy Score:  0.8524590163934426\n",
            "\n",
            "\n",
            "\n",
            "Scores when we have  10.0 % of unlabelled data:\n",
            "\n"
          ]
        },
        {
          "output_type": "stream",
          "name": "stderr",
          "text": [
            "/usr/local/lib/python3.7/dist-packages/sklearn/semi_supervised/_self_training.py:210: UserWarning: y contains no unlabeled samples\n",
            "  warnings.warn(\"y contains no unlabeled samples\", UserWarning)\n",
            "/usr/local/lib/python3.7/dist-packages/sklearn/semi_supervised/_self_training.py:210: UserWarning: y contains no unlabeled samples\n",
            "  warnings.warn(\"y contains no unlabeled samples\", UserWarning)\n",
            "/usr/local/lib/python3.7/dist-packages/sklearn/semi_supervised/_self_training.py:210: UserWarning: y contains no unlabeled samples\n",
            "  warnings.warn(\"y contains no unlabeled samples\", UserWarning)\n",
            "/usr/local/lib/python3.7/dist-packages/sklearn/semi_supervised/_self_training.py:210: UserWarning: y contains no unlabeled samples\n",
            "  warnings.warn(\"y contains no unlabeled samples\", UserWarning)\n",
            "/usr/local/lib/python3.7/dist-packages/sklearn/semi_supervised/_self_training.py:210: UserWarning: y contains no unlabeled samples\n",
            "  warnings.warn(\"y contains no unlabeled samples\", UserWarning)\n",
            "/usr/local/lib/python3.7/dist-packages/sklearn/semi_supervised/_self_training.py:210: UserWarning: y contains no unlabeled samples\n",
            "  warnings.warn(\"y contains no unlabeled samples\", UserWarning)\n",
            "/usr/local/lib/python3.7/dist-packages/sklearn/semi_supervised/_self_training.py:210: UserWarning: y contains no unlabeled samples\n",
            "  warnings.warn(\"y contains no unlabeled samples\", UserWarning)\n",
            "/usr/local/lib/python3.7/dist-packages/sklearn/semi_supervised/_self_training.py:210: UserWarning: y contains no unlabeled samples\n",
            "  warnings.warn(\"y contains no unlabeled samples\", UserWarning)\n",
            "/usr/local/lib/python3.7/dist-packages/sklearn/semi_supervised/_self_training.py:210: UserWarning: y contains no unlabeled samples\n",
            "  warnings.warn(\"y contains no unlabeled samples\", UserWarning)\n",
            "/usr/local/lib/python3.7/dist-packages/sklearn/semi_supervised/_self_training.py:210: UserWarning: y contains no unlabeled samples\n",
            "  warnings.warn(\"y contains no unlabeled samples\", UserWarning)\n"
          ]
        },
        {
          "output_type": "stream",
          "name": "stdout",
          "text": [
            "Heart RF Accuracy Score:  0.8360655737704918\n",
            "\n",
            "\n",
            "\n",
            "Scores when we have  20.0 % of unlabelled data:\n",
            "\n"
          ]
        },
        {
          "output_type": "stream",
          "name": "stderr",
          "text": [
            "/usr/local/lib/python3.7/dist-packages/sklearn/semi_supervised/_self_training.py:210: UserWarning: y contains no unlabeled samples\n",
            "  warnings.warn(\"y contains no unlabeled samples\", UserWarning)\n",
            "/usr/local/lib/python3.7/dist-packages/sklearn/semi_supervised/_self_training.py:210: UserWarning: y contains no unlabeled samples\n",
            "  warnings.warn(\"y contains no unlabeled samples\", UserWarning)\n",
            "/usr/local/lib/python3.7/dist-packages/sklearn/semi_supervised/_self_training.py:210: UserWarning: y contains no unlabeled samples\n",
            "  warnings.warn(\"y contains no unlabeled samples\", UserWarning)\n",
            "/usr/local/lib/python3.7/dist-packages/sklearn/semi_supervised/_self_training.py:210: UserWarning: y contains no unlabeled samples\n",
            "  warnings.warn(\"y contains no unlabeled samples\", UserWarning)\n",
            "/usr/local/lib/python3.7/dist-packages/sklearn/semi_supervised/_self_training.py:210: UserWarning: y contains no unlabeled samples\n",
            "  warnings.warn(\"y contains no unlabeled samples\", UserWarning)\n",
            "/usr/local/lib/python3.7/dist-packages/sklearn/semi_supervised/_self_training.py:210: UserWarning: y contains no unlabeled samples\n",
            "  warnings.warn(\"y contains no unlabeled samples\", UserWarning)\n",
            "/usr/local/lib/python3.7/dist-packages/sklearn/semi_supervised/_self_training.py:210: UserWarning: y contains no unlabeled samples\n",
            "  warnings.warn(\"y contains no unlabeled samples\", UserWarning)\n",
            "/usr/local/lib/python3.7/dist-packages/sklearn/semi_supervised/_self_training.py:210: UserWarning: y contains no unlabeled samples\n",
            "  warnings.warn(\"y contains no unlabeled samples\", UserWarning)\n",
            "/usr/local/lib/python3.7/dist-packages/sklearn/semi_supervised/_self_training.py:210: UserWarning: y contains no unlabeled samples\n",
            "  warnings.warn(\"y contains no unlabeled samples\", UserWarning)\n",
            "/usr/local/lib/python3.7/dist-packages/sklearn/semi_supervised/_self_training.py:210: UserWarning: y contains no unlabeled samples\n",
            "  warnings.warn(\"y contains no unlabeled samples\", UserWarning)\n"
          ]
        },
        {
          "output_type": "stream",
          "name": "stdout",
          "text": [
            "Heart RF Accuracy Score:  0.7704918032786885\n",
            "\n",
            "\n",
            "\n",
            "Scores when we have  50.0 % of unlabelled data:\n",
            "\n"
          ]
        },
        {
          "output_type": "stream",
          "name": "stderr",
          "text": [
            "/usr/local/lib/python3.7/dist-packages/sklearn/semi_supervised/_self_training.py:210: UserWarning: y contains no unlabeled samples\n",
            "  warnings.warn(\"y contains no unlabeled samples\", UserWarning)\n",
            "/usr/local/lib/python3.7/dist-packages/sklearn/semi_supervised/_self_training.py:210: UserWarning: y contains no unlabeled samples\n",
            "  warnings.warn(\"y contains no unlabeled samples\", UserWarning)\n",
            "/usr/local/lib/python3.7/dist-packages/sklearn/semi_supervised/_self_training.py:210: UserWarning: y contains no unlabeled samples\n",
            "  warnings.warn(\"y contains no unlabeled samples\", UserWarning)\n",
            "/usr/local/lib/python3.7/dist-packages/sklearn/semi_supervised/_self_training.py:210: UserWarning: y contains no unlabeled samples\n",
            "  warnings.warn(\"y contains no unlabeled samples\", UserWarning)\n",
            "/usr/local/lib/python3.7/dist-packages/sklearn/semi_supervised/_self_training.py:210: UserWarning: y contains no unlabeled samples\n",
            "  warnings.warn(\"y contains no unlabeled samples\", UserWarning)\n",
            "/usr/local/lib/python3.7/dist-packages/sklearn/semi_supervised/_self_training.py:210: UserWarning: y contains no unlabeled samples\n",
            "  warnings.warn(\"y contains no unlabeled samples\", UserWarning)\n",
            "/usr/local/lib/python3.7/dist-packages/sklearn/semi_supervised/_self_training.py:210: UserWarning: y contains no unlabeled samples\n",
            "  warnings.warn(\"y contains no unlabeled samples\", UserWarning)\n",
            "/usr/local/lib/python3.7/dist-packages/sklearn/semi_supervised/_self_training.py:210: UserWarning: y contains no unlabeled samples\n",
            "  warnings.warn(\"y contains no unlabeled samples\", UserWarning)\n",
            "/usr/local/lib/python3.7/dist-packages/sklearn/semi_supervised/_self_training.py:210: UserWarning: y contains no unlabeled samples\n",
            "  warnings.warn(\"y contains no unlabeled samples\", UserWarning)\n",
            "/usr/local/lib/python3.7/dist-packages/sklearn/semi_supervised/_self_training.py:210: UserWarning: y contains no unlabeled samples\n",
            "  warnings.warn(\"y contains no unlabeled samples\", UserWarning)\n"
          ]
        },
        {
          "output_type": "stream",
          "name": "stdout",
          "text": [
            "Heart RF Accuracy Score:  0.29508196721311475\n",
            "\n",
            "\n",
            "\n",
            "Scores when we have  90.0 % of unlabelled data:\n",
            "\n"
          ]
        },
        {
          "output_type": "stream",
          "name": "stderr",
          "text": [
            "/usr/local/lib/python3.7/dist-packages/sklearn/semi_supervised/_self_training.py:210: UserWarning: y contains no unlabeled samples\n",
            "  warnings.warn(\"y contains no unlabeled samples\", UserWarning)\n",
            "/usr/local/lib/python3.7/dist-packages/sklearn/semi_supervised/_self_training.py:210: UserWarning: y contains no unlabeled samples\n",
            "  warnings.warn(\"y contains no unlabeled samples\", UserWarning)\n",
            "/usr/local/lib/python3.7/dist-packages/sklearn/semi_supervised/_self_training.py:210: UserWarning: y contains no unlabeled samples\n",
            "  warnings.warn(\"y contains no unlabeled samples\", UserWarning)\n",
            "/usr/local/lib/python3.7/dist-packages/sklearn/semi_supervised/_self_training.py:210: UserWarning: y contains no unlabeled samples\n",
            "  warnings.warn(\"y contains no unlabeled samples\", UserWarning)\n",
            "/usr/local/lib/python3.7/dist-packages/sklearn/semi_supervised/_self_training.py:210: UserWarning: y contains no unlabeled samples\n",
            "  warnings.warn(\"y contains no unlabeled samples\", UserWarning)\n",
            "/usr/local/lib/python3.7/dist-packages/sklearn/semi_supervised/_self_training.py:210: UserWarning: y contains no unlabeled samples\n",
            "  warnings.warn(\"y contains no unlabeled samples\", UserWarning)\n",
            "/usr/local/lib/python3.7/dist-packages/sklearn/semi_supervised/_self_training.py:210: UserWarning: y contains no unlabeled samples\n",
            "  warnings.warn(\"y contains no unlabeled samples\", UserWarning)\n",
            "/usr/local/lib/python3.7/dist-packages/sklearn/semi_supervised/_self_training.py:210: UserWarning: y contains no unlabeled samples\n",
            "  warnings.warn(\"y contains no unlabeled samples\", UserWarning)\n",
            "/usr/local/lib/python3.7/dist-packages/sklearn/semi_supervised/_self_training.py:210: UserWarning: y contains no unlabeled samples\n",
            "  warnings.warn(\"y contains no unlabeled samples\", UserWarning)\n",
            "/usr/local/lib/python3.7/dist-packages/sklearn/semi_supervised/_self_training.py:210: UserWarning: y contains no unlabeled samples\n",
            "  warnings.warn(\"y contains no unlabeled samples\", UserWarning)\n"
          ]
        },
        {
          "output_type": "stream",
          "name": "stdout",
          "text": [
            "Heart RF Accuracy Score:  0.0\n",
            "\n",
            "\n",
            "\n",
            "Scores when we have  95.0 % of unlabelled data:\n",
            "\n"
          ]
        },
        {
          "output_type": "stream",
          "name": "stderr",
          "text": [
            "/usr/local/lib/python3.7/dist-packages/sklearn/semi_supervised/_self_training.py:210: UserWarning: y contains no unlabeled samples\n",
            "  warnings.warn(\"y contains no unlabeled samples\", UserWarning)\n",
            "/usr/local/lib/python3.7/dist-packages/sklearn/semi_supervised/_self_training.py:210: UserWarning: y contains no unlabeled samples\n",
            "  warnings.warn(\"y contains no unlabeled samples\", UserWarning)\n",
            "/usr/local/lib/python3.7/dist-packages/sklearn/semi_supervised/_self_training.py:210: UserWarning: y contains no unlabeled samples\n",
            "  warnings.warn(\"y contains no unlabeled samples\", UserWarning)\n",
            "/usr/local/lib/python3.7/dist-packages/sklearn/semi_supervised/_self_training.py:210: UserWarning: y contains no unlabeled samples\n",
            "  warnings.warn(\"y contains no unlabeled samples\", UserWarning)\n",
            "/usr/local/lib/python3.7/dist-packages/sklearn/semi_supervised/_self_training.py:210: UserWarning: y contains no unlabeled samples\n",
            "  warnings.warn(\"y contains no unlabeled samples\", UserWarning)\n",
            "/usr/local/lib/python3.7/dist-packages/sklearn/semi_supervised/_self_training.py:210: UserWarning: y contains no unlabeled samples\n",
            "  warnings.warn(\"y contains no unlabeled samples\", UserWarning)\n",
            "/usr/local/lib/python3.7/dist-packages/sklearn/semi_supervised/_self_training.py:210: UserWarning: y contains no unlabeled samples\n",
            "  warnings.warn(\"y contains no unlabeled samples\", UserWarning)\n",
            "/usr/local/lib/python3.7/dist-packages/sklearn/semi_supervised/_self_training.py:210: UserWarning: y contains no unlabeled samples\n",
            "  warnings.warn(\"y contains no unlabeled samples\", UserWarning)\n",
            "/usr/local/lib/python3.7/dist-packages/sklearn/semi_supervised/_self_training.py:210: UserWarning: y contains no unlabeled samples\n",
            "  warnings.warn(\"y contains no unlabeled samples\", UserWarning)\n",
            "/usr/local/lib/python3.7/dist-packages/sklearn/semi_supervised/_self_training.py:210: UserWarning: y contains no unlabeled samples\n",
            "  warnings.warn(\"y contains no unlabeled samples\", UserWarning)\n"
          ]
        },
        {
          "output_type": "stream",
          "name": "stdout",
          "text": [
            "Heart RF Accuracy Score:  0.0\n",
            "\n",
            "\n",
            "\n",
            "Average Heart SSE Accuracy Score:  0.45901639344262285\n"
          ]
        }
      ]
    },
    {
      "cell_type": "markdown",
      "source": [
        "Market Data"
      ],
      "metadata": {
        "id": "v4Z-p07VF__X"
      }
    },
    {
      "cell_type": "code",
      "source": [
        "SSErand = np.random.RandomState()\n",
        "\n",
        "#for calculating average\n",
        "M_SSE_S = 0\n",
        "\n",
        "for l in Levels:\n",
        "  #most successsful in self-training\n",
        "  M_RF_SSE = RandomForestClassifier()\n",
        "  M_ST_SSE = SelfTrainingClassifier(M_RF_SSE)\n",
        "\n",
        "  M_random_unlabeled_pointsSSE = SSErand.rand(M_training_label.shape[0]) < l\n",
        "  M_labelsSSE = np.copy(M_training_label)\n",
        "  M_labelsSSE[M_random_unlabeled_pointsSSE] = -1\n",
        "\n",
        "  print(\"Scores when we have \",(l*100),\"% of unlabelled data:\\n\")\n",
        "\n",
        "  M_SSE = BaggingClassifier(M_ST_SSE,n_estimators=10, random_state=0)\n",
        "  M_SSE.fit(M_training_data,M_labelsSSE.ravel())\n",
        "\n",
        "  M_SEE_Pred=M_SSE.predict(M_testing_data)\n",
        "  M_SSE_score = accuracy_score(M_testing_label, M_SEE_Pred)\n",
        "  M_SSE_S = M_SSE_S + M_SSE_score\n",
        "  print(\"Market RF Accuracy Score: \",M_SSE_score)\n",
        "  print(\"\\n\\n\")\n",
        "\n",
        "print(\"Average Market SSE Accuracy Score: \",M_SSE_S/len(Levels))\n"
      ],
      "metadata": {
        "colab": {
          "base_uri": "https://localhost:8080/"
        },
        "id": "5Me8w22QGC2k",
        "outputId": "b9f0c550-c68a-4d77-9bab-1836d1f3fa80"
      },
      "execution_count": 48,
      "outputs": [
        {
          "output_type": "stream",
          "name": "stdout",
          "text": [
            "Scores when we have  0 % of unlabelled data:\n",
            "\n"
          ]
        },
        {
          "output_type": "stream",
          "name": "stderr",
          "text": [
            "/usr/local/lib/python3.7/dist-packages/sklearn/semi_supervised/_self_training.py:210: UserWarning: y contains no unlabeled samples\n",
            "  warnings.warn(\"y contains no unlabeled samples\", UserWarning)\n",
            "/usr/local/lib/python3.7/dist-packages/sklearn/semi_supervised/_self_training.py:210: UserWarning: y contains no unlabeled samples\n",
            "  warnings.warn(\"y contains no unlabeled samples\", UserWarning)\n",
            "/usr/local/lib/python3.7/dist-packages/sklearn/semi_supervised/_self_training.py:210: UserWarning: y contains no unlabeled samples\n",
            "  warnings.warn(\"y contains no unlabeled samples\", UserWarning)\n",
            "/usr/local/lib/python3.7/dist-packages/sklearn/semi_supervised/_self_training.py:210: UserWarning: y contains no unlabeled samples\n",
            "  warnings.warn(\"y contains no unlabeled samples\", UserWarning)\n",
            "/usr/local/lib/python3.7/dist-packages/sklearn/semi_supervised/_self_training.py:210: UserWarning: y contains no unlabeled samples\n",
            "  warnings.warn(\"y contains no unlabeled samples\", UserWarning)\n",
            "/usr/local/lib/python3.7/dist-packages/sklearn/semi_supervised/_self_training.py:210: UserWarning: y contains no unlabeled samples\n",
            "  warnings.warn(\"y contains no unlabeled samples\", UserWarning)\n",
            "/usr/local/lib/python3.7/dist-packages/sklearn/semi_supervised/_self_training.py:210: UserWarning: y contains no unlabeled samples\n",
            "  warnings.warn(\"y contains no unlabeled samples\", UserWarning)\n",
            "/usr/local/lib/python3.7/dist-packages/sklearn/semi_supervised/_self_training.py:210: UserWarning: y contains no unlabeled samples\n",
            "  warnings.warn(\"y contains no unlabeled samples\", UserWarning)\n",
            "/usr/local/lib/python3.7/dist-packages/sklearn/semi_supervised/_self_training.py:210: UserWarning: y contains no unlabeled samples\n",
            "  warnings.warn(\"y contains no unlabeled samples\", UserWarning)\n",
            "/usr/local/lib/python3.7/dist-packages/sklearn/semi_supervised/_self_training.py:210: UserWarning: y contains no unlabeled samples\n",
            "  warnings.warn(\"y contains no unlabeled samples\", UserWarning)\n"
          ]
        },
        {
          "output_type": "stream",
          "name": "stdout",
          "text": [
            "Market RF Accuracy Score:  0.8772321428571429\n",
            "\n",
            "\n",
            "\n",
            "Scores when we have  10.0 % of unlabelled data:\n",
            "\n"
          ]
        },
        {
          "output_type": "stream",
          "name": "stderr",
          "text": [
            "/usr/local/lib/python3.7/dist-packages/sklearn/semi_supervised/_self_training.py:210: UserWarning: y contains no unlabeled samples\n",
            "  warnings.warn(\"y contains no unlabeled samples\", UserWarning)\n",
            "/usr/local/lib/python3.7/dist-packages/sklearn/semi_supervised/_self_training.py:210: UserWarning: y contains no unlabeled samples\n",
            "  warnings.warn(\"y contains no unlabeled samples\", UserWarning)\n",
            "/usr/local/lib/python3.7/dist-packages/sklearn/semi_supervised/_self_training.py:210: UserWarning: y contains no unlabeled samples\n",
            "  warnings.warn(\"y contains no unlabeled samples\", UserWarning)\n",
            "/usr/local/lib/python3.7/dist-packages/sklearn/semi_supervised/_self_training.py:210: UserWarning: y contains no unlabeled samples\n",
            "  warnings.warn(\"y contains no unlabeled samples\", UserWarning)\n",
            "/usr/local/lib/python3.7/dist-packages/sklearn/semi_supervised/_self_training.py:210: UserWarning: y contains no unlabeled samples\n",
            "  warnings.warn(\"y contains no unlabeled samples\", UserWarning)\n",
            "/usr/local/lib/python3.7/dist-packages/sklearn/semi_supervised/_self_training.py:210: UserWarning: y contains no unlabeled samples\n",
            "  warnings.warn(\"y contains no unlabeled samples\", UserWarning)\n",
            "/usr/local/lib/python3.7/dist-packages/sklearn/semi_supervised/_self_training.py:210: UserWarning: y contains no unlabeled samples\n",
            "  warnings.warn(\"y contains no unlabeled samples\", UserWarning)\n",
            "/usr/local/lib/python3.7/dist-packages/sklearn/semi_supervised/_self_training.py:210: UserWarning: y contains no unlabeled samples\n",
            "  warnings.warn(\"y contains no unlabeled samples\", UserWarning)\n",
            "/usr/local/lib/python3.7/dist-packages/sklearn/semi_supervised/_self_training.py:210: UserWarning: y contains no unlabeled samples\n",
            "  warnings.warn(\"y contains no unlabeled samples\", UserWarning)\n",
            "/usr/local/lib/python3.7/dist-packages/sklearn/semi_supervised/_self_training.py:210: UserWarning: y contains no unlabeled samples\n",
            "  warnings.warn(\"y contains no unlabeled samples\", UserWarning)\n"
          ]
        },
        {
          "output_type": "stream",
          "name": "stdout",
          "text": [
            "Market RF Accuracy Score:  0.875\n",
            "\n",
            "\n",
            "\n",
            "Scores when we have  20.0 % of unlabelled data:\n",
            "\n"
          ]
        },
        {
          "output_type": "stream",
          "name": "stderr",
          "text": [
            "/usr/local/lib/python3.7/dist-packages/sklearn/semi_supervised/_self_training.py:210: UserWarning: y contains no unlabeled samples\n",
            "  warnings.warn(\"y contains no unlabeled samples\", UserWarning)\n",
            "/usr/local/lib/python3.7/dist-packages/sklearn/semi_supervised/_self_training.py:210: UserWarning: y contains no unlabeled samples\n",
            "  warnings.warn(\"y contains no unlabeled samples\", UserWarning)\n",
            "/usr/local/lib/python3.7/dist-packages/sklearn/semi_supervised/_self_training.py:210: UserWarning: y contains no unlabeled samples\n",
            "  warnings.warn(\"y contains no unlabeled samples\", UserWarning)\n",
            "/usr/local/lib/python3.7/dist-packages/sklearn/semi_supervised/_self_training.py:210: UserWarning: y contains no unlabeled samples\n",
            "  warnings.warn(\"y contains no unlabeled samples\", UserWarning)\n",
            "/usr/local/lib/python3.7/dist-packages/sklearn/semi_supervised/_self_training.py:210: UserWarning: y contains no unlabeled samples\n",
            "  warnings.warn(\"y contains no unlabeled samples\", UserWarning)\n",
            "/usr/local/lib/python3.7/dist-packages/sklearn/semi_supervised/_self_training.py:210: UserWarning: y contains no unlabeled samples\n",
            "  warnings.warn(\"y contains no unlabeled samples\", UserWarning)\n",
            "/usr/local/lib/python3.7/dist-packages/sklearn/semi_supervised/_self_training.py:210: UserWarning: y contains no unlabeled samples\n",
            "  warnings.warn(\"y contains no unlabeled samples\", UserWarning)\n",
            "/usr/local/lib/python3.7/dist-packages/sklearn/semi_supervised/_self_training.py:210: UserWarning: y contains no unlabeled samples\n",
            "  warnings.warn(\"y contains no unlabeled samples\", UserWarning)\n",
            "/usr/local/lib/python3.7/dist-packages/sklearn/semi_supervised/_self_training.py:210: UserWarning: y contains no unlabeled samples\n",
            "  warnings.warn(\"y contains no unlabeled samples\", UserWarning)\n",
            "/usr/local/lib/python3.7/dist-packages/sklearn/semi_supervised/_self_training.py:210: UserWarning: y contains no unlabeled samples\n",
            "  warnings.warn(\"y contains no unlabeled samples\", UserWarning)\n"
          ]
        },
        {
          "output_type": "stream",
          "name": "stdout",
          "text": [
            "Market RF Accuracy Score:  0.8504464285714286\n",
            "\n",
            "\n",
            "\n",
            "Scores when we have  50.0 % of unlabelled data:\n",
            "\n"
          ]
        },
        {
          "output_type": "stream",
          "name": "stderr",
          "text": [
            "/usr/local/lib/python3.7/dist-packages/sklearn/semi_supervised/_self_training.py:210: UserWarning: y contains no unlabeled samples\n",
            "  warnings.warn(\"y contains no unlabeled samples\", UserWarning)\n",
            "/usr/local/lib/python3.7/dist-packages/sklearn/semi_supervised/_self_training.py:210: UserWarning: y contains no unlabeled samples\n",
            "  warnings.warn(\"y contains no unlabeled samples\", UserWarning)\n",
            "/usr/local/lib/python3.7/dist-packages/sklearn/semi_supervised/_self_training.py:210: UserWarning: y contains no unlabeled samples\n",
            "  warnings.warn(\"y contains no unlabeled samples\", UserWarning)\n",
            "/usr/local/lib/python3.7/dist-packages/sklearn/semi_supervised/_self_training.py:210: UserWarning: y contains no unlabeled samples\n",
            "  warnings.warn(\"y contains no unlabeled samples\", UserWarning)\n",
            "/usr/local/lib/python3.7/dist-packages/sklearn/semi_supervised/_self_training.py:210: UserWarning: y contains no unlabeled samples\n",
            "  warnings.warn(\"y contains no unlabeled samples\", UserWarning)\n",
            "/usr/local/lib/python3.7/dist-packages/sklearn/semi_supervised/_self_training.py:210: UserWarning: y contains no unlabeled samples\n",
            "  warnings.warn(\"y contains no unlabeled samples\", UserWarning)\n",
            "/usr/local/lib/python3.7/dist-packages/sklearn/semi_supervised/_self_training.py:210: UserWarning: y contains no unlabeled samples\n",
            "  warnings.warn(\"y contains no unlabeled samples\", UserWarning)\n",
            "/usr/local/lib/python3.7/dist-packages/sklearn/semi_supervised/_self_training.py:210: UserWarning: y contains no unlabeled samples\n",
            "  warnings.warn(\"y contains no unlabeled samples\", UserWarning)\n",
            "/usr/local/lib/python3.7/dist-packages/sklearn/semi_supervised/_self_training.py:210: UserWarning: y contains no unlabeled samples\n",
            "  warnings.warn(\"y contains no unlabeled samples\", UserWarning)\n",
            "/usr/local/lib/python3.7/dist-packages/sklearn/semi_supervised/_self_training.py:210: UserWarning: y contains no unlabeled samples\n",
            "  warnings.warn(\"y contains no unlabeled samples\", UserWarning)\n"
          ]
        },
        {
          "output_type": "stream",
          "name": "stdout",
          "text": [
            "Market RF Accuracy Score:  0.296875\n",
            "\n",
            "\n",
            "\n",
            "Scores when we have  90.0 % of unlabelled data:\n",
            "\n"
          ]
        },
        {
          "output_type": "stream",
          "name": "stderr",
          "text": [
            "/usr/local/lib/python3.7/dist-packages/sklearn/semi_supervised/_self_training.py:210: UserWarning: y contains no unlabeled samples\n",
            "  warnings.warn(\"y contains no unlabeled samples\", UserWarning)\n",
            "/usr/local/lib/python3.7/dist-packages/sklearn/semi_supervised/_self_training.py:210: UserWarning: y contains no unlabeled samples\n",
            "  warnings.warn(\"y contains no unlabeled samples\", UserWarning)\n",
            "/usr/local/lib/python3.7/dist-packages/sklearn/semi_supervised/_self_training.py:210: UserWarning: y contains no unlabeled samples\n",
            "  warnings.warn(\"y contains no unlabeled samples\", UserWarning)\n",
            "/usr/local/lib/python3.7/dist-packages/sklearn/semi_supervised/_self_training.py:210: UserWarning: y contains no unlabeled samples\n",
            "  warnings.warn(\"y contains no unlabeled samples\", UserWarning)\n",
            "/usr/local/lib/python3.7/dist-packages/sklearn/semi_supervised/_self_training.py:210: UserWarning: y contains no unlabeled samples\n",
            "  warnings.warn(\"y contains no unlabeled samples\", UserWarning)\n",
            "/usr/local/lib/python3.7/dist-packages/sklearn/semi_supervised/_self_training.py:210: UserWarning: y contains no unlabeled samples\n",
            "  warnings.warn(\"y contains no unlabeled samples\", UserWarning)\n",
            "/usr/local/lib/python3.7/dist-packages/sklearn/semi_supervised/_self_training.py:210: UserWarning: y contains no unlabeled samples\n",
            "  warnings.warn(\"y contains no unlabeled samples\", UserWarning)\n",
            "/usr/local/lib/python3.7/dist-packages/sklearn/semi_supervised/_self_training.py:210: UserWarning: y contains no unlabeled samples\n",
            "  warnings.warn(\"y contains no unlabeled samples\", UserWarning)\n",
            "/usr/local/lib/python3.7/dist-packages/sklearn/semi_supervised/_self_training.py:210: UserWarning: y contains no unlabeled samples\n",
            "  warnings.warn(\"y contains no unlabeled samples\", UserWarning)\n",
            "/usr/local/lib/python3.7/dist-packages/sklearn/semi_supervised/_self_training.py:210: UserWarning: y contains no unlabeled samples\n",
            "  warnings.warn(\"y contains no unlabeled samples\", UserWarning)\n"
          ]
        },
        {
          "output_type": "stream",
          "name": "stdout",
          "text": [
            "Market RF Accuracy Score:  0.004464285714285714\n",
            "\n",
            "\n",
            "\n",
            "Scores when we have  95.0 % of unlabelled data:\n",
            "\n"
          ]
        },
        {
          "output_type": "stream",
          "name": "stderr",
          "text": [
            "/usr/local/lib/python3.7/dist-packages/sklearn/semi_supervised/_self_training.py:210: UserWarning: y contains no unlabeled samples\n",
            "  warnings.warn(\"y contains no unlabeled samples\", UserWarning)\n",
            "/usr/local/lib/python3.7/dist-packages/sklearn/semi_supervised/_self_training.py:210: UserWarning: y contains no unlabeled samples\n",
            "  warnings.warn(\"y contains no unlabeled samples\", UserWarning)\n",
            "/usr/local/lib/python3.7/dist-packages/sklearn/semi_supervised/_self_training.py:210: UserWarning: y contains no unlabeled samples\n",
            "  warnings.warn(\"y contains no unlabeled samples\", UserWarning)\n",
            "/usr/local/lib/python3.7/dist-packages/sklearn/semi_supervised/_self_training.py:210: UserWarning: y contains no unlabeled samples\n",
            "  warnings.warn(\"y contains no unlabeled samples\", UserWarning)\n",
            "/usr/local/lib/python3.7/dist-packages/sklearn/semi_supervised/_self_training.py:210: UserWarning: y contains no unlabeled samples\n",
            "  warnings.warn(\"y contains no unlabeled samples\", UserWarning)\n",
            "/usr/local/lib/python3.7/dist-packages/sklearn/semi_supervised/_self_training.py:210: UserWarning: y contains no unlabeled samples\n",
            "  warnings.warn(\"y contains no unlabeled samples\", UserWarning)\n",
            "/usr/local/lib/python3.7/dist-packages/sklearn/semi_supervised/_self_training.py:210: UserWarning: y contains no unlabeled samples\n",
            "  warnings.warn(\"y contains no unlabeled samples\", UserWarning)\n",
            "/usr/local/lib/python3.7/dist-packages/sklearn/semi_supervised/_self_training.py:210: UserWarning: y contains no unlabeled samples\n",
            "  warnings.warn(\"y contains no unlabeled samples\", UserWarning)\n",
            "/usr/local/lib/python3.7/dist-packages/sklearn/semi_supervised/_self_training.py:210: UserWarning: y contains no unlabeled samples\n",
            "  warnings.warn(\"y contains no unlabeled samples\", UserWarning)\n",
            "/usr/local/lib/python3.7/dist-packages/sklearn/semi_supervised/_self_training.py:210: UserWarning: y contains no unlabeled samples\n",
            "  warnings.warn(\"y contains no unlabeled samples\", UserWarning)\n"
          ]
        },
        {
          "output_type": "stream",
          "name": "stdout",
          "text": [
            "Market RF Accuracy Score:  0.0\n",
            "\n",
            "\n",
            "\n",
            "Average Market SSE Accuracy Score:  0.4840029761904761\n"
          ]
        }
      ]
    },
    {
      "cell_type": "markdown",
      "source": [
        "Online Shoppers Data"
      ],
      "metadata": {
        "id": "ylzdKjkVGDOf"
      }
    },
    {
      "cell_type": "code",
      "source": [
        "SSErand = np.random.RandomState()\n",
        "\n",
        "#for calculating average\n",
        "S_SSE_S = 0\n",
        "\n",
        "for l in Levels:\n",
        "  #most successsful in self-training\n",
        "  S_RF_SSE = RandomForestClassifier()\n",
        "  S_ST_SSE = SelfTrainingClassifier(S_RF_SSE)\n",
        "\n",
        "  S_random_unlabeled_pointsSSE = SSErand.rand(S_training_label.shape[0]) < l\n",
        "  S_labelsSSE = np.copy(S_training_label)\n",
        "  S_labelsSSE[S_random_unlabeled_pointsSSE] = -1\n",
        "\n",
        "  print(\"Scores when we have \",(l*100),\"% of unlabelled data:\\n\")\n",
        "\n",
        "  S_SSE = BaggingClassifier(S_ST_SSE,n_estimators=10, random_state=0)\n",
        "  S_SSE.fit(S_training_data,S_labelsSSE.ravel())\n",
        "\n",
        "  S_SEE_Pred=S_SSE.predict(S_testing_data)\n",
        "  S_SSE_score = accuracy_score(S_testing_label, S_SEE_Pred)\n",
        "  S_SSE_S = S_SSE_S + S_SSE_score\n",
        "  print(\"Online Shoppers RF Accuracy Score: \",S_SSE_score)\n",
        "  print(\"\\n\\n\")\n",
        "\n",
        "print(\"Average Online Shoppers SSE Accuracy Score: \",S_SSE_S/len(Levels))"
      ],
      "metadata": {
        "colab": {
          "base_uri": "https://localhost:8080/"
        },
        "id": "0vy35EFyGHj0",
        "outputId": "f092e561-0d24-471e-9e7a-a400d47adfa5"
      },
      "execution_count": 49,
      "outputs": [
        {
          "output_type": "stream",
          "name": "stdout",
          "text": [
            "Scores when we have  0 % of unlabelled data:\n",
            "\n"
          ]
        },
        {
          "output_type": "stream",
          "name": "stderr",
          "text": [
            "/usr/local/lib/python3.7/dist-packages/sklearn/semi_supervised/_self_training.py:210: UserWarning: y contains no unlabeled samples\n",
            "  warnings.warn(\"y contains no unlabeled samples\", UserWarning)\n",
            "/usr/local/lib/python3.7/dist-packages/sklearn/semi_supervised/_self_training.py:210: UserWarning: y contains no unlabeled samples\n",
            "  warnings.warn(\"y contains no unlabeled samples\", UserWarning)\n",
            "/usr/local/lib/python3.7/dist-packages/sklearn/semi_supervised/_self_training.py:210: UserWarning: y contains no unlabeled samples\n",
            "  warnings.warn(\"y contains no unlabeled samples\", UserWarning)\n",
            "/usr/local/lib/python3.7/dist-packages/sklearn/semi_supervised/_self_training.py:210: UserWarning: y contains no unlabeled samples\n",
            "  warnings.warn(\"y contains no unlabeled samples\", UserWarning)\n",
            "/usr/local/lib/python3.7/dist-packages/sklearn/semi_supervised/_self_training.py:210: UserWarning: y contains no unlabeled samples\n",
            "  warnings.warn(\"y contains no unlabeled samples\", UserWarning)\n",
            "/usr/local/lib/python3.7/dist-packages/sklearn/semi_supervised/_self_training.py:210: UserWarning: y contains no unlabeled samples\n",
            "  warnings.warn(\"y contains no unlabeled samples\", UserWarning)\n",
            "/usr/local/lib/python3.7/dist-packages/sklearn/semi_supervised/_self_training.py:210: UserWarning: y contains no unlabeled samples\n",
            "  warnings.warn(\"y contains no unlabeled samples\", UserWarning)\n",
            "/usr/local/lib/python3.7/dist-packages/sklearn/semi_supervised/_self_training.py:210: UserWarning: y contains no unlabeled samples\n",
            "  warnings.warn(\"y contains no unlabeled samples\", UserWarning)\n",
            "/usr/local/lib/python3.7/dist-packages/sklearn/semi_supervised/_self_training.py:210: UserWarning: y contains no unlabeled samples\n",
            "  warnings.warn(\"y contains no unlabeled samples\", UserWarning)\n",
            "/usr/local/lib/python3.7/dist-packages/sklearn/semi_supervised/_self_training.py:210: UserWarning: y contains no unlabeled samples\n",
            "  warnings.warn(\"y contains no unlabeled samples\", UserWarning)\n"
          ]
        },
        {
          "output_type": "stream",
          "name": "stdout",
          "text": [
            "Online Shoppers RF Accuracy Score:  0.897404703974047\n",
            "\n",
            "\n",
            "\n",
            "Scores when we have  10.0 % of unlabelled data:\n",
            "\n"
          ]
        },
        {
          "output_type": "stream",
          "name": "stderr",
          "text": [
            "/usr/local/lib/python3.7/dist-packages/sklearn/semi_supervised/_self_training.py:210: UserWarning: y contains no unlabeled samples\n",
            "  warnings.warn(\"y contains no unlabeled samples\", UserWarning)\n",
            "/usr/local/lib/python3.7/dist-packages/sklearn/semi_supervised/_self_training.py:210: UserWarning: y contains no unlabeled samples\n",
            "  warnings.warn(\"y contains no unlabeled samples\", UserWarning)\n",
            "/usr/local/lib/python3.7/dist-packages/sklearn/semi_supervised/_self_training.py:210: UserWarning: y contains no unlabeled samples\n",
            "  warnings.warn(\"y contains no unlabeled samples\", UserWarning)\n",
            "/usr/local/lib/python3.7/dist-packages/sklearn/semi_supervised/_self_training.py:210: UserWarning: y contains no unlabeled samples\n",
            "  warnings.warn(\"y contains no unlabeled samples\", UserWarning)\n",
            "/usr/local/lib/python3.7/dist-packages/sklearn/semi_supervised/_self_training.py:210: UserWarning: y contains no unlabeled samples\n",
            "  warnings.warn(\"y contains no unlabeled samples\", UserWarning)\n",
            "/usr/local/lib/python3.7/dist-packages/sklearn/semi_supervised/_self_training.py:210: UserWarning: y contains no unlabeled samples\n",
            "  warnings.warn(\"y contains no unlabeled samples\", UserWarning)\n",
            "/usr/local/lib/python3.7/dist-packages/sklearn/semi_supervised/_self_training.py:210: UserWarning: y contains no unlabeled samples\n",
            "  warnings.warn(\"y contains no unlabeled samples\", UserWarning)\n",
            "/usr/local/lib/python3.7/dist-packages/sklearn/semi_supervised/_self_training.py:210: UserWarning: y contains no unlabeled samples\n",
            "  warnings.warn(\"y contains no unlabeled samples\", UserWarning)\n",
            "/usr/local/lib/python3.7/dist-packages/sklearn/semi_supervised/_self_training.py:210: UserWarning: y contains no unlabeled samples\n",
            "  warnings.warn(\"y contains no unlabeled samples\", UserWarning)\n",
            "/usr/local/lib/python3.7/dist-packages/sklearn/semi_supervised/_self_training.py:210: UserWarning: y contains no unlabeled samples\n",
            "  warnings.warn(\"y contains no unlabeled samples\", UserWarning)\n"
          ]
        },
        {
          "output_type": "stream",
          "name": "stdout",
          "text": [
            "Online Shoppers RF Accuracy Score:  0.8957826439578265\n",
            "\n",
            "\n",
            "\n",
            "Scores when we have  20.0 % of unlabelled data:\n",
            "\n"
          ]
        },
        {
          "output_type": "stream",
          "name": "stderr",
          "text": [
            "/usr/local/lib/python3.7/dist-packages/sklearn/semi_supervised/_self_training.py:210: UserWarning: y contains no unlabeled samples\n",
            "  warnings.warn(\"y contains no unlabeled samples\", UserWarning)\n",
            "/usr/local/lib/python3.7/dist-packages/sklearn/semi_supervised/_self_training.py:210: UserWarning: y contains no unlabeled samples\n",
            "  warnings.warn(\"y contains no unlabeled samples\", UserWarning)\n",
            "/usr/local/lib/python3.7/dist-packages/sklearn/semi_supervised/_self_training.py:210: UserWarning: y contains no unlabeled samples\n",
            "  warnings.warn(\"y contains no unlabeled samples\", UserWarning)\n",
            "/usr/local/lib/python3.7/dist-packages/sklearn/semi_supervised/_self_training.py:210: UserWarning: y contains no unlabeled samples\n",
            "  warnings.warn(\"y contains no unlabeled samples\", UserWarning)\n",
            "/usr/local/lib/python3.7/dist-packages/sklearn/semi_supervised/_self_training.py:210: UserWarning: y contains no unlabeled samples\n",
            "  warnings.warn(\"y contains no unlabeled samples\", UserWarning)\n",
            "/usr/local/lib/python3.7/dist-packages/sklearn/semi_supervised/_self_training.py:210: UserWarning: y contains no unlabeled samples\n",
            "  warnings.warn(\"y contains no unlabeled samples\", UserWarning)\n",
            "/usr/local/lib/python3.7/dist-packages/sklearn/semi_supervised/_self_training.py:210: UserWarning: y contains no unlabeled samples\n",
            "  warnings.warn(\"y contains no unlabeled samples\", UserWarning)\n",
            "/usr/local/lib/python3.7/dist-packages/sklearn/semi_supervised/_self_training.py:210: UserWarning: y contains no unlabeled samples\n",
            "  warnings.warn(\"y contains no unlabeled samples\", UserWarning)\n",
            "/usr/local/lib/python3.7/dist-packages/sklearn/semi_supervised/_self_training.py:210: UserWarning: y contains no unlabeled samples\n",
            "  warnings.warn(\"y contains no unlabeled samples\", UserWarning)\n",
            "/usr/local/lib/python3.7/dist-packages/sklearn/semi_supervised/_self_training.py:210: UserWarning: y contains no unlabeled samples\n",
            "  warnings.warn(\"y contains no unlabeled samples\", UserWarning)\n"
          ]
        },
        {
          "output_type": "stream",
          "name": "stdout",
          "text": [
            "Online Shoppers RF Accuracy Score:  0.8909164639091647\n",
            "\n",
            "\n",
            "\n",
            "Scores when we have  50.0 % of unlabelled data:\n",
            "\n"
          ]
        },
        {
          "output_type": "stream",
          "name": "stderr",
          "text": [
            "/usr/local/lib/python3.7/dist-packages/sklearn/semi_supervised/_self_training.py:210: UserWarning: y contains no unlabeled samples\n",
            "  warnings.warn(\"y contains no unlabeled samples\", UserWarning)\n",
            "/usr/local/lib/python3.7/dist-packages/sklearn/semi_supervised/_self_training.py:210: UserWarning: y contains no unlabeled samples\n",
            "  warnings.warn(\"y contains no unlabeled samples\", UserWarning)\n",
            "/usr/local/lib/python3.7/dist-packages/sklearn/semi_supervised/_self_training.py:210: UserWarning: y contains no unlabeled samples\n",
            "  warnings.warn(\"y contains no unlabeled samples\", UserWarning)\n",
            "/usr/local/lib/python3.7/dist-packages/sklearn/semi_supervised/_self_training.py:210: UserWarning: y contains no unlabeled samples\n",
            "  warnings.warn(\"y contains no unlabeled samples\", UserWarning)\n",
            "/usr/local/lib/python3.7/dist-packages/sklearn/semi_supervised/_self_training.py:210: UserWarning: y contains no unlabeled samples\n",
            "  warnings.warn(\"y contains no unlabeled samples\", UserWarning)\n",
            "/usr/local/lib/python3.7/dist-packages/sklearn/semi_supervised/_self_training.py:210: UserWarning: y contains no unlabeled samples\n",
            "  warnings.warn(\"y contains no unlabeled samples\", UserWarning)\n",
            "/usr/local/lib/python3.7/dist-packages/sklearn/semi_supervised/_self_training.py:210: UserWarning: y contains no unlabeled samples\n",
            "  warnings.warn(\"y contains no unlabeled samples\", UserWarning)\n",
            "/usr/local/lib/python3.7/dist-packages/sklearn/semi_supervised/_self_training.py:210: UserWarning: y contains no unlabeled samples\n",
            "  warnings.warn(\"y contains no unlabeled samples\", UserWarning)\n",
            "/usr/local/lib/python3.7/dist-packages/sklearn/semi_supervised/_self_training.py:210: UserWarning: y contains no unlabeled samples\n",
            "  warnings.warn(\"y contains no unlabeled samples\", UserWarning)\n",
            "/usr/local/lib/python3.7/dist-packages/sklearn/semi_supervised/_self_training.py:210: UserWarning: y contains no unlabeled samples\n",
            "  warnings.warn(\"y contains no unlabeled samples\", UserWarning)\n"
          ]
        },
        {
          "output_type": "stream",
          "name": "stdout",
          "text": [
            "Online Shoppers RF Accuracy Score:  0.3491484184914842\n",
            "\n",
            "\n",
            "\n",
            "Scores when we have  90.0 % of unlabelled data:\n",
            "\n"
          ]
        },
        {
          "output_type": "stream",
          "name": "stderr",
          "text": [
            "/usr/local/lib/python3.7/dist-packages/sklearn/semi_supervised/_self_training.py:210: UserWarning: y contains no unlabeled samples\n",
            "  warnings.warn(\"y contains no unlabeled samples\", UserWarning)\n",
            "/usr/local/lib/python3.7/dist-packages/sklearn/semi_supervised/_self_training.py:210: UserWarning: y contains no unlabeled samples\n",
            "  warnings.warn(\"y contains no unlabeled samples\", UserWarning)\n",
            "/usr/local/lib/python3.7/dist-packages/sklearn/semi_supervised/_self_training.py:210: UserWarning: y contains no unlabeled samples\n",
            "  warnings.warn(\"y contains no unlabeled samples\", UserWarning)\n",
            "/usr/local/lib/python3.7/dist-packages/sklearn/semi_supervised/_self_training.py:210: UserWarning: y contains no unlabeled samples\n",
            "  warnings.warn(\"y contains no unlabeled samples\", UserWarning)\n",
            "/usr/local/lib/python3.7/dist-packages/sklearn/semi_supervised/_self_training.py:210: UserWarning: y contains no unlabeled samples\n",
            "  warnings.warn(\"y contains no unlabeled samples\", UserWarning)\n",
            "/usr/local/lib/python3.7/dist-packages/sklearn/semi_supervised/_self_training.py:210: UserWarning: y contains no unlabeled samples\n",
            "  warnings.warn(\"y contains no unlabeled samples\", UserWarning)\n",
            "/usr/local/lib/python3.7/dist-packages/sklearn/semi_supervised/_self_training.py:210: UserWarning: y contains no unlabeled samples\n",
            "  warnings.warn(\"y contains no unlabeled samples\", UserWarning)\n",
            "/usr/local/lib/python3.7/dist-packages/sklearn/semi_supervised/_self_training.py:210: UserWarning: y contains no unlabeled samples\n",
            "  warnings.warn(\"y contains no unlabeled samples\", UserWarning)\n",
            "/usr/local/lib/python3.7/dist-packages/sklearn/semi_supervised/_self_training.py:210: UserWarning: y contains no unlabeled samples\n",
            "  warnings.warn(\"y contains no unlabeled samples\", UserWarning)\n",
            "/usr/local/lib/python3.7/dist-packages/sklearn/semi_supervised/_self_training.py:210: UserWarning: y contains no unlabeled samples\n",
            "  warnings.warn(\"y contains no unlabeled samples\", UserWarning)\n"
          ]
        },
        {
          "output_type": "stream",
          "name": "stdout",
          "text": [
            "Online Shoppers RF Accuracy Score:  0.00040551500405515005\n",
            "\n",
            "\n",
            "\n",
            "Scores when we have  95.0 % of unlabelled data:\n",
            "\n"
          ]
        },
        {
          "output_type": "stream",
          "name": "stderr",
          "text": [
            "/usr/local/lib/python3.7/dist-packages/sklearn/semi_supervised/_self_training.py:210: UserWarning: y contains no unlabeled samples\n",
            "  warnings.warn(\"y contains no unlabeled samples\", UserWarning)\n",
            "/usr/local/lib/python3.7/dist-packages/sklearn/semi_supervised/_self_training.py:210: UserWarning: y contains no unlabeled samples\n",
            "  warnings.warn(\"y contains no unlabeled samples\", UserWarning)\n",
            "/usr/local/lib/python3.7/dist-packages/sklearn/semi_supervised/_self_training.py:210: UserWarning: y contains no unlabeled samples\n",
            "  warnings.warn(\"y contains no unlabeled samples\", UserWarning)\n",
            "/usr/local/lib/python3.7/dist-packages/sklearn/semi_supervised/_self_training.py:210: UserWarning: y contains no unlabeled samples\n",
            "  warnings.warn(\"y contains no unlabeled samples\", UserWarning)\n",
            "/usr/local/lib/python3.7/dist-packages/sklearn/semi_supervised/_self_training.py:210: UserWarning: y contains no unlabeled samples\n",
            "  warnings.warn(\"y contains no unlabeled samples\", UserWarning)\n",
            "/usr/local/lib/python3.7/dist-packages/sklearn/semi_supervised/_self_training.py:210: UserWarning: y contains no unlabeled samples\n",
            "  warnings.warn(\"y contains no unlabeled samples\", UserWarning)\n",
            "/usr/local/lib/python3.7/dist-packages/sklearn/semi_supervised/_self_training.py:210: UserWarning: y contains no unlabeled samples\n",
            "  warnings.warn(\"y contains no unlabeled samples\", UserWarning)\n",
            "/usr/local/lib/python3.7/dist-packages/sklearn/semi_supervised/_self_training.py:210: UserWarning: y contains no unlabeled samples\n",
            "  warnings.warn(\"y contains no unlabeled samples\", UserWarning)\n",
            "/usr/local/lib/python3.7/dist-packages/sklearn/semi_supervised/_self_training.py:210: UserWarning: y contains no unlabeled samples\n",
            "  warnings.warn(\"y contains no unlabeled samples\", UserWarning)\n",
            "/usr/local/lib/python3.7/dist-packages/sklearn/semi_supervised/_self_training.py:210: UserWarning: y contains no unlabeled samples\n",
            "  warnings.warn(\"y contains no unlabeled samples\", UserWarning)\n"
          ]
        },
        {
          "output_type": "stream",
          "name": "stdout",
          "text": [
            "Online Shoppers RF Accuracy Score:  0.00040551500405515005\n",
            "\n",
            "\n",
            "\n",
            "Average Online Shoppers SSE Accuracy Score:  0.5056772100567721\n"
          ]
        }
      ]
    },
    {
      "cell_type": "markdown",
      "source": [
        "Balanced Online Shoppers Data"
      ],
      "metadata": {
        "id": "umwnFLczRSxl"
      }
    },
    {
      "cell_type": "code",
      "source": [
        "SSErand = np.random.RandomState()\n",
        "\n",
        "#for calculating average\n",
        "BS_SSE_S = 0\n",
        "\n",
        "for l in Levels:\n",
        "  #most successsful in self-training\n",
        "  BS_RF_SSE = RandomForestClassifier()\n",
        "  BS_ST_SSE = SelfTrainingClassifier(BS_RF_SSE)\n",
        "\n",
        "  BS_random_unlabeled_pointsSSE = SSErand.rand(BS_training_label.shape[0]) < l\n",
        "  BS_labelsSSE = np.copy(BS_training_label)\n",
        "  BS_labelsSSE[BS_random_unlabeled_pointsSSE] = -1\n",
        "\n",
        "  print(\"Scores when we have \",(l*100),\"% of unlabelled data:\\n\")\n",
        "\n",
        "  BS_SSE = BaggingClassifier(BS_ST_SSE,n_estimators=10, random_state=0)\n",
        "  BS_SSE.fit(BS_training_data,BS_labelsSSE.ravel())\n",
        "\n",
        "  BS_SEE_Pred=BS_SSE.predict(BS_testing_data)\n",
        "  BS_SSE_score = accuracy_score(BS_testing_label, BS_SEE_Pred)\n",
        "  BS_SSE_S = BS_SSE_S + BS_SSE_score\n",
        "  print(\"Balanced Online Shoppers RF Accuracy Score: \",BS_SSE_score)\n",
        "  print(\"\\n\\n\")\n",
        "\n",
        "print(\"Average Balanced Online Shoppers SSE Accuracy Score: \",BS_SSE_S/len(Levels))"
      ],
      "metadata": {
        "colab": {
          "base_uri": "https://localhost:8080/"
        },
        "id": "S2RE6ovFRUBj",
        "outputId": "f8940840-c4fe-4d91-8aec-79affdcc5f7a"
      },
      "execution_count": 10,
      "outputs": [
        {
          "output_type": "stream",
          "name": "stdout",
          "text": [
            "Scores when we have  0 % of unlabelled data:\n",
            "\n"
          ]
        },
        {
          "output_type": "stream",
          "name": "stderr",
          "text": [
            "/usr/local/lib/python3.7/dist-packages/sklearn/semi_supervised/_self_training.py:210: UserWarning: y contains no unlabeled samples\n",
            "  warnings.warn(\"y contains no unlabeled samples\", UserWarning)\n",
            "/usr/local/lib/python3.7/dist-packages/sklearn/semi_supervised/_self_training.py:210: UserWarning: y contains no unlabeled samples\n",
            "  warnings.warn(\"y contains no unlabeled samples\", UserWarning)\n",
            "/usr/local/lib/python3.7/dist-packages/sklearn/semi_supervised/_self_training.py:210: UserWarning: y contains no unlabeled samples\n",
            "  warnings.warn(\"y contains no unlabeled samples\", UserWarning)\n",
            "/usr/local/lib/python3.7/dist-packages/sklearn/semi_supervised/_self_training.py:210: UserWarning: y contains no unlabeled samples\n",
            "  warnings.warn(\"y contains no unlabeled samples\", UserWarning)\n",
            "/usr/local/lib/python3.7/dist-packages/sklearn/semi_supervised/_self_training.py:210: UserWarning: y contains no unlabeled samples\n",
            "  warnings.warn(\"y contains no unlabeled samples\", UserWarning)\n",
            "/usr/local/lib/python3.7/dist-packages/sklearn/semi_supervised/_self_training.py:210: UserWarning: y contains no unlabeled samples\n",
            "  warnings.warn(\"y contains no unlabeled samples\", UserWarning)\n",
            "/usr/local/lib/python3.7/dist-packages/sklearn/semi_supervised/_self_training.py:210: UserWarning: y contains no unlabeled samples\n",
            "  warnings.warn(\"y contains no unlabeled samples\", UserWarning)\n",
            "/usr/local/lib/python3.7/dist-packages/sklearn/semi_supervised/_self_training.py:210: UserWarning: y contains no unlabeled samples\n",
            "  warnings.warn(\"y contains no unlabeled samples\", UserWarning)\n",
            "/usr/local/lib/python3.7/dist-packages/sklearn/semi_supervised/_self_training.py:210: UserWarning: y contains no unlabeled samples\n",
            "  warnings.warn(\"y contains no unlabeled samples\", UserWarning)\n",
            "/usr/local/lib/python3.7/dist-packages/sklearn/semi_supervised/_self_training.py:210: UserWarning: y contains no unlabeled samples\n",
            "  warnings.warn(\"y contains no unlabeled samples\", UserWarning)\n"
          ]
        },
        {
          "output_type": "stream",
          "name": "stdout",
          "text": [
            "Balanced Online Shoppers RF Accuracy Score:  0.9803310146318062\n",
            "\n",
            "\n",
            "\n",
            "Scores when we have  10.0 % of unlabelled data:\n",
            "\n"
          ]
        },
        {
          "output_type": "stream",
          "name": "stderr",
          "text": [
            "/usr/local/lib/python3.7/dist-packages/sklearn/semi_supervised/_self_training.py:210: UserWarning: y contains no unlabeled samples\n",
            "  warnings.warn(\"y contains no unlabeled samples\", UserWarning)\n",
            "/usr/local/lib/python3.7/dist-packages/sklearn/semi_supervised/_self_training.py:210: UserWarning: y contains no unlabeled samples\n",
            "  warnings.warn(\"y contains no unlabeled samples\", UserWarning)\n",
            "/usr/local/lib/python3.7/dist-packages/sklearn/semi_supervised/_self_training.py:210: UserWarning: y contains no unlabeled samples\n",
            "  warnings.warn(\"y contains no unlabeled samples\", UserWarning)\n",
            "/usr/local/lib/python3.7/dist-packages/sklearn/semi_supervised/_self_training.py:210: UserWarning: y contains no unlabeled samples\n",
            "  warnings.warn(\"y contains no unlabeled samples\", UserWarning)\n",
            "/usr/local/lib/python3.7/dist-packages/sklearn/semi_supervised/_self_training.py:210: UserWarning: y contains no unlabeled samples\n",
            "  warnings.warn(\"y contains no unlabeled samples\", UserWarning)\n",
            "/usr/local/lib/python3.7/dist-packages/sklearn/semi_supervised/_self_training.py:210: UserWarning: y contains no unlabeled samples\n",
            "  warnings.warn(\"y contains no unlabeled samples\", UserWarning)\n",
            "/usr/local/lib/python3.7/dist-packages/sklearn/semi_supervised/_self_training.py:210: UserWarning: y contains no unlabeled samples\n",
            "  warnings.warn(\"y contains no unlabeled samples\", UserWarning)\n",
            "/usr/local/lib/python3.7/dist-packages/sklearn/semi_supervised/_self_training.py:210: UserWarning: y contains no unlabeled samples\n",
            "  warnings.warn(\"y contains no unlabeled samples\", UserWarning)\n",
            "/usr/local/lib/python3.7/dist-packages/sklearn/semi_supervised/_self_training.py:210: UserWarning: y contains no unlabeled samples\n",
            "  warnings.warn(\"y contains no unlabeled samples\", UserWarning)\n",
            "/usr/local/lib/python3.7/dist-packages/sklearn/semi_supervised/_self_training.py:210: UserWarning: y contains no unlabeled samples\n",
            "  warnings.warn(\"y contains no unlabeled samples\", UserWarning)\n"
          ]
        },
        {
          "output_type": "stream",
          "name": "stdout",
          "text": [
            "Balanced Online Shoppers RF Accuracy Score:  0.9685775965459342\n",
            "\n",
            "\n",
            "\n",
            "Scores when we have  20.0 % of unlabelled data:\n",
            "\n"
          ]
        },
        {
          "output_type": "stream",
          "name": "stderr",
          "text": [
            "/usr/local/lib/python3.7/dist-packages/sklearn/semi_supervised/_self_training.py:210: UserWarning: y contains no unlabeled samples\n",
            "  warnings.warn(\"y contains no unlabeled samples\", UserWarning)\n",
            "/usr/local/lib/python3.7/dist-packages/sklearn/semi_supervised/_self_training.py:210: UserWarning: y contains no unlabeled samples\n",
            "  warnings.warn(\"y contains no unlabeled samples\", UserWarning)\n",
            "/usr/local/lib/python3.7/dist-packages/sklearn/semi_supervised/_self_training.py:210: UserWarning: y contains no unlabeled samples\n",
            "  warnings.warn(\"y contains no unlabeled samples\", UserWarning)\n",
            "/usr/local/lib/python3.7/dist-packages/sklearn/semi_supervised/_self_training.py:210: UserWarning: y contains no unlabeled samples\n",
            "  warnings.warn(\"y contains no unlabeled samples\", UserWarning)\n",
            "/usr/local/lib/python3.7/dist-packages/sklearn/semi_supervised/_self_training.py:210: UserWarning: y contains no unlabeled samples\n",
            "  warnings.warn(\"y contains no unlabeled samples\", UserWarning)\n",
            "/usr/local/lib/python3.7/dist-packages/sklearn/semi_supervised/_self_training.py:210: UserWarning: y contains no unlabeled samples\n",
            "  warnings.warn(\"y contains no unlabeled samples\", UserWarning)\n",
            "/usr/local/lib/python3.7/dist-packages/sklearn/semi_supervised/_self_training.py:210: UserWarning: y contains no unlabeled samples\n",
            "  warnings.warn(\"y contains no unlabeled samples\", UserWarning)\n",
            "/usr/local/lib/python3.7/dist-packages/sklearn/semi_supervised/_self_training.py:210: UserWarning: y contains no unlabeled samples\n",
            "  warnings.warn(\"y contains no unlabeled samples\", UserWarning)\n",
            "/usr/local/lib/python3.7/dist-packages/sklearn/semi_supervised/_self_training.py:210: UserWarning: y contains no unlabeled samples\n",
            "  warnings.warn(\"y contains no unlabeled samples\", UserWarning)\n",
            "/usr/local/lib/python3.7/dist-packages/sklearn/semi_supervised/_self_training.py:210: UserWarning: y contains no unlabeled samples\n",
            "  warnings.warn(\"y contains no unlabeled samples\", UserWarning)\n"
          ]
        },
        {
          "output_type": "stream",
          "name": "stdout",
          "text": [
            "Balanced Online Shoppers RF Accuracy Score:  0.9441112976733029\n",
            "\n",
            "\n",
            "\n",
            "Scores when we have  50.0 % of unlabelled data:\n",
            "\n"
          ]
        },
        {
          "output_type": "stream",
          "name": "stderr",
          "text": [
            "/usr/local/lib/python3.7/dist-packages/sklearn/semi_supervised/_self_training.py:210: UserWarning: y contains no unlabeled samples\n",
            "  warnings.warn(\"y contains no unlabeled samples\", UserWarning)\n",
            "/usr/local/lib/python3.7/dist-packages/sklearn/semi_supervised/_self_training.py:210: UserWarning: y contains no unlabeled samples\n",
            "  warnings.warn(\"y contains no unlabeled samples\", UserWarning)\n",
            "/usr/local/lib/python3.7/dist-packages/sklearn/semi_supervised/_self_training.py:210: UserWarning: y contains no unlabeled samples\n",
            "  warnings.warn(\"y contains no unlabeled samples\", UserWarning)\n",
            "/usr/local/lib/python3.7/dist-packages/sklearn/semi_supervised/_self_training.py:210: UserWarning: y contains no unlabeled samples\n",
            "  warnings.warn(\"y contains no unlabeled samples\", UserWarning)\n",
            "/usr/local/lib/python3.7/dist-packages/sklearn/semi_supervised/_self_training.py:210: UserWarning: y contains no unlabeled samples\n",
            "  warnings.warn(\"y contains no unlabeled samples\", UserWarning)\n",
            "/usr/local/lib/python3.7/dist-packages/sklearn/semi_supervised/_self_training.py:210: UserWarning: y contains no unlabeled samples\n",
            "  warnings.warn(\"y contains no unlabeled samples\", UserWarning)\n",
            "/usr/local/lib/python3.7/dist-packages/sklearn/semi_supervised/_self_training.py:210: UserWarning: y contains no unlabeled samples\n",
            "  warnings.warn(\"y contains no unlabeled samples\", UserWarning)\n",
            "/usr/local/lib/python3.7/dist-packages/sklearn/semi_supervised/_self_training.py:210: UserWarning: y contains no unlabeled samples\n",
            "  warnings.warn(\"y contains no unlabeled samples\", UserWarning)\n",
            "/usr/local/lib/python3.7/dist-packages/sklearn/semi_supervised/_self_training.py:210: UserWarning: y contains no unlabeled samples\n",
            "  warnings.warn(\"y contains no unlabeled samples\", UserWarning)\n",
            "/usr/local/lib/python3.7/dist-packages/sklearn/semi_supervised/_self_training.py:210: UserWarning: y contains no unlabeled samples\n",
            "  warnings.warn(\"y contains no unlabeled samples\", UserWarning)\n"
          ]
        },
        {
          "output_type": "stream",
          "name": "stdout",
          "text": [
            "Balanced Online Shoppers RF Accuracy Score:  0.3998560805948669\n",
            "\n",
            "\n",
            "\n",
            "Scores when we have  90.0 % of unlabelled data:\n",
            "\n"
          ]
        },
        {
          "output_type": "stream",
          "name": "stderr",
          "text": [
            "/usr/local/lib/python3.7/dist-packages/sklearn/semi_supervised/_self_training.py:210: UserWarning: y contains no unlabeled samples\n",
            "  warnings.warn(\"y contains no unlabeled samples\", UserWarning)\n",
            "/usr/local/lib/python3.7/dist-packages/sklearn/semi_supervised/_self_training.py:210: UserWarning: y contains no unlabeled samples\n",
            "  warnings.warn(\"y contains no unlabeled samples\", UserWarning)\n",
            "/usr/local/lib/python3.7/dist-packages/sklearn/semi_supervised/_self_training.py:210: UserWarning: y contains no unlabeled samples\n",
            "  warnings.warn(\"y contains no unlabeled samples\", UserWarning)\n",
            "/usr/local/lib/python3.7/dist-packages/sklearn/semi_supervised/_self_training.py:210: UserWarning: y contains no unlabeled samples\n",
            "  warnings.warn(\"y contains no unlabeled samples\", UserWarning)\n",
            "/usr/local/lib/python3.7/dist-packages/sklearn/semi_supervised/_self_training.py:210: UserWarning: y contains no unlabeled samples\n",
            "  warnings.warn(\"y contains no unlabeled samples\", UserWarning)\n",
            "/usr/local/lib/python3.7/dist-packages/sklearn/semi_supervised/_self_training.py:210: UserWarning: y contains no unlabeled samples\n",
            "  warnings.warn(\"y contains no unlabeled samples\", UserWarning)\n",
            "/usr/local/lib/python3.7/dist-packages/sklearn/semi_supervised/_self_training.py:210: UserWarning: y contains no unlabeled samples\n",
            "  warnings.warn(\"y contains no unlabeled samples\", UserWarning)\n",
            "/usr/local/lib/python3.7/dist-packages/sklearn/semi_supervised/_self_training.py:210: UserWarning: y contains no unlabeled samples\n",
            "  warnings.warn(\"y contains no unlabeled samples\", UserWarning)\n",
            "/usr/local/lib/python3.7/dist-packages/sklearn/semi_supervised/_self_training.py:210: UserWarning: y contains no unlabeled samples\n",
            "  warnings.warn(\"y contains no unlabeled samples\", UserWarning)\n",
            "/usr/local/lib/python3.7/dist-packages/sklearn/semi_supervised/_self_training.py:210: UserWarning: y contains no unlabeled samples\n",
            "  warnings.warn(\"y contains no unlabeled samples\", UserWarning)\n"
          ]
        },
        {
          "output_type": "stream",
          "name": "stdout",
          "text": [
            "Balanced Online Shoppers RF Accuracy Score:  0.003597985128328136\n",
            "\n",
            "\n",
            "\n",
            "Scores when we have  95.0 % of unlabelled data:\n",
            "\n"
          ]
        },
        {
          "output_type": "stream",
          "name": "stderr",
          "text": [
            "/usr/local/lib/python3.7/dist-packages/sklearn/semi_supervised/_self_training.py:210: UserWarning: y contains no unlabeled samples\n",
            "  warnings.warn(\"y contains no unlabeled samples\", UserWarning)\n",
            "/usr/local/lib/python3.7/dist-packages/sklearn/semi_supervised/_self_training.py:210: UserWarning: y contains no unlabeled samples\n",
            "  warnings.warn(\"y contains no unlabeled samples\", UserWarning)\n",
            "/usr/local/lib/python3.7/dist-packages/sklearn/semi_supervised/_self_training.py:210: UserWarning: y contains no unlabeled samples\n",
            "  warnings.warn(\"y contains no unlabeled samples\", UserWarning)\n",
            "/usr/local/lib/python3.7/dist-packages/sklearn/semi_supervised/_self_training.py:210: UserWarning: y contains no unlabeled samples\n",
            "  warnings.warn(\"y contains no unlabeled samples\", UserWarning)\n",
            "/usr/local/lib/python3.7/dist-packages/sklearn/semi_supervised/_self_training.py:210: UserWarning: y contains no unlabeled samples\n",
            "  warnings.warn(\"y contains no unlabeled samples\", UserWarning)\n",
            "/usr/local/lib/python3.7/dist-packages/sklearn/semi_supervised/_self_training.py:210: UserWarning: y contains no unlabeled samples\n",
            "  warnings.warn(\"y contains no unlabeled samples\", UserWarning)\n",
            "/usr/local/lib/python3.7/dist-packages/sklearn/semi_supervised/_self_training.py:210: UserWarning: y contains no unlabeled samples\n",
            "  warnings.warn(\"y contains no unlabeled samples\", UserWarning)\n",
            "/usr/local/lib/python3.7/dist-packages/sklearn/semi_supervised/_self_training.py:210: UserWarning: y contains no unlabeled samples\n",
            "  warnings.warn(\"y contains no unlabeled samples\", UserWarning)\n",
            "/usr/local/lib/python3.7/dist-packages/sklearn/semi_supervised/_self_training.py:210: UserWarning: y contains no unlabeled samples\n",
            "  warnings.warn(\"y contains no unlabeled samples\", UserWarning)\n",
            "/usr/local/lib/python3.7/dist-packages/sklearn/semi_supervised/_self_training.py:210: UserWarning: y contains no unlabeled samples\n",
            "  warnings.warn(\"y contains no unlabeled samples\", UserWarning)\n"
          ]
        },
        {
          "output_type": "stream",
          "name": "stdout",
          "text": [
            "Balanced Online Shoppers RF Accuracy Score:  0.00023986567522187575\n",
            "\n",
            "\n",
            "\n",
            "Average Balanced Online Shoppers SSE Accuracy Score:  0.5494523067082434\n"
          ]
        }
      ]
    },
    {
      "cell_type": "markdown",
      "source": [
        "#Analysis"
      ],
      "metadata": {
        "id": "-Dx67a3ibcR9"
      }
    },
    {
      "cell_type": "markdown",
      "source": [
        "ROC curves"
      ],
      "metadata": {
        "id": "yVj_8PXmbqM_"
      }
    },
    {
      "cell_type": "code",
      "source": [
        "#Heart Data\n",
        "fpr, tpr, thresholds = roc_curve(testing_label,RFPred)\n",
        "\n",
        "roc_auc = auc(fpr, tpr)\n",
        "plot.figure()\n",
        "plot.plot(fpr, tpr, color='red', lw=1, label='ROC curve (area = %0.2f)' % roc_auc)\n",
        "plot.plot([0, 1], [0, 1], color='navy', linestyle='--')\n",
        "plot.xlim([0.0, 1.0])\n",
        "plot.ylim([0.0, 1.05])\n",
        "plot.xlabel('False Positive Rate')\n",
        "plot.ylabel('True Positive Rate')\n",
        "plot.title('Heart Data ROC')\n",
        "plot.legend(loc=\"lower right\")\n",
        "plot.show()\n",
        "\n",
        "#Market Data\n",
        "fpr, tpr, thresholds = roc_curve(testing_label,RFPred)\n",
        "\n",
        "roc_auc = auc(fpr, tpr)\n",
        "plot.figure()\n",
        "plot.plot(fpr, tpr, color='red', lw=1, label='ROC curve (area = %0.2f)' % roc_auc)\n",
        "plot.plot([0, 1], [0, 1], color='navy', linestyle='--')\n",
        "plot.xlim([0.0, 1.0])\n",
        "plot.ylim([0.0, 1.05])\n",
        "plot.xlabel('False Positive Rate')\n",
        "plot.ylabel('True Positive Rate')\n",
        "plot.title('Marketing Data ROC')\n",
        "plot.legend(loc=\"lower right\")\n",
        "plot.show()\n",
        "\n",
        "#Shopping Data\n",
        "fpr, tpr, thresholds = roc_curve(testing_label,RFPred)\n",
        "\n",
        "roc_auc = auc(fpr, tpr)\n",
        "plot.figure()\n",
        "plot.plot(fpr, tpr, color='red', lw=1, label='ROC curve (area = %0.2f)' % roc_auc)\n",
        "plot.plot([0, 1], [0, 1], color='navy', linestyle='--')\n",
        "plot.xlim([0.0, 1.0])\n",
        "plot.ylim([0.0, 1.05])\n",
        "plot.xlabel('False Positive Rate')\n",
        "plot.ylabel('True Positive Rate')\n",
        "plot.title('Online Shopping ROC')\n",
        "plot.legend(loc=\"lower right\")\n",
        "plot.show()\n",
        "\n",
        "#Balanced Shopping Data\n",
        "fpr, tpr, thresholds = roc_curve(testing_label,RFPred)\n",
        "\n",
        "roc_auc = auc(fpr, tpr)\n",
        "plot.figure()\n",
        "plot.plot(fpr, tpr, color='red', lw=1, label='ROC curve (area = %0.2f)' % roc_auc)\n",
        "plot.plot([0, 1], [0, 1], color='navy', linestyle='--')\n",
        "plot.xlim([0.0, 1.0])\n",
        "plot.ylim([0.0, 1.05])\n",
        "plot.xlabel('False Positive Rate')\n",
        "plot.ylabel('True Positive Rate')\n",
        "plot.title('Balanced Online Shopping ROC')\n",
        "plot.legend(loc=\"lower right\")\n",
        "plot.show()"
      ],
      "metadata": {
        "id": "75rOLhL0bgSv"
      },
      "execution_count": null,
      "outputs": []
    },
    {
      "cell_type": "markdown",
      "source": [
        "f1-measure"
      ],
      "metadata": {
        "id": "dgUe6vPTbvDq"
      }
    },
    {
      "cell_type": "code",
      "source": [
        "#Heart Data\n",
        "CM_SVM=confusion_matrix(testing_label,s_v_mPred)\n",
        "print(\"Heart Data Confusion Matrix: \\n\",CM_SVM)\n",
        "print(classification_report(testing_label,s_v_mPred))\n",
        "\n",
        "#Market Data\n",
        "CM_SVM=confusion_matrix(testing_label,s_v_mPred)\n",
        "print(\"Marketing Data Confusion Matrix: \\n\",CM_SVM)\n",
        "print(classification_report(testing_label,s_v_mPred))\n",
        "\n",
        "#Shopping Data\n",
        "CM_SVM=confusion_matrix(testing_label,s_v_mPred)\n",
        "print(\"Online Shopping Confusion Matrix: \\n\",CM_SVM)\n",
        "print(classification_report(testing_label,s_v_mPred))\n",
        "\n",
        "#Balanced Shopping Data\n",
        "CM_SVM=confusion_matrix(testing_label,s_v_mPred)\n",
        "print(\"Balanced Online Shopping Confusion Matrix: \\n\",CM_SVM)\n",
        "print(classification_report(testing_label,s_v_mPred))"
      ],
      "metadata": {
        "id": "ImIcqSypbzbW"
      },
      "execution_count": null,
      "outputs": []
    },
    {
      "cell_type": "markdown",
      "source": [
        "Statistical significance"
      ],
      "metadata": {
        "id": "32eKe44ubzzC"
      }
    },
    {
      "cell_type": "code",
      "source": [
        "#Heart Data\n",
        "\n",
        "#Market Data\n",
        "\n",
        "#Shopping Data\n",
        "\n",
        "#Balanced Shopping Data"
      ],
      "metadata": {
        "id": "-Rl0Qztfb4bn"
      },
      "execution_count": null,
      "outputs": []
    }
  ]
}
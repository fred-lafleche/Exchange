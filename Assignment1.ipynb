{
  "nbformat": 4,
  "nbformat_minor": 0,
  "metadata": {
    "colab": {
      "name": "Assignment1.ipynb",
      "provenance": [],
      "collapsed_sections": [],
      "mount_file_id": "1wm5jUcHQiMtmIDUl3iW9N_6_qxlkblHY",
      "authorship_tag": "ABX9TyNhwDMuzmU+z8XhtsJ5/X4x",
      "include_colab_link": true
    },
    "kernelspec": {
      "name": "python3",
      "display_name": "Python 3"
    },
    "language_info": {
      "name": "python"
    }
  },
  "cells": [
    {
      "cell_type": "markdown",
      "metadata": {
        "id": "view-in-github",
        "colab_type": "text"
      },
      "source": [
        "<a href=\"https://colab.research.google.com/github/fred-lafleche/Exchange/blob/master/Assignment1.ipynb\" target=\"_parent\"><img src=\"https://colab.research.google.com/assets/colab-badge.svg\" alt=\"Open In Colab\"/></a>"
      ]
    },
    {
      "cell_type": "code",
      "metadata": {
        "id": "glR4ZrOv2nY8"
      },
      "source": [
        "#imports\n",
        "from sklearn import preprocessing\n",
        "from sklearn import tree\n",
        "from sklearn.ensemble import RandomForestClassifier\n",
        "from sklearn.neighbors import KNeighborsClassifier\n",
        "from sklearn.metrics import confusion_matrix\n",
        "from sklearn.metrics import roc_curve\n",
        "from sklearn.metrics import classification_report\n",
        "from sklearn.metrics import roc_curve, auc\n",
        "import matplotlib.pyplot as plot\n",
        "from sklearn.utils import resample\n",
        "from scipy.sparse import coo_matrix\n",
        "from sklearn.utils import resample\n",
        "from sklearn import svm\n",
        "import numpy as np\n",
        "import pandas as pd"
      ],
      "execution_count": 112,
      "outputs": []
    },
    {
      "cell_type": "code",
      "metadata": {
        "colab": {
          "base_uri": "https://localhost:8080/",
          "height": 226
        },
        "id": "kuIan2wA3Jl7",
        "outputId": "2218b1a9-414e-4593-cf9f-3ee531cc7e1e"
      },
      "source": [
        "input_file = \"/content/drive/MyDrive/Colab Notebooks/online_shoppers_intention.csv\"\n",
        "#10 numerical and 8 categorical attributes, where revenue is class label\n",
        "#12330 rows and 18 columns\n",
        "data = pd.read_csv(input_file)\n",
        "data.head()\n",
        "#print(data[\"VisitorType\"][1000]"
      ],
      "execution_count": null,
      "outputs": [
        {
          "output_type": "execute_result",
          "data": {
            "text/html": [
              "<div>\n",
              "<style scoped>\n",
              "    .dataframe tbody tr th:only-of-type {\n",
              "        vertical-align: middle;\n",
              "    }\n",
              "\n",
              "    .dataframe tbody tr th {\n",
              "        vertical-align: top;\n",
              "    }\n",
              "\n",
              "    .dataframe thead th {\n",
              "        text-align: right;\n",
              "    }\n",
              "</style>\n",
              "<table border=\"1\" class=\"dataframe\">\n",
              "  <thead>\n",
              "    <tr style=\"text-align: right;\">\n",
              "      <th></th>\n",
              "      <th>Administrative</th>\n",
              "      <th>Administrative_Duration</th>\n",
              "      <th>Informational</th>\n",
              "      <th>Informational_Duration</th>\n",
              "      <th>ProductRelated</th>\n",
              "      <th>ProductRelated_Duration</th>\n",
              "      <th>BounceRates</th>\n",
              "      <th>ExitRates</th>\n",
              "      <th>PageValues</th>\n",
              "      <th>SpecialDay</th>\n",
              "      <th>Month</th>\n",
              "      <th>OperatingSystems</th>\n",
              "      <th>Browser</th>\n",
              "      <th>Region</th>\n",
              "      <th>TrafficType</th>\n",
              "      <th>VisitorType</th>\n",
              "      <th>Weekend</th>\n",
              "      <th>Revenue</th>\n",
              "    </tr>\n",
              "  </thead>\n",
              "  <tbody>\n",
              "    <tr>\n",
              "      <th>0</th>\n",
              "      <td>0</td>\n",
              "      <td>0.0</td>\n",
              "      <td>0</td>\n",
              "      <td>0.0</td>\n",
              "      <td>1</td>\n",
              "      <td>0.000000</td>\n",
              "      <td>0.20</td>\n",
              "      <td>0.20</td>\n",
              "      <td>0.0</td>\n",
              "      <td>0.0</td>\n",
              "      <td>Feb</td>\n",
              "      <td>1</td>\n",
              "      <td>1</td>\n",
              "      <td>1</td>\n",
              "      <td>1</td>\n",
              "      <td>Returning_Visitor</td>\n",
              "      <td>False</td>\n",
              "      <td>False</td>\n",
              "    </tr>\n",
              "    <tr>\n",
              "      <th>1</th>\n",
              "      <td>0</td>\n",
              "      <td>0.0</td>\n",
              "      <td>0</td>\n",
              "      <td>0.0</td>\n",
              "      <td>2</td>\n",
              "      <td>64.000000</td>\n",
              "      <td>0.00</td>\n",
              "      <td>0.10</td>\n",
              "      <td>0.0</td>\n",
              "      <td>0.0</td>\n",
              "      <td>Feb</td>\n",
              "      <td>2</td>\n",
              "      <td>2</td>\n",
              "      <td>1</td>\n",
              "      <td>2</td>\n",
              "      <td>Returning_Visitor</td>\n",
              "      <td>False</td>\n",
              "      <td>False</td>\n",
              "    </tr>\n",
              "    <tr>\n",
              "      <th>2</th>\n",
              "      <td>0</td>\n",
              "      <td>0.0</td>\n",
              "      <td>0</td>\n",
              "      <td>0.0</td>\n",
              "      <td>1</td>\n",
              "      <td>0.000000</td>\n",
              "      <td>0.20</td>\n",
              "      <td>0.20</td>\n",
              "      <td>0.0</td>\n",
              "      <td>0.0</td>\n",
              "      <td>Feb</td>\n",
              "      <td>4</td>\n",
              "      <td>1</td>\n",
              "      <td>9</td>\n",
              "      <td>3</td>\n",
              "      <td>Returning_Visitor</td>\n",
              "      <td>False</td>\n",
              "      <td>False</td>\n",
              "    </tr>\n",
              "    <tr>\n",
              "      <th>3</th>\n",
              "      <td>0</td>\n",
              "      <td>0.0</td>\n",
              "      <td>0</td>\n",
              "      <td>0.0</td>\n",
              "      <td>2</td>\n",
              "      <td>2.666667</td>\n",
              "      <td>0.05</td>\n",
              "      <td>0.14</td>\n",
              "      <td>0.0</td>\n",
              "      <td>0.0</td>\n",
              "      <td>Feb</td>\n",
              "      <td>3</td>\n",
              "      <td>2</td>\n",
              "      <td>2</td>\n",
              "      <td>4</td>\n",
              "      <td>Returning_Visitor</td>\n",
              "      <td>False</td>\n",
              "      <td>False</td>\n",
              "    </tr>\n",
              "    <tr>\n",
              "      <th>4</th>\n",
              "      <td>0</td>\n",
              "      <td>0.0</td>\n",
              "      <td>0</td>\n",
              "      <td>0.0</td>\n",
              "      <td>10</td>\n",
              "      <td>627.500000</td>\n",
              "      <td>0.02</td>\n",
              "      <td>0.05</td>\n",
              "      <td>0.0</td>\n",
              "      <td>0.0</td>\n",
              "      <td>Feb</td>\n",
              "      <td>3</td>\n",
              "      <td>3</td>\n",
              "      <td>1</td>\n",
              "      <td>4</td>\n",
              "      <td>Returning_Visitor</td>\n",
              "      <td>True</td>\n",
              "      <td>False</td>\n",
              "    </tr>\n",
              "  </tbody>\n",
              "</table>\n",
              "</div>"
            ],
            "text/plain": [
              "   Administrative  Administrative_Duration  ...  Weekend  Revenue\n",
              "0               0                      0.0  ...    False    False\n",
              "1               0                      0.0  ...    False    False\n",
              "2               0                      0.0  ...    False    False\n",
              "3               0                      0.0  ...    False    False\n",
              "4               0                      0.0  ...     True    False\n",
              "\n",
              "[5 rows x 18 columns]"
            ]
          },
          "metadata": {},
          "execution_count": 3
        }
      ]
    },
    {
      "cell_type": "code",
      "metadata": {
        "id": "pmXAkBP4Nv57"
      },
      "source": [
        "# Standardization, or mean removal and variance scaling"
      ],
      "execution_count": null,
      "outputs": []
    },
    {
      "cell_type": "code",
      "metadata": {
        "colab": {
          "base_uri": "https://localhost:8080/"
        },
        "id": "2v9Jll_GNyb7",
        "outputId": "4a1a73d0-fd7f-42b3-90b5-13d59a9394b3"
      },
      "source": [
        "# Normalization\n",
        "# Numerical data: Administrative\tAdministrative_Duration\tInformational\tInformational_Duration\tProductRelated\tProductRelated_Duration\tBounceRates\tExitRates\tPageValues\tSpecialDay\t\n",
        "#data = preprocessing.normalize(data[\"Administrative\",\"Administrative_Duration\"])\n",
        "#Scaled data has zero mean and unit variance\n",
        "dataArray = data.values\n",
        "numericData = dataArray[:,[0,1,2,3,4,5,6,7,8,9]]\n",
        "scaler = preprocessing.StandardScaler().fit(numericData)\n",
        "scalledNumericData = scaler.transform(numericData)\n",
        "print(scalledNumericData.mean(axis=0))\n",
        "print(scalledNumericData.std(axis=0))"
      ],
      "execution_count": null,
      "outputs": [
        {
          "output_type": "stream",
          "name": "stdout",
          "text": [
            "[-2.99661170e-17  6.33898629e-17 -4.61017185e-18 -2.07457733e-17\n",
            "  4.61017185e-17 -1.01423781e-16 -5.99322340e-17  3.22712029e-17\n",
            "  1.06033952e-16 -5.53220622e-17]\n",
            "[1. 1. 1. 1. 1. 1. 1. 1. 1. 1.]\n"
          ]
        }
      ]
    },
    {
      "cell_type": "code",
      "metadata": {
        "id": "j93VgsTuNz0e",
        "colab": {
          "base_uri": "https://localhost:8080/"
        },
        "outputId": "8ea43233-fea6-4a22-b215-4345699015d2"
      },
      "source": [
        "# One hot encoding\n",
        "# Categorical data: Month\tOperatingSystems\tBrowser\tRegion\tTrafficType\tVisitorType\tWeekend\tRevenue\n",
        "# OperatingSystems\tBrowser\tRegion\tTrafficType are already converted to numbers\n",
        "categoricalData = dataArray[:,[10,15,16]]\n",
        "categoricalLabel = dataArray[:,[17]]\n",
        "encoder1 = preprocessing.OneHotEncoder()\n",
        "encoder2 = preprocessing.OneHotEncoder()\n",
        "encoder1.fit(categoricalData)\n",
        "encoder2.fit(categoricalLabel)\n",
        "categoricalData=encoder1.transform(categoricalData).toarray()\n",
        "categoricalLabel = encoder2.transform(categoricalLabel).toarray()\n",
        "print(categoricalData)\n",
        "print(categoricalLabel)\n",
        "print(encoder1.categories_)\n",
        "print(encoder2.categories_)"
      ],
      "execution_count": null,
      "outputs": [
        {
          "output_type": "stream",
          "name": "stdout",
          "text": [
            "[[0. 0. 1. ... 1. 1. 0.]\n",
            " [0. 0. 1. ... 1. 1. 0.]\n",
            " [0. 0. 1. ... 1. 1. 0.]\n",
            " ...\n",
            " [0. 0. 0. ... 1. 0. 1.]\n",
            " [0. 0. 0. ... 1. 1. 0.]\n",
            " [0. 0. 0. ... 0. 0. 1.]]\n",
            "[[1. 0.]\n",
            " [1. 0.]\n",
            " [1. 0.]\n",
            " ...\n",
            " [1. 0.]\n",
            " [1. 0.]\n",
            " [1. 0.]]\n",
            "[array(['Aug', 'Dec', 'Feb', 'Jul', 'June', 'Mar', 'May', 'Nov', 'Oct',\n",
            "       'Sep'], dtype=object), array(['New_Visitor', 'Other', 'Returning_Visitor'], dtype=object), array([False, True], dtype=object)]\n",
            "[array([False, True], dtype=object)]\n"
          ]
        }
      ]
    },
    {
      "cell_type": "code",
      "metadata": {
        "colab": {
          "base_uri": "https://localhost:8080/"
        },
        "id": "IYgI7fdIEXua",
        "outputId": "ad6db55a-49ef-4413-bcee-38e1a2ce7b22"
      },
      "source": [
        "#join data back together\n",
        "#data=np.concatenate((scalledNumericData, categoricalData))\n",
        "data = np.column_stack((scalledNumericData, categoricalData))\n",
        "#add back columns 11 to 14 and 17\n",
        "data = np.column_stack((data, dataArray[:,[11,12,13,14]]))\n",
        "print(data[0],\"\\nAnswer: \",categoricalLabel[0])\n"
      ],
      "execution_count": null,
      "outputs": [
        {
          "output_type": "stream",
          "name": "stdout",
          "text": [
            "[-0.6969929641233985 -0.4571914023726529 -0.39647790101721353\n",
            " -0.24493050612963665 -0.6910031807070663 -0.6243475187901789\n",
            " 3.667188794132383 3.229315594758881 -0.31717784430961626\n",
            " -0.3088213656157659 0.0 0.0 1.0 0.0 0.0 0.0 0.0 0.0 0.0 0.0 0.0 0.0 1.0\n",
            " 1.0 0.0 1 1 1 1] \n",
            "Answer:  [1. 0.]\n"
          ]
        }
      ]
    },
    {
      "cell_type": "code",
      "metadata": {
        "id": "h3F8BCcRPteS",
        "colab": {
          "base_uri": "https://localhost:8080/"
        },
        "outputId": "d9d645b2-cf58-4d70-de9f-8f12f04490a8"
      },
      "source": [
        "#Features(30): Administrative\tAdministrative_Duration\tInformational\tInformational_Duration\tProductRelated\tProductRelated_Duration\tBounceRates\tExitRates\tPageValues\tSpecialDay\tAug Dec Feb July June Mar May Nov Oct Sept New_Visitor other returning_visitor, false true\tOperatingSystems\tBrowser\tRegion\tTrafficTyp\tRevenue\n",
        "# Feature selection\n",
        "#todo\n",
        "#label does not need both values, so we'll only keep the value for true\n",
        "label = categoricalLabel[:,[1]]\n",
        "print(label)\n",
        "print(data[1],\"\\nAnswer: \",label[1])\n"
      ],
      "execution_count": null,
      "outputs": [
        {
          "output_type": "stream",
          "name": "stdout",
          "text": [
            "[[0.]\n",
            " [0.]\n",
            " [0.]\n",
            " ...\n",
            " [0.]\n",
            " [0.]\n",
            " [0.]]\n",
            "[-0.6969929641233985 -0.4571914023726529 -0.39647790101721353\n",
            " -0.24493050612963665 -0.66851798144781 -0.5909025573961064\n",
            " -0.45768299649364935 1.171472500128347 -0.31717784430961626\n",
            " -0.3088213656157659 0.0 0.0 1.0 0.0 0.0 0.0 0.0 0.0 0.0 0.0 0.0 0.0 1.0\n",
            " 1.0 0.0 2 2 1 2] \n",
            "Answer:  [0.]\n"
          ]
        }
      ]
    },
    {
      "cell_type": "code",
      "metadata": {
        "colab": {
          "base_uri": "https://localhost:8080/"
        },
        "id": "MFtTWtptajuN",
        "outputId": "4bcf60a6-7ac9-40f3-85b0-3f60533871c8"
      },
      "source": [
        "#Divide data, 70% for training, 30% for testing\n",
        "#12330 rows * 0.7 = 8631\n",
        "training_data=data[0:8631]\n",
        "training_label=label[0:8631]\n",
        "\n",
        "testing_data=data[8631:12330]\n",
        "testing_label=label[8631:12330]\n",
        "\n",
        "print(\"Total number of lines:\", len(training_data)+len(testing_data))"
      ],
      "execution_count": null,
      "outputs": [
        {
          "output_type": "stream",
          "name": "stdout",
          "text": [
            "Total number of lines: 12330\n"
          ]
        }
      ]
    },
    {
      "cell_type": "markdown",
      "metadata": {
        "id": "mtJ609gDl15N"
      },
      "source": [
        "# Single Decision Tree"
      ]
    },
    {
      "cell_type": "code",
      "metadata": {
        "colab": {
          "base_uri": "https://localhost:8080/"
        },
        "id": "VSND4UFtPEjb",
        "outputId": "662ae6b8-1433-46d1-dafd-b7dc7f6f0ad5"
      },
      "source": [
        "# single decision tree\n",
        "SDT = tree.DecisionTreeClassifier()\n",
        "SDT = SDT.fit(training_data,training_label)\n",
        "SDTPred=SDT.predict(testing_data)\n",
        "print(SDTPred)"
      ],
      "execution_count": null,
      "outputs": [
        {
          "output_type": "stream",
          "name": "stdout",
          "text": [
            "[1. 0. 0. ... 0. 0. 1.]\n"
          ]
        }
      ]
    },
    {
      "cell_type": "markdown",
      "metadata": {
        "id": "iy-fFhYupRc_"
      },
      "source": [
        "Confusion Matrix"
      ]
    },
    {
      "cell_type": "code",
      "metadata": {
        "colab": {
          "base_uri": "https://localhost:8080/"
        },
        "id": "TBM6z5_xpVAr",
        "outputId": "c8f24cd1-fada-44b2-c530-55cef85cb793"
      },
      "source": [
        "#confusion matrix\n",
        "CM_SDT=confusion_matrix(testing_label,SDTPred)\n",
        "print(\"Confusion Matrix: \\n\",CM_SDT)\n",
        "print(classification_report(testing_label,SDTPred))"
      ],
      "execution_count": null,
      "outputs": [
        {
          "output_type": "stream",
          "name": "stdout",
          "text": [
            "Confusion Matrix: \n",
            " [[2606  348]\n",
            " [ 380  365]]\n",
            "              precision    recall  f1-score   support\n",
            "\n",
            "         0.0       0.87      0.88      0.88      2954\n",
            "         1.0       0.51      0.49      0.50       745\n",
            "\n",
            "    accuracy                           0.80      3699\n",
            "   macro avg       0.69      0.69      0.69      3699\n",
            "weighted avg       0.80      0.80      0.80      3699\n",
            "\n"
          ]
        }
      ]
    },
    {
      "cell_type": "markdown",
      "metadata": {
        "id": "AEffQ8GFpYj3"
      },
      "source": [
        "ROC curve\n"
      ]
    },
    {
      "cell_type": "code",
      "metadata": {
        "colab": {
          "base_uri": "https://localhost:8080/",
          "height": 295
        },
        "id": "eAtd9iHbpavO",
        "outputId": "564e814f-4ee6-4a56-82a9-eb8b45cea904"
      },
      "source": [
        "#Roc curve (ref: https://qiita.com/bmj0114/items/460424c110a8ce22d945)\n",
        "fpr, tpr, thresholds = roc_curve(testing_label,SDTPred)\n",
        "\n",
        "roc_auc = auc(fpr, tpr)\n",
        "plot.figure()\n",
        "plot.plot(fpr, tpr, color='red', lw=1, label='ROC curve (area = %0.2f)' % roc_auc)\n",
        "plot.plot([0, 1], [0, 1], color='navy', linestyle='--')\n",
        "plot.xlim([0.0, 1.0])\n",
        "plot.ylim([0.0, 1.05])\n",
        "plot.xlabel('False Positive Rate')\n",
        "plot.ylabel('True Positive Rate')\n",
        "plot.title('ROC')\n",
        "plot.legend(loc=\"lower right\")\n",
        "plot.show()\n",
        "\n"
      ],
      "execution_count": null,
      "outputs": [
        {
          "output_type": "display_data",
          "data": {
            "image/png": "[encoded data removed]",
            "text/plain": [
              "<Figure size 432x288 with 1 Axes>"
            ]
          },
          "metadata": {
            "needs_background": "light"
          }
        }
      ]
    },
    {
      "cell_type": "markdown",
      "metadata": {
        "id": "-AwArooDl4lU"
      },
      "source": [
        "# Random Forest"
      ]
    },
    {
      "cell_type": "code",
      "metadata": {
        "colab": {
          "base_uri": "https://localhost:8080/"
        },
        "id": "IuspQjG0PHPO",
        "outputId": "67445beb-3be1-4f5b-a447-ae57f0f10ac5"
      },
      "source": [
        "# random forest\n",
        "RF = RandomForestClassifier()\n",
        "RF.fit(training_data,training_label)\n",
        "RFPred = RF.predict(testing_data)\n",
        "print(RFPred)"
      ],
      "execution_count": null,
      "outputs": [
        {
          "output_type": "stream",
          "name": "stderr",
          "text": [
            "/usr/local/lib/python3.7/dist-packages/ipykernel_launcher.py:3: DataConversionWarning: A column-vector y was passed when a 1d array was expected. Please change the shape of y to (n_samples,), for example using ravel().\n",
            "  This is separate from the ipykernel package so we can avoid doing imports until\n"
          ]
        },
        {
          "output_type": "stream",
          "name": "stdout",
          "text": [
            "[0. 0. 0. ... 0. 0. 0.]\n"
          ]
        }
      ]
    },
    {
      "cell_type": "markdown",
      "metadata": {
        "id": "auexlDPEpfkZ"
      },
      "source": [
        "Confusion Matrix"
      ]
    },
    {
      "cell_type": "code",
      "metadata": {
        "colab": {
          "base_uri": "https://localhost:8080/"
        },
        "id": "CVp-QZ9Apfka",
        "outputId": "b8e18cf3-fb7e-4ccd-c5cd-c8816478a858"
      },
      "source": [
        "#confusion matrix\n",
        "CM_RF=confusion_matrix(testing_label,RFPred)\n",
        "print(\"Confusion Matrix: \\n\",CM_RF)\n",
        "print(classification_report(testing_label,RFPred))"
      ],
      "execution_count": null,
      "outputs": [
        {
          "output_type": "stream",
          "name": "stdout",
          "text": [
            "Confusion Matrix: \n",
            " [[2845  109]\n",
            " [ 405  340]]\n",
            "              precision    recall  f1-score   support\n",
            "\n",
            "         0.0       0.88      0.96      0.92      2954\n",
            "         1.0       0.76      0.46      0.57       745\n",
            "\n",
            "    accuracy                           0.86      3699\n",
            "   macro avg       0.82      0.71      0.74      3699\n",
            "weighted avg       0.85      0.86      0.85      3699\n",
            "\n"
          ]
        }
      ]
    },
    {
      "cell_type": "markdown",
      "metadata": {
        "id": "K08fxCftpfka"
      },
      "source": [
        "ROC curve\n"
      ]
    },
    {
      "cell_type": "code",
      "metadata": {
        "colab": {
          "base_uri": "https://localhost:8080/",
          "height": 295
        },
        "id": "uXvhnYe4pfkb",
        "outputId": "3d8098df-638c-4f59-95e4-e0b0abcded09"
      },
      "source": [
        "#Roc curve (ref: https://qiita.com/bmj0114/items/460424c110a8ce22d945)\n",
        "fpr, tpr, thresholds = roc_curve(testing_label,RFPred)\n",
        "\n",
        "roc_auc = auc(fpr, tpr)\n",
        "plot.figure()\n",
        "plot.plot(fpr, tpr, color='red', lw=1, label='ROC curve (area = %0.2f)' % roc_auc)\n",
        "plot.plot([0, 1], [0, 1], color='navy', linestyle='--')\n",
        "plot.xlim([0.0, 1.0])\n",
        "plot.ylim([0.0, 1.05])\n",
        "plot.xlabel('False Positive Rate')\n",
        "plot.ylabel('True Positive Rate')\n",
        "plot.title('ROC')\n",
        "plot.legend(loc=\"lower right\")\n",
        "plot.show()"
      ],
      "execution_count": null,
      "outputs": [
        {
          "output_type": "display_data",
          "data": {
            "image/png": "[encoded data removed]",
            "text/plain": [
              "<Figure size 432x288 with 1 Axes>"
            ]
          },
          "metadata": {
            "needs_background": "light"
          }
        }
      ]
    },
    {
      "cell_type": "markdown",
      "metadata": {
        "id": "clBSImEvl89H"
      },
      "source": [
        "# Support Vector Machine"
      ]
    },
    {
      "cell_type": "code",
      "metadata": {
        "colab": {
          "base_uri": "https://localhost:8080/"
        },
        "id": "eHLRFAQwPKby",
        "outputId": "6a23dbe1-085a-4ae8-e633-8633e923d108"
      },
      "source": [
        "# support vector machine (svm)\n",
        "s_v_m = svm.SVC()\n",
        "s_v_m.fit(training_data,training_label)\n",
        "s_v_mPred = s_v_m.predict(testing_data)\n",
        "print(s_v_mPred)"
      ],
      "execution_count": null,
      "outputs": [
        {
          "output_type": "stream",
          "name": "stderr",
          "text": [
            "/usr/local/lib/python3.7/dist-packages/sklearn/utils/validation.py:760: DataConversionWarning: A column-vector y was passed when a 1d array was expected. Please change the shape of y to (n_samples, ), for example using ravel().\n",
            "  y = column_or_1d(y, warn=True)\n"
          ]
        },
        {
          "output_type": "stream",
          "name": "stdout",
          "text": [
            "[0. 0. 0. ... 0. 0. 0.]\n"
          ]
        }
      ]
    },
    {
      "cell_type": "markdown",
      "metadata": {
        "id": "WESshYmgpga5"
      },
      "source": [
        "Confusion Matrix"
      ]
    },
    {
      "cell_type": "code",
      "metadata": {
        "colab": {
          "base_uri": "https://localhost:8080/"
        },
        "id": "wmzAMPCZpga6",
        "outputId": "a22fe9ba-ad2f-4078-e543-ea4614b4c92a"
      },
      "source": [
        "#confusion matrix\n",
        "CM_SVM=confusion_matrix(testing_label,s_v_mPred)\n",
        "print(\"Confusion Matrix: \\n\",CM_SVM)\n",
        "print(classification_report(testing_label,s_v_mPred))"
      ],
      "execution_count": null,
      "outputs": [
        {
          "output_type": "stream",
          "name": "stdout",
          "text": [
            "Confusion Matrix: \n",
            " [[2874   80]\n",
            " [ 515  230]]\n",
            "              precision    recall  f1-score   support\n",
            "\n",
            "         0.0       0.85      0.97      0.91      2954\n",
            "         1.0       0.74      0.31      0.44       745\n",
            "\n",
            "    accuracy                           0.84      3699\n",
            "   macro avg       0.79      0.64      0.67      3699\n",
            "weighted avg       0.83      0.84      0.81      3699\n",
            "\n"
          ]
        }
      ]
    },
    {
      "cell_type": "markdown",
      "metadata": {
        "id": "PD6cLGe2pga7"
      },
      "source": [
        "ROC curve\n"
      ]
    },
    {
      "cell_type": "code",
      "metadata": {
        "colab": {
          "base_uri": "https://localhost:8080/",
          "height": 295
        },
        "id": "k3ggwqoMpga7",
        "outputId": "d16e4d97-cd1b-42d9-f50f-43d88e6fcbae"
      },
      "source": [
        "#Roc curve (ref: https://qiita.com/bmj0114/items/460424c110a8ce22d945)\n",
        "fpr, tpr, thresholds = roc_curve(testing_label,s_v_mPred)\n",
        "\n",
        "roc_auc = auc(fpr, tpr)\n",
        "plot.figure()\n",
        "plot.plot(fpr, tpr, color='red', lw=1, label='ROC curve (area = %0.2f)' % roc_auc)\n",
        "plot.plot([0, 1], [0, 1], color='navy', linestyle='--')\n",
        "plot.xlim([0.0, 1.0])\n",
        "plot.ylim([0.0, 1.05])\n",
        "plot.xlabel('False Positive Rate')\n",
        "plot.ylabel('True Positive Rate')\n",
        "plot.title('ROC')\n",
        "plot.legend(loc=\"lower right\")\n",
        "plot.show()"
      ],
      "execution_count": null,
      "outputs": [
        {
          "output_type": "display_data",
          "data": {
            "image/png": "[encoded data removed]",
            "text/plain": [
              "<Figure size 432x288 with 1 Axes>"
            ]
          },
          "metadata": {
            "needs_background": "light"
          }
        }
      ]
    },
    {
      "cell_type": "markdown",
      "metadata": {
        "id": "T8LdFMx0mAA8"
      },
      "source": [
        "# K-nearest Neighbor"
      ]
    },
    {
      "cell_type": "code",
      "metadata": {
        "colab": {
          "base_uri": "https://localhost:8080/"
        },
        "id": "vbCL3QaEPN-5",
        "outputId": "f0c68e71-b434-48f0-f845-71bf47a333ca"
      },
      "source": [
        "# k-nearest neighbor (k-NN) default for k is 5\n",
        "knn = KNeighborsClassifier()\n",
        "knn.fit(training_data,training_label)\n",
        "knnPred = knn.predict(testing_data)\n",
        "print(knnPred)"
      ],
      "execution_count": null,
      "outputs": [
        {
          "output_type": "stream",
          "name": "stderr",
          "text": [
            "/usr/local/lib/python3.7/dist-packages/ipykernel_launcher.py:3: DataConversionWarning: A column-vector y was passed when a 1d array was expected. Please change the shape of y to (n_samples, ), for example using ravel().\n",
            "  This is separate from the ipykernel package so we can avoid doing imports until\n"
          ]
        },
        {
          "output_type": "stream",
          "name": "stdout",
          "text": [
            "[0. 0. 0. ... 0. 0. 0.]\n"
          ]
        }
      ]
    },
    {
      "cell_type": "markdown",
      "metadata": {
        "id": "RuqhjiNmpg9g"
      },
      "source": [
        "Confusion Matrix"
      ]
    },
    {
      "cell_type": "code",
      "metadata": {
        "colab": {
          "base_uri": "https://localhost:8080/"
        },
        "id": "6l27e4mjpg9g",
        "outputId": "0aa310ab-87f7-4921-ed96-c8a87c9f7211"
      },
      "source": [
        "#confusion matrix\n",
        "CM_KNN=confusion_matrix(testing_label,knnPred)\n",
        "print(\"Confusion Matrix: \\n\",CM_KNN)\n",
        "print(classification_report(testing_label,knnPred))"
      ],
      "execution_count": null,
      "outputs": [
        {
          "output_type": "stream",
          "name": "stdout",
          "text": [
            "Confusion Matrix: \n",
            " [[2841  113]\n",
            " [ 539  206]]\n",
            "              precision    recall  f1-score   support\n",
            "\n",
            "         0.0       0.84      0.96      0.90      2954\n",
            "         1.0       0.65      0.28      0.39       745\n",
            "\n",
            "    accuracy                           0.82      3699\n",
            "   macro avg       0.74      0.62      0.64      3699\n",
            "weighted avg       0.80      0.82      0.79      3699\n",
            "\n"
          ]
        }
      ]
    },
    {
      "cell_type": "markdown",
      "metadata": {
        "id": "7amiBVWUpg9h"
      },
      "source": [
        "ROC curve\n"
      ]
    },
    {
      "cell_type": "code",
      "metadata": {
        "colab": {
          "base_uri": "https://localhost:8080/",
          "height": 295
        },
        "id": "OQ__ugMXpg9h",
        "outputId": "2f1afb5d-e226-4ab8-bb75-f866a9995be8"
      },
      "source": [
        "#Roc curve (ref: https://qiita.com/bmj0114/items/460424c110a8ce22d945)\n",
        "fpr, tpr, thresholds = roc_curve(testing_label,knnPred)\n",
        "\n",
        "roc_auc = auc(fpr, tpr)\n",
        "plot.figure()\n",
        "plot.plot(fpr, tpr, color='red', lw=1, label='ROC curve (area = %0.2f)' % roc_auc)\n",
        "plot.plot([0, 1], [0, 1], color='navy', linestyle='--')\n",
        "plot.xlim([0.0, 1.0])\n",
        "plot.ylim([0.0, 1.05])\n",
        "plot.xlabel('False Positive Rate')\n",
        "plot.ylabel('True Positive Rate')\n",
        "plot.title('ROC')\n",
        "plot.legend(loc=\"lower right\")\n",
        "plot.show()"
      ],
      "execution_count": null,
      "outputs": [
        {
          "output_type": "display_data",
          "data": {
            "image/png": "[encoded data removed]",
            "text/plain": [
              "<Figure size 432x288 with 1 Axes>"
            ]
          },
          "metadata": {
            "needs_background": "light"
          }
        }
      ]
    },
    {
      "cell_type": "markdown",
      "metadata": {
        "id": "gLwX8s-30Wdo"
      },
      "source": [
        "# Oversample minority class"
      ]
    },
    {
      "cell_type": "code",
      "metadata": {
        "colab": {
          "base_uri": "https://localhost:8080/",
          "height": 346
        },
        "id": "0XRScs_x0j8z",
        "outputId": "fec26340-9119-4cd5-fa40-53f3b2c6ec3f"
      },
      "source": [
        "#Oversample minority class \n",
        "data_sparse = coo_matrix(training_data)\n",
        "resample(training_data,data_sparse,training_label)"
      ],
      "execution_count": 122,
      "outputs": [
        {
          "output_type": "error",
          "ename": "TypeError",
          "evalue": "ignored",
          "traceback": [
            "\u001b[0;31m---------------------------------------------------------------------------\u001b[0m",
            "\u001b[0;31mTypeError\u001b[0m                                 Traceback (most recent call last)",
            "\u001b[0;32m<ipython-input-122-cff18c3c4660>\u001b[0m in \u001b[0;36m<module>\u001b[0;34m()\u001b[0m\n\u001b[1;32m      1\u001b[0m \u001b[0;31m#Oversample minority class\u001b[0m\u001b[0;34m\u001b[0m\u001b[0;34m\u001b[0m\u001b[0;34m\u001b[0m\u001b[0m\n\u001b[1;32m      2\u001b[0m \u001b[0mdata_sparse\u001b[0m \u001b[0;34m=\u001b[0m \u001b[0mcoo_matrix\u001b[0m\u001b[0;34m(\u001b[0m\u001b[0mtraining_data\u001b[0m\u001b[0;34m)\u001b[0m\u001b[0;34m\u001b[0m\u001b[0;34m\u001b[0m\u001b[0m\n\u001b[0;32m----> 3\u001b[0;31m \u001b[0mresample\u001b[0m\u001b[0;34m(\u001b[0m\u001b[0mtraining_data\u001b[0m\u001b[0;34m,\u001b[0m\u001b[0mdata_sparse\u001b[0m\u001b[0;34m,\u001b[0m\u001b[0mtraining_label\u001b[0m\u001b[0;34m)\u001b[0m\u001b[0;34m\u001b[0m\u001b[0;34m\u001b[0m\u001b[0m\n\u001b[0m",
            "\u001b[0;32m/usr/local/lib/python3.7/dist-packages/sklearn/utils/__init__.py\u001b[0m in \u001b[0;36mresample\u001b[0;34m(*arrays, **options)\u001b[0m\n\u001b[1;32m    622\u001b[0m \u001b[0;34m\u001b[0m\u001b[0m\n\u001b[1;32m    623\u001b[0m     \u001b[0;31m# convert sparse matrices to CSR for row-based indexing\u001b[0m\u001b[0;34m\u001b[0m\u001b[0;34m\u001b[0m\u001b[0;34m\u001b[0m\u001b[0m\n\u001b[0;32m--> 624\u001b[0;31m     \u001b[0marrays\u001b[0m \u001b[0;34m=\u001b[0m \u001b[0;34m[\u001b[0m\u001b[0ma\u001b[0m\u001b[0;34m.\u001b[0m\u001b[0mtocsr\u001b[0m\u001b[0;34m(\u001b[0m\u001b[0;34m)\u001b[0m \u001b[0;32mif\u001b[0m \u001b[0missparse\u001b[0m\u001b[0;34m(\u001b[0m\u001b[0ma\u001b[0m\u001b[0;34m)\u001b[0m \u001b[0;32melse\u001b[0m \u001b[0ma\u001b[0m \u001b[0;32mfor\u001b[0m \u001b[0ma\u001b[0m \u001b[0;32min\u001b[0m \u001b[0marrays\u001b[0m\u001b[0;34m]\u001b[0m\u001b[0;34m\u001b[0m\u001b[0;34m\u001b[0m\u001b[0m\n\u001b[0m\u001b[1;32m    625\u001b[0m     \u001b[0mresampled_arrays\u001b[0m \u001b[0;34m=\u001b[0m \u001b[0;34m[\u001b[0m\u001b[0m_safe_indexing\u001b[0m\u001b[0;34m(\u001b[0m\u001b[0ma\u001b[0m\u001b[0;34m,\u001b[0m \u001b[0mindices\u001b[0m\u001b[0;34m)\u001b[0m \u001b[0;32mfor\u001b[0m \u001b[0ma\u001b[0m \u001b[0;32min\u001b[0m \u001b[0marrays\u001b[0m\u001b[0;34m]\u001b[0m\u001b[0;34m\u001b[0m\u001b[0;34m\u001b[0m\u001b[0m\n\u001b[1;32m    626\u001b[0m     \u001b[0;32mif\u001b[0m \u001b[0mlen\u001b[0m\u001b[0;34m(\u001b[0m\u001b[0mresampled_arrays\u001b[0m\u001b[0;34m)\u001b[0m \u001b[0;34m==\u001b[0m \u001b[0;36m1\u001b[0m\u001b[0;34m:\u001b[0m\u001b[0;34m\u001b[0m\u001b[0;34m\u001b[0m\u001b[0m\n",
            "\u001b[0;32m/usr/local/lib/python3.7/dist-packages/sklearn/utils/__init__.py\u001b[0m in \u001b[0;36m<listcomp>\u001b[0;34m(.0)\u001b[0m\n\u001b[1;32m    622\u001b[0m \u001b[0;34m\u001b[0m\u001b[0m\n\u001b[1;32m    623\u001b[0m     \u001b[0;31m# convert sparse matrices to CSR for row-based indexing\u001b[0m\u001b[0;34m\u001b[0m\u001b[0;34m\u001b[0m\u001b[0;34m\u001b[0m\u001b[0m\n\u001b[0;32m--> 624\u001b[0;31m     \u001b[0marrays\u001b[0m \u001b[0;34m=\u001b[0m \u001b[0;34m[\u001b[0m\u001b[0ma\u001b[0m\u001b[0;34m.\u001b[0m\u001b[0mtocsr\u001b[0m\u001b[0;34m(\u001b[0m\u001b[0;34m)\u001b[0m \u001b[0;32mif\u001b[0m \u001b[0missparse\u001b[0m\u001b[0;34m(\u001b[0m\u001b[0ma\u001b[0m\u001b[0;34m)\u001b[0m \u001b[0;32melse\u001b[0m \u001b[0ma\u001b[0m \u001b[0;32mfor\u001b[0m \u001b[0ma\u001b[0m \u001b[0;32min\u001b[0m \u001b[0marrays\u001b[0m\u001b[0;34m]\u001b[0m\u001b[0;34m\u001b[0m\u001b[0;34m\u001b[0m\u001b[0m\n\u001b[0m\u001b[1;32m    625\u001b[0m     \u001b[0mresampled_arrays\u001b[0m \u001b[0;34m=\u001b[0m \u001b[0;34m[\u001b[0m\u001b[0m_safe_indexing\u001b[0m\u001b[0;34m(\u001b[0m\u001b[0ma\u001b[0m\u001b[0;34m,\u001b[0m \u001b[0mindices\u001b[0m\u001b[0;34m)\u001b[0m \u001b[0;32mfor\u001b[0m \u001b[0ma\u001b[0m \u001b[0;32min\u001b[0m \u001b[0marrays\u001b[0m\u001b[0;34m]\u001b[0m\u001b[0;34m\u001b[0m\u001b[0;34m\u001b[0m\u001b[0m\n\u001b[1;32m    626\u001b[0m     \u001b[0;32mif\u001b[0m \u001b[0mlen\u001b[0m\u001b[0;34m(\u001b[0m\u001b[0mresampled_arrays\u001b[0m\u001b[0;34m)\u001b[0m \u001b[0;34m==\u001b[0m \u001b[0;36m1\u001b[0m\u001b[0;34m:\u001b[0m\u001b[0;34m\u001b[0m\u001b[0;34m\u001b[0m\u001b[0m\n",
            "\u001b[0;32m/usr/local/lib/python3.7/dist-packages/scipy/sparse/coo.py\u001b[0m in \u001b[0;36mtocsr\u001b[0;34m(self, copy)\u001b[0m\n\u001b[1;32m    404\u001b[0m             \u001b[0mindptr\u001b[0m \u001b[0;34m=\u001b[0m \u001b[0mnp\u001b[0m\u001b[0;34m.\u001b[0m\u001b[0mempty\u001b[0m\u001b[0;34m(\u001b[0m\u001b[0mM\u001b[0m \u001b[0;34m+\u001b[0m \u001b[0;36m1\u001b[0m\u001b[0;34m,\u001b[0m \u001b[0mdtype\u001b[0m\u001b[0;34m=\u001b[0m\u001b[0midx_dtype\u001b[0m\u001b[0;34m)\u001b[0m\u001b[0;34m\u001b[0m\u001b[0;34m\u001b[0m\u001b[0m\n\u001b[1;32m    405\u001b[0m             \u001b[0mindices\u001b[0m \u001b[0;34m=\u001b[0m \u001b[0mnp\u001b[0m\u001b[0;34m.\u001b[0m\u001b[0mempty_like\u001b[0m\u001b[0;34m(\u001b[0m\u001b[0mcol\u001b[0m\u001b[0;34m,\u001b[0m \u001b[0mdtype\u001b[0m\u001b[0;34m=\u001b[0m\u001b[0midx_dtype\u001b[0m\u001b[0;34m)\u001b[0m\u001b[0;34m\u001b[0m\u001b[0;34m\u001b[0m\u001b[0m\n\u001b[0;32m--> 406\u001b[0;31m             \u001b[0mdata\u001b[0m \u001b[0;34m=\u001b[0m \u001b[0mnp\u001b[0m\u001b[0;34m.\u001b[0m\u001b[0mempty_like\u001b[0m\u001b[0;34m(\u001b[0m\u001b[0mself\u001b[0m\u001b[0;34m.\u001b[0m\u001b[0mdata\u001b[0m\u001b[0;34m,\u001b[0m \u001b[0mdtype\u001b[0m\u001b[0;34m=\u001b[0m\u001b[0mupcast\u001b[0m\u001b[0;34m(\u001b[0m\u001b[0mself\u001b[0m\u001b[0;34m.\u001b[0m\u001b[0mdtype\u001b[0m\u001b[0;34m)\u001b[0m\u001b[0;34m)\u001b[0m\u001b[0;34m\u001b[0m\u001b[0;34m\u001b[0m\u001b[0m\n\u001b[0m\u001b[1;32m    407\u001b[0m \u001b[0;34m\u001b[0m\u001b[0m\n\u001b[1;32m    408\u001b[0m             coo_tocsr(M, N, self.nnz, row, col, self.data,\n",
            "\u001b[0;32m/usr/local/lib/python3.7/dist-packages/scipy/sparse/sputils.py\u001b[0m in \u001b[0;36mupcast\u001b[0;34m(*args)\u001b[0m\n\u001b[1;32m     51\u001b[0m             \u001b[0;32mreturn\u001b[0m \u001b[0mt\u001b[0m\u001b[0;34m\u001b[0m\u001b[0;34m\u001b[0m\u001b[0m\n\u001b[1;32m     52\u001b[0m \u001b[0;34m\u001b[0m\u001b[0m\n\u001b[0;32m---> 53\u001b[0;31m     \u001b[0;32mraise\u001b[0m \u001b[0mTypeError\u001b[0m\u001b[0;34m(\u001b[0m\u001b[0;34m'no supported conversion for types: %r'\u001b[0m \u001b[0;34m%\u001b[0m \u001b[0;34m(\u001b[0m\u001b[0margs\u001b[0m\u001b[0;34m,\u001b[0m\u001b[0;34m)\u001b[0m\u001b[0;34m)\u001b[0m\u001b[0;34m\u001b[0m\u001b[0;34m\u001b[0m\u001b[0m\n\u001b[0m\u001b[1;32m     54\u001b[0m \u001b[0;34m\u001b[0m\u001b[0m\n\u001b[1;32m     55\u001b[0m \u001b[0;34m\u001b[0m\u001b[0m\n",
            "\u001b[0;31mTypeError\u001b[0m: no supported conversion for types: (dtype('O'),)"
          ]
        }
      ]
    },
    {
      "cell_type": "markdown",
      "metadata": {
        "id": "KC0Cbmwa19uz"
      },
      "source": [
        "## Single Decision Tree"
      ]
    },
    {
      "cell_type": "code",
      "metadata": {
        "colab": {
          "base_uri": "https://localhost:8080/"
        },
        "id": "AkLXNSqV19u8",
        "outputId": "662ae6b8-1433-46d1-dafd-b7dc7f6f0ad5"
      },
      "source": [
        "# single decision tree\n",
        "SDT = tree.DecisionTreeClassifier()\n",
        "SDT = SDT.fit(training_data,training_label)\n",
        "SDTPred=SDT.predict(testing_data)\n",
        "print(SDTPred)"
      ],
      "execution_count": null,
      "outputs": [
        {
          "output_type": "stream",
          "name": "stdout",
          "text": [
            "[1. 0. 0. ... 0. 0. 1.]\n"
          ]
        }
      ]
    },
    {
      "cell_type": "markdown",
      "metadata": {
        "id": "L7enhySx19u9"
      },
      "source": [
        "Confusion Matrix"
      ]
    },
    {
      "cell_type": "code",
      "metadata": {
        "colab": {
          "base_uri": "https://localhost:8080/"
        },
        "id": "WH__JNp819u9",
        "outputId": "c8f24cd1-fada-44b2-c530-55cef85cb793"
      },
      "source": [
        "#confusion matrix\n",
        "CM_SDT=confusion_matrix(testing_label,SDTPred)\n",
        "print(\"Confusion Matrix: \\n\",CM_SDT)\n",
        "print(classification_report(testing_label,SDTPred))"
      ],
      "execution_count": null,
      "outputs": [
        {
          "output_type": "stream",
          "name": "stdout",
          "text": [
            "Confusion Matrix: \n",
            " [[2606  348]\n",
            " [ 380  365]]\n",
            "              precision    recall  f1-score   support\n",
            "\n",
            "         0.0       0.87      0.88      0.88      2954\n",
            "         1.0       0.51      0.49      0.50       745\n",
            "\n",
            "    accuracy                           0.80      3699\n",
            "   macro avg       0.69      0.69      0.69      3699\n",
            "weighted avg       0.80      0.80      0.80      3699\n",
            "\n"
          ]
        }
      ]
    },
    {
      "cell_type": "markdown",
      "metadata": {
        "id": "ckCzwmL019u9"
      },
      "source": [
        "ROC curve\n"
      ]
    },
    {
      "cell_type": "code",
      "metadata": {
        "colab": {
          "base_uri": "https://localhost:8080/",
          "height": 295
        },
        "id": "jhG0eHYC19u9",
        "outputId": "564e814f-4ee6-4a56-82a9-eb8b45cea904"
      },
      "source": [
        "#Roc curve (ref: https://qiita.com/bmj0114/items/460424c110a8ce22d945)\n",
        "fpr, tpr, thresholds = roc_curve(testing_label,SDTPred)\n",
        "\n",
        "roc_auc = auc(fpr, tpr)\n",
        "plot.figure()\n",
        "plot.plot(fpr, tpr, color='red', lw=1, label='ROC curve (area = %0.2f)' % roc_auc)\n",
        "plot.plot([0, 1], [0, 1], color='navy', linestyle='--')\n",
        "plot.xlim([0.0, 1.0])\n",
        "plot.ylim([0.0, 1.05])\n",
        "plot.xlabel('False Positive Rate')\n",
        "plot.ylabel('True Positive Rate')\n",
        "plot.title('ROC')\n",
        "plot.legend(loc=\"lower right\")\n",
        "plot.show()\n",
        "\n"
      ],
      "execution_count": null,
      "outputs": [
        {
          "output_type": "display_data",
          "data": {
            "image/png": "[encoded data removed]",
            "text/plain": [
              "<Figure size 432x288 with 1 Axes>"
            ]
          },
          "metadata": {
            "needs_background": "light"
          }
        }
      ]
    },
    {
      "cell_type": "markdown",
      "metadata": {
        "id": "h1u1719v19u9"
      },
      "source": [
        "## Random Forest"
      ]
    },
    {
      "cell_type": "code",
      "metadata": {
        "colab": {
          "base_uri": "https://localhost:8080/"
        },
        "id": "3LX56TgQ19u9",
        "outputId": "67445beb-3be1-4f5b-a447-ae57f0f10ac5"
      },
      "source": [
        "# random forest\n",
        "RF = RandomForestClassifier()\n",
        "RF.fit(training_data,training_label)\n",
        "RFPred = RF.predict(testing_data)\n",
        "print(RFPred)"
      ],
      "execution_count": null,
      "outputs": [
        {
          "output_type": "stream",
          "name": "stderr",
          "text": [
            "/usr/local/lib/python3.7/dist-packages/ipykernel_launcher.py:3: DataConversionWarning: A column-vector y was passed when a 1d array was expected. Please change the shape of y to (n_samples,), for example using ravel().\n",
            "  This is separate from the ipykernel package so we can avoid doing imports until\n"
          ]
        },
        {
          "output_type": "stream",
          "name": "stdout",
          "text": [
            "[0. 0. 0. ... 0. 0. 0.]\n"
          ]
        }
      ]
    },
    {
      "cell_type": "markdown",
      "metadata": {
        "id": "ZNedZFLi19u9"
      },
      "source": [
        "Confusion Matrix"
      ]
    },
    {
      "cell_type": "code",
      "metadata": {
        "colab": {
          "base_uri": "https://localhost:8080/"
        },
        "id": "8gJKZk_a19u-",
        "outputId": "b8e18cf3-fb7e-4ccd-c5cd-c8816478a858"
      },
      "source": [
        "#confusion matrix\n",
        "CM_RF=confusion_matrix(testing_label,RFPred)\n",
        "print(\"Confusion Matrix: \\n\",CM_RF)\n",
        "print(classification_report(testing_label,RFPred))"
      ],
      "execution_count": null,
      "outputs": [
        {
          "output_type": "stream",
          "name": "stdout",
          "text": [
            "Confusion Matrix: \n",
            " [[2845  109]\n",
            " [ 405  340]]\n",
            "              precision    recall  f1-score   support\n",
            "\n",
            "         0.0       0.88      0.96      0.92      2954\n",
            "         1.0       0.76      0.46      0.57       745\n",
            "\n",
            "    accuracy                           0.86      3699\n",
            "   macro avg       0.82      0.71      0.74      3699\n",
            "weighted avg       0.85      0.86      0.85      3699\n",
            "\n"
          ]
        }
      ]
    },
    {
      "cell_type": "markdown",
      "metadata": {
        "id": "4Gj3k-Tw19u-"
      },
      "source": [
        "ROC curve\n"
      ]
    },
    {
      "cell_type": "code",
      "metadata": {
        "colab": {
          "base_uri": "https://localhost:8080/",
          "height": 295
        },
        "id": "x6EE4V1W19u-",
        "outputId": "3d8098df-638c-4f59-95e4-e0b0abcded09"
      },
      "source": [
        "#Roc curve (ref: https://qiita.com/bmj0114/items/460424c110a8ce22d945)\n",
        "fpr, tpr, thresholds = roc_curve(testing_label,RFPred)\n",
        "\n",
        "roc_auc = auc(fpr, tpr)\n",
        "plot.figure()\n",
        "plot.plot(fpr, tpr, color='red', lw=1, label='ROC curve (area = %0.2f)' % roc_auc)\n",
        "plot.plot([0, 1], [0, 1], color='navy', linestyle='--')\n",
        "plot.xlim([0.0, 1.0])\n",
        "plot.ylim([0.0, 1.05])\n",
        "plot.xlabel('False Positive Rate')\n",
        "plot.ylabel('True Positive Rate')\n",
        "plot.title('ROC')\n",
        "plot.legend(loc=\"lower right\")\n",
        "plot.show()"
      ],
      "execution_count": null,
      "outputs": [
        {
          "output_type": "display_data",
          "data": {
            "image/png": "[encoded data removed]",
            "text/plain": [
              "<Figure size 432x288 with 1 Axes>"
            ]
          },
          "metadata": {
            "needs_background": "light"
          }
        }
      ]
    },
    {
      "cell_type": "markdown",
      "metadata": {
        "id": "_mPVhwTB19u-"
      },
      "source": [
        "## Support Vector Machine"
      ]
    },
    {
      "cell_type": "code",
      "metadata": {
        "colab": {
          "base_uri": "https://localhost:8080/"
        },
        "id": "sAJ9zs6519u-",
        "outputId": "6a23dbe1-085a-4ae8-e633-8633e923d108"
      },
      "source": [
        "# support vector machine (svm)\n",
        "s_v_m = svm.SVC()\n",
        "s_v_m.fit(training_data,training_label)\n",
        "s_v_mPred = s_v_m.predict(testing_data)\n",
        "print(s_v_mPred)"
      ],
      "execution_count": null,
      "outputs": [
        {
          "output_type": "stream",
          "name": "stderr",
          "text": [
            "/usr/local/lib/python3.7/dist-packages/sklearn/utils/validation.py:760: DataConversionWarning: A column-vector y was passed when a 1d array was expected. Please change the shape of y to (n_samples, ), for example using ravel().\n",
            "  y = column_or_1d(y, warn=True)\n"
          ]
        },
        {
          "output_type": "stream",
          "name": "stdout",
          "text": [
            "[0. 0. 0. ... 0. 0. 0.]\n"
          ]
        }
      ]
    },
    {
      "cell_type": "markdown",
      "metadata": {
        "id": "vKL0eC0R19u-"
      },
      "source": [
        "Confusion Matrix"
      ]
    },
    {
      "cell_type": "code",
      "metadata": {
        "colab": {
          "base_uri": "https://localhost:8080/"
        },
        "id": "w0DfqQhl19u-",
        "outputId": "a22fe9ba-ad2f-4078-e543-ea4614b4c92a"
      },
      "source": [
        "#confusion matrix\n",
        "CM_SVM=confusion_matrix(testing_label,s_v_mPred)\n",
        "print(\"Confusion Matrix: \\n\",CM_SVM)\n",
        "print(classification_report(testing_label,s_v_mPred))"
      ],
      "execution_count": null,
      "outputs": [
        {
          "output_type": "stream",
          "name": "stdout",
          "text": [
            "Confusion Matrix: \n",
            " [[2874   80]\n",
            " [ 515  230]]\n",
            "              precision    recall  f1-score   support\n",
            "\n",
            "         0.0       0.85      0.97      0.91      2954\n",
            "         1.0       0.74      0.31      0.44       745\n",
            "\n",
            "    accuracy                           0.84      3699\n",
            "   macro avg       0.79      0.64      0.67      3699\n",
            "weighted avg       0.83      0.84      0.81      3699\n",
            "\n"
          ]
        }
      ]
    },
    {
      "cell_type": "markdown",
      "metadata": {
        "id": "mWOv2cQc19u_"
      },
      "source": [
        "ROC curve\n"
      ]
    },
    {
      "cell_type": "code",
      "metadata": {
        "colab": {
          "base_uri": "https://localhost:8080/",
          "height": 295
        },
        "id": "_oEiHNKI19u_",
        "outputId": "d16e4d97-cd1b-42d9-f50f-43d88e6fcbae"
      },
      "source": [
        "#Roc curve (ref: https://qiita.com/bmj0114/items/460424c110a8ce22d945)\n",
        "fpr, tpr, thresholds = roc_curve(testing_label,s_v_mPred)\n",
        "\n",
        "roc_auc = auc(fpr, tpr)\n",
        "plot.figure()\n",
        "plot.plot(fpr, tpr, color='red', lw=1, label='ROC curve (area = %0.2f)' % roc_auc)\n",
        "plot.plot([0, 1], [0, 1], color='navy', linestyle='--')\n",
        "plot.xlim([0.0, 1.0])\n",
        "plot.ylim([0.0, 1.05])\n",
        "plot.xlabel('False Positive Rate')\n",
        "plot.ylabel('True Positive Rate')\n",
        "plot.title('ROC')\n",
        "plot.legend(loc=\"lower right\")\n",
        "plot.show()"
      ],
      "execution_count": null,
      "outputs": [
        {
          "output_type": "display_data",
          "data": {
            "image/png": "[encoded data removed]",
            "text/plain": [
              "<Figure size 432x288 with 1 Axes>"
            ]
          },
          "metadata": {
            "needs_background": "light"
          }
        }
      ]
    },
    {
      "cell_type": "markdown",
      "metadata": {
        "id": "M1_HGIrM19u_"
      },
      "source": [
        "## K-nearest Neighbor"
      ]
    },
    {
      "cell_type": "code",
      "metadata": {
        "colab": {
          "base_uri": "https://localhost:8080/"
        },
        "id": "HByePncX19u_",
        "outputId": "f0c68e71-b434-48f0-f845-71bf47a333ca"
      },
      "source": [
        "# k-nearest neighbor (k-NN) default for k is 5\n",
        "knn = KNeighborsClassifier()\n",
        "knn.fit(training_data,training_label)\n",
        "knnPred = knn.predict(testing_data)\n",
        "print(knnPred)"
      ],
      "execution_count": null,
      "outputs": [
        {
          "output_type": "stream",
          "name": "stderr",
          "text": [
            "/usr/local/lib/python3.7/dist-packages/ipykernel_launcher.py:3: DataConversionWarning: A column-vector y was passed when a 1d array was expected. Please change the shape of y to (n_samples, ), for example using ravel().\n",
            "  This is separate from the ipykernel package so we can avoid doing imports until\n"
          ]
        },
        {
          "output_type": "stream",
          "name": "stdout",
          "text": [
            "[0. 0. 0. ... 0. 0. 0.]\n"
          ]
        }
      ]
    },
    {
      "cell_type": "markdown",
      "metadata": {
        "id": "V7uoISUM19u_"
      },
      "source": [
        "Confusion Matrix"
      ]
    },
    {
      "cell_type": "code",
      "metadata": {
        "colab": {
          "base_uri": "https://localhost:8080/"
        },
        "id": "MYEaRyLk19u_",
        "outputId": "0aa310ab-87f7-4921-ed96-c8a87c9f7211"
      },
      "source": [
        "#confusion matrix\n",
        "CM_KNN=confusion_matrix(testing_label,knnPred)\n",
        "print(\"Confusion Matrix: \\n\",CM_KNN)\n",
        "print(classification_report(testing_label,knnPred))"
      ],
      "execution_count": null,
      "outputs": [
        {
          "output_type": "stream",
          "name": "stdout",
          "text": [
            "Confusion Matrix: \n",
            " [[2841  113]\n",
            " [ 539  206]]\n",
            "              precision    recall  f1-score   support\n",
            "\n",
            "         0.0       0.84      0.96      0.90      2954\n",
            "         1.0       0.65      0.28      0.39       745\n",
            "\n",
            "    accuracy                           0.82      3699\n",
            "   macro avg       0.74      0.62      0.64      3699\n",
            "weighted avg       0.80      0.82      0.79      3699\n",
            "\n"
          ]
        }
      ]
    },
    {
      "cell_type": "markdown",
      "metadata": {
        "id": "XgjH7rdy19vB"
      },
      "source": [
        "ROC curve\n"
      ]
    },
    {
      "cell_type": "code",
      "metadata": {
        "colab": {
          "base_uri": "https://localhost:8080/",
          "height": 295
        },
        "id": "9fWRvJg119vB",
        "outputId": "2f1afb5d-e226-4ab8-bb75-f866a9995be8"
      },
      "source": [
        "#Roc curve (ref: https://qiita.com/bmj0114/items/460424c110a8ce22d945)\n",
        "fpr, tpr, thresholds = roc_curve(testing_label,knnPred)\n",
        "\n",
        "roc_auc = auc(fpr, tpr)\n",
        "plot.figure()\n",
        "plot.plot(fpr, tpr, color='red', lw=1, label='ROC curve (area = %0.2f)' % roc_auc)\n",
        "plot.plot([0, 1], [0, 1], color='navy', linestyle='--')\n",
        "plot.xlim([0.0, 1.0])\n",
        "plot.ylim([0.0, 1.05])\n",
        "plot.xlabel('False Positive Rate')\n",
        "plot.ylabel('True Positive Rate')\n",
        "plot.title('ROC')\n",
        "plot.legend(loc=\"lower right\")\n",
        "plot.show()"
      ],
      "execution_count": null,
      "outputs": [
        {
          "output_type": "display_data",
          "data": {
            "image/png": "[encoded data removed]",
            "text/plain": [
              "<Figure size 432x288 with 1 Axes>"
            ]
          },
          "metadata": {
            "needs_background": "light"
          }
        }
      ]
    },
    {
      "cell_type": "markdown",
      "metadata": {
        "id": "fs8E8ybX0fYA"
      },
      "source": [
        "# Undersample majority class"
      ]
    },
    {
      "cell_type": "code",
      "metadata": {
        "id": "jKuBAMtF0muP"
      },
      "source": [
        "#Undersample majority class --> ref: https://elitedatascience.com/imbalanced-classes"
      ],
      "execution_count": null,
      "outputs": []
    },
    {
      "cell_type": "markdown",
      "metadata": {
        "id": "3aDGiAjv2AGb"
      },
      "source": [
        "## Single Decision Tree"
      ]
    },
    {
      "cell_type": "code",
      "metadata": {
        "colab": {
          "base_uri": "https://localhost:8080/"
        },
        "id": "nqaJBNof2AGb",
        "outputId": "662ae6b8-1433-46d1-dafd-b7dc7f6f0ad5"
      },
      "source": [
        "# single decision tree\n",
        "SDT = tree.DecisionTreeClassifier()\n",
        "SDT = SDT.fit(training_data,training_label)\n",
        "SDTPred=SDT.predict(testing_data)\n",
        "print(SDTPred)"
      ],
      "execution_count": null,
      "outputs": [
        {
          "output_type": "stream",
          "name": "stdout",
          "text": [
            "[1. 0. 0. ... 0. 0. 1.]\n"
          ]
        }
      ]
    },
    {
      "cell_type": "markdown",
      "metadata": {
        "id": "tZyuafKO2AGc"
      },
      "source": [
        "Confusion Matrix"
      ]
    },
    {
      "cell_type": "code",
      "metadata": {
        "colab": {
          "base_uri": "https://localhost:8080/"
        },
        "id": "QpRtivRz2AGc",
        "outputId": "c8f24cd1-fada-44b2-c530-55cef85cb793"
      },
      "source": [
        "#confusion matrix\n",
        "CM_SDT=confusion_matrix(testing_label,SDTPred)\n",
        "print(\"Confusion Matrix: \\n\",CM_SDT)\n",
        "print(classification_report(testing_label,SDTPred))"
      ],
      "execution_count": null,
      "outputs": [
        {
          "output_type": "stream",
          "name": "stdout",
          "text": [
            "Confusion Matrix: \n",
            " [[2606  348]\n",
            " [ 380  365]]\n",
            "              precision    recall  f1-score   support\n",
            "\n",
            "         0.0       0.87      0.88      0.88      2954\n",
            "         1.0       0.51      0.49      0.50       745\n",
            "\n",
            "    accuracy                           0.80      3699\n",
            "   macro avg       0.69      0.69      0.69      3699\n",
            "weighted avg       0.80      0.80      0.80      3699\n",
            "\n"
          ]
        }
      ]
    },
    {
      "cell_type": "markdown",
      "metadata": {
        "id": "w7CDGrvA2AGc"
      },
      "source": [
        "ROC curve\n"
      ]
    },
    {
      "cell_type": "code",
      "metadata": {
        "colab": {
          "base_uri": "https://localhost:8080/",
          "height": 295
        },
        "id": "pmwKtAKV2AGc",
        "outputId": "564e814f-4ee6-4a56-82a9-eb8b45cea904"
      },
      "source": [
        "#Roc curve (ref: https://qiita.com/bmj0114/items/460424c110a8ce22d945)\n",
        "fpr, tpr, thresholds = roc_curve(testing_label,SDTPred)\n",
        "\n",
        "roc_auc = auc(fpr, tpr)\n",
        "plot.figure()\n",
        "plot.plot(fpr, tpr, color='red', lw=1, label='ROC curve (area = %0.2f)' % roc_auc)\n",
        "plot.plot([0, 1], [0, 1], color='navy', linestyle='--')\n",
        "plot.xlim([0.0, 1.0])\n",
        "plot.ylim([0.0, 1.05])\n",
        "plot.xlabel('False Positive Rate')\n",
        "plot.ylabel('True Positive Rate')\n",
        "plot.title('ROC')\n",
        "plot.legend(loc=\"lower right\")\n",
        "plot.show()\n",
        "\n"
      ],
      "execution_count": null,
      "outputs": [
        {
          "output_type": "display_data",
          "data": {
            "image/png": "[encoded data removed]",
            "text/plain": [
              "<Figure size 432x288 with 1 Axes>"
            ]
          },
          "metadata": {
            "needs_background": "light"
          }
        }
      ]
    },
    {
      "cell_type": "markdown",
      "metadata": {
        "id": "iaZvl2j12AGc"
      },
      "source": [
        "## Random Forest"
      ]
    },
    {
      "cell_type": "code",
      "metadata": {
        "colab": {
          "base_uri": "https://localhost:8080/"
        },
        "id": "VI91NIkI2AGd",
        "outputId": "67445beb-3be1-4f5b-a447-ae57f0f10ac5"
      },
      "source": [
        "# random forest\n",
        "RF = RandomForestClassifier()\n",
        "RF.fit(training_data,training_label)\n",
        "RFPred = RF.predict(testing_data)\n",
        "print(RFPred)"
      ],
      "execution_count": null,
      "outputs": [
        {
          "output_type": "stream",
          "name": "stderr",
          "text": [
            "/usr/local/lib/python3.7/dist-packages/ipykernel_launcher.py:3: DataConversionWarning: A column-vector y was passed when a 1d array was expected. Please change the shape of y to (n_samples,), for example using ravel().\n",
            "  This is separate from the ipykernel package so we can avoid doing imports until\n"
          ]
        },
        {
          "output_type": "stream",
          "name": "stdout",
          "text": [
            "[0. 0. 0. ... 0. 0. 0.]\n"
          ]
        }
      ]
    },
    {
      "cell_type": "markdown",
      "metadata": {
        "id": "7dRA4ZK-2AGd"
      },
      "source": [
        "Confusion Matrix"
      ]
    },
    {
      "cell_type": "code",
      "metadata": {
        "colab": {
          "base_uri": "https://localhost:8080/"
        },
        "id": "bfsBVkW22AGd",
        "outputId": "23eb2e86-8388-4620-a51a-01d9281a4c42"
      },
      "source": [
        "#confusion matrix\n",
        "CM_RF=confusion_matrix(testing_label,RFPred)\n",
        "print(\"Confusion Matrix: \\n\",CM_RF)\n",
        "print(classification_report(testing_label,RFPred))"
      ],
      "execution_count": 109,
      "outputs": [
        {
          "output_type": "stream",
          "name": "stdout",
          "text": [
            "Confusion Matrix: \n",
            " [[2845  109]\n",
            " [ 405  340]]\n",
            "              precision    recall  f1-score   support\n",
            "\n",
            "         0.0       0.88      0.96      0.92      2954\n",
            "         1.0       0.76      0.46      0.57       745\n",
            "\n",
            "    accuracy                           0.86      3699\n",
            "   macro avg       0.82      0.71      0.74      3699\n",
            "weighted avg       0.85      0.86      0.85      3699\n",
            "\n"
          ]
        }
      ]
    },
    {
      "cell_type": "markdown",
      "metadata": {
        "id": "gXR2JlSG2AGd"
      },
      "source": [
        "ROC curve\n"
      ]
    },
    {
      "cell_type": "code",
      "metadata": {
        "colab": {
          "base_uri": "https://localhost:8080/",
          "height": 295
        },
        "id": "M89NDT772AGe",
        "outputId": "3d8098df-638c-4f59-95e4-e0b0abcded09"
      },
      "source": [
        "#Roc curve (ref: https://qiita.com/bmj0114/items/460424c110a8ce22d945)\n",
        "fpr, tpr, thresholds = roc_curve(testing_label,RFPred)\n",
        "\n",
        "roc_auc = auc(fpr, tpr)\n",
        "plot.figure()\n",
        "plot.plot(fpr, tpr, color='red', lw=1, label='ROC curve (area = %0.2f)' % roc_auc)\n",
        "plot.plot([0, 1], [0, 1], color='navy', linestyle='--')\n",
        "plot.xlim([0.0, 1.0])\n",
        "plot.ylim([0.0, 1.05])\n",
        "plot.xlabel('False Positive Rate')\n",
        "plot.ylabel('True Positive Rate')\n",
        "plot.title('ROC')\n",
        "plot.legend(loc=\"lower right\")\n",
        "plot.show()"
      ],
      "execution_count": null,
      "outputs": [
        {
          "output_type": "display_data",
          "data": {
            "image/png": "[encoded data removed]",
            "text/plain": [
              "<Figure size 432x288 with 1 Axes>"
            ]
          },
          "metadata": {
            "needs_background": "light"
          }
        }
      ]
    },
    {
      "cell_type": "markdown",
      "metadata": {
        "id": "jifRdzJ12AGe"
      },
      "source": [
        "## Support Vector Machine"
      ]
    },
    {
      "cell_type": "code",
      "metadata": {
        "colab": {
          "base_uri": "https://localhost:8080/"
        },
        "id": "xwzTgJwn2AGe",
        "outputId": "6a23dbe1-085a-4ae8-e633-8633e923d108"
      },
      "source": [
        "# support vector machine (svm)\n",
        "s_v_m = svm.SVC()\n",
        "s_v_m.fit(training_data,training_label)\n",
        "s_v_mPred = s_v_m.predict(testing_data)\n",
        "print(s_v_mPred)"
      ],
      "execution_count": null,
      "outputs": [
        {
          "output_type": "stream",
          "name": "stderr",
          "text": [
            "/usr/local/lib/python3.7/dist-packages/sklearn/utils/validation.py:760: DataConversionWarning: A column-vector y was passed when a 1d array was expected. Please change the shape of y to (n_samples, ), for example using ravel().\n",
            "  y = column_or_1d(y, warn=True)\n"
          ]
        },
        {
          "output_type": "stream",
          "name": "stdout",
          "text": [
            "[0. 0. 0. ... 0. 0. 0.]\n"
          ]
        }
      ]
    },
    {
      "cell_type": "markdown",
      "metadata": {
        "id": "Rg2pQnik2AGe"
      },
      "source": [
        "Confusion Matrix"
      ]
    },
    {
      "cell_type": "code",
      "metadata": {
        "colab": {
          "base_uri": "https://localhost:8080/"
        },
        "id": "zIS8F9C72AGe",
        "outputId": "a22fe9ba-ad2f-4078-e543-ea4614b4c92a"
      },
      "source": [
        "#confusion matrix\n",
        "CM_SVM=confusion_matrix(testing_label,s_v_mPred)\n",
        "print(\"Confusion Matrix: \\n\",CM_SVM)\n",
        "print(classification_report(testing_label,s_v_mPred))"
      ],
      "execution_count": null,
      "outputs": [
        {
          "output_type": "stream",
          "name": "stdout",
          "text": [
            "Confusion Matrix: \n",
            " [[2874   80]\n",
            " [ 515  230]]\n",
            "              precision    recall  f1-score   support\n",
            "\n",
            "         0.0       0.85      0.97      0.91      2954\n",
            "         1.0       0.74      0.31      0.44       745\n",
            "\n",
            "    accuracy                           0.84      3699\n",
            "   macro avg       0.79      0.64      0.67      3699\n",
            "weighted avg       0.83      0.84      0.81      3699\n",
            "\n"
          ]
        }
      ]
    },
    {
      "cell_type": "markdown",
      "metadata": {
        "id": "4Bo3d-A-2AGe"
      },
      "source": [
        "ROC curve\n"
      ]
    },
    {
      "cell_type": "code",
      "metadata": {
        "colab": {
          "base_uri": "https://localhost:8080/",
          "height": 295
        },
        "id": "H4kKYNIU2AGf",
        "outputId": "d16e4d97-cd1b-42d9-f50f-43d88e6fcbae"
      },
      "source": [
        "#Roc curve (ref: https://qiita.com/bmj0114/items/460424c110a8ce22d945)\n",
        "fpr, tpr, thresholds = roc_curve(testing_label,s_v_mPred)\n",
        "\n",
        "roc_auc = auc(fpr, tpr)\n",
        "plot.figure()\n",
        "plot.plot(fpr, tpr, color='red', lw=1, label='ROC curve (area = %0.2f)' % roc_auc)\n",
        "plot.plot([0, 1], [0, 1], color='navy', linestyle='--')\n",
        "plot.xlim([0.0, 1.0])\n",
        "plot.ylim([0.0, 1.05])\n",
        "plot.xlabel('False Positive Rate')\n",
        "plot.ylabel('True Positive Rate')\n",
        "plot.title('ROC')\n",
        "plot.legend(loc=\"lower right\")\n",
        "plot.show()"
      ],
      "execution_count": null,
      "outputs": [
        {
          "output_type": "display_data",
          "data": {
            "image/png": "[encoded data removed]",
            "text/plain": [
              "<Figure size 432x288 with 1 Axes>"
            ]
          },
          "metadata": {
            "needs_background": "light"
          }
        }
      ]
    },
    {
      "cell_type": "markdown",
      "metadata": {
        "id": "yZhKlCdo2AGf"
      },
      "source": [
        "## K-nearest Neighbor"
      ]
    },
    {
      "cell_type": "code",
      "metadata": {
        "colab": {
          "base_uri": "https://localhost:8080/"
        },
        "id": "6gUz-VoN2AGf",
        "outputId": "f0c68e71-b434-48f0-f845-71bf47a333ca"
      },
      "source": [
        "# k-nearest neighbor (k-NN) default for k is 5\n",
        "knn = KNeighborsClassifier()\n",
        "knn.fit(training_data,training_label)\n",
        "knnPred = knn.predict(testing_data)\n",
        "print(knnPred)"
      ],
      "execution_count": null,
      "outputs": [
        {
          "output_type": "stream",
          "name": "stderr",
          "text": [
            "/usr/local/lib/python3.7/dist-packages/ipykernel_launcher.py:3: DataConversionWarning: A column-vector y was passed when a 1d array was expected. Please change the shape of y to (n_samples, ), for example using ravel().\n",
            "  This is separate from the ipykernel package so we can avoid doing imports until\n"
          ]
        },
        {
          "output_type": "stream",
          "name": "stdout",
          "text": [
            "[0. 0. 0. ... 0. 0. 0.]\n"
          ]
        }
      ]
    },
    {
      "cell_type": "markdown",
      "metadata": {
        "id": "LzY5KMts2AGf"
      },
      "source": [
        "Confusion Matrix"
      ]
    },
    {
      "cell_type": "code",
      "metadata": {
        "colab": {
          "base_uri": "https://localhost:8080/"
        },
        "id": "cTUs1db32AGf",
        "outputId": "0aa310ab-87f7-4921-ed96-c8a87c9f7211"
      },
      "source": [
        "#confusion matrix\n",
        "CM_KNN=confusion_matrix(testing_label,knnPred)\n",
        "print(\"Confusion Matrix: \\n\",CM_KNN)\n",
        "print(classification_report(testing_label,knnPred))"
      ],
      "execution_count": null,
      "outputs": [
        {
          "output_type": "stream",
          "name": "stdout",
          "text": [
            "Confusion Matrix: \n",
            " [[2841  113]\n",
            " [ 539  206]]\n",
            "              precision    recall  f1-score   support\n",
            "\n",
            "         0.0       0.84      0.96      0.90      2954\n",
            "         1.0       0.65      0.28      0.39       745\n",
            "\n",
            "    accuracy                           0.82      3699\n",
            "   macro avg       0.74      0.62      0.64      3699\n",
            "weighted avg       0.80      0.82      0.79      3699\n",
            "\n"
          ]
        }
      ]
    },
    {
      "cell_type": "markdown",
      "metadata": {
        "id": "dSDIQJ912AGf"
      },
      "source": [
        "ROC curve\n"
      ]
    },
    {
      "cell_type": "code",
      "metadata": {
        "colab": {
          "base_uri": "https://localhost:8080/",
          "height": 295
        },
        "id": "tyVaWG6f2AGf",
        "outputId": "2f1afb5d-e226-4ab8-bb75-f866a9995be8"
      },
      "source": [
        "#Roc curve (ref: https://qiita.com/bmj0114/items/460424c110a8ce22d945)\n",
        "fpr, tpr, thresholds = roc_curve(testing_label,knnPred)\n",
        "\n",
        "roc_auc = auc(fpr, tpr)\n",
        "plot.figure()\n",
        "plot.plot(fpr, tpr, color='red', lw=1, label='ROC curve (area = %0.2f)' % roc_auc)\n",
        "plot.plot([0, 1], [0, 1], color='navy', linestyle='--')\n",
        "plot.xlim([0.0, 1.0])\n",
        "plot.ylim([0.0, 1.05])\n",
        "plot.xlabel('False Positive Rate')\n",
        "plot.ylabel('True Positive Rate')\n",
        "plot.title('ROC')\n",
        "plot.legend(loc=\"lower right\")\n",
        "plot.show()"
      ],
      "execution_count": null,
      "outputs": [
        {
          "output_type": "display_data",
          "data": {
            "image/png": "[encoded data removed]",
            "text/plain": [
              "<Figure size 432x288 with 1 Axes>"
            ]
          },
          "metadata": {
            "needs_background": "light"
          }
        }
      ]
    }
  ]
}
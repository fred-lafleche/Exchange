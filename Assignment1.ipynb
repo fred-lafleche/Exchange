{
  "nbformat": 4,
  "nbformat_minor": 0,
  "metadata": {
    "colab": {
      "name": "Assignment1.ipynb",
      "provenance": [],
      "collapsed_sections": [],
      "mount_file_id": "1wm5jUcHQiMtmIDUl3iW9N_6_qxlkblHY",
      "authorship_tag": "ABX9TyOtA5B589Rat6BdKlvOkdEY",
      "include_colab_link": true
    },
    "kernelspec": {
      "name": "python3",
      "display_name": "Python 3"
    },
    "language_info": {
      "name": "python"
    }
  },
  "cells": [
    {
      "cell_type": "markdown",
      "metadata": {
        "id": "view-in-github",
        "colab_type": "text"
      },
      "source": [
        "<a href=\"https://colab.research.google.com/github/fred-lafleche/Exchange/blob/master/Assignment1.ipynb\" target=\"_parent\"><img src=\"https://colab.research.google.com/assets/colab-badge.svg\" alt=\"Open In Colab\"/></a>"
      ]
    },
    {
      "cell_type": "code",
      "metadata": {
        "id": "glR4ZrOv2nY8"
      },
      "source": [
        "#imports\n",
        "from sklearn import preprocessing\n",
        "from sklearn import tree\n",
        "from sklearn.ensemble import RandomForestClassifier\n",
        "from sklearn.neighbors import KNeighborsClassifier\n",
        "from sklearn import svm\n",
        "import numpy as np\n",
        "import pandas as pd"
      ],
      "execution_count": 62,
      "outputs": []
    },
    {
      "cell_type": "code",
      "metadata": {
        "colab": {
          "base_uri": "https://localhost:8080/",
          "height": 226
        },
        "id": "kuIan2wA3Jl7",
        "outputId": "2218b1a9-414e-4593-cf9f-3ee531cc7e1e"
      },
      "source": [
        "input_file = \"/content/drive/MyDrive/Colab Notebooks/online_shoppers_intention.csv\"\n",
        "#10 numerical and 8 categorical attributes, where revenue is class label\n",
        "#12330 rows and 18 columns\n",
        "data = pd.read_csv(input_file)\n",
        "data.head()\n",
        "#print(data[\"VisitorType\"][1000]"
      ],
      "execution_count": 3,
      "outputs": [
        {
          "output_type": "execute_result",
          "data": {
            "text/html": [
              "<div>\n",
              "<style scoped>\n",
              "    .dataframe tbody tr th:only-of-type {\n",
              "        vertical-align: middle;\n",
              "    }\n",
              "\n",
              "    .dataframe tbody tr th {\n",
              "        vertical-align: top;\n",
              "    }\n",
              "\n",
              "    .dataframe thead th {\n",
              "        text-align: right;\n",
              "    }\n",
              "</style>\n",
              "<table border=\"1\" class=\"dataframe\">\n",
              "  <thead>\n",
              "    <tr style=\"text-align: right;\">\n",
              "      <th></th>\n",
              "      <th>Administrative</th>\n",
              "      <th>Administrative_Duration</th>\n",
              "      <th>Informational</th>\n",
              "      <th>Informational_Duration</th>\n",
              "      <th>ProductRelated</th>\n",
              "      <th>ProductRelated_Duration</th>\n",
              "      <th>BounceRates</th>\n",
              "      <th>ExitRates</th>\n",
              "      <th>PageValues</th>\n",
              "      <th>SpecialDay</th>\n",
              "      <th>Month</th>\n",
              "      <th>OperatingSystems</th>\n",
              "      <th>Browser</th>\n",
              "      <th>Region</th>\n",
              "      <th>TrafficType</th>\n",
              "      <th>VisitorType</th>\n",
              "      <th>Weekend</th>\n",
              "      <th>Revenue</th>\n",
              "    </tr>\n",
              "  </thead>\n",
              "  <tbody>\n",
              "    <tr>\n",
              "      <th>0</th>\n",
              "      <td>0</td>\n",
              "      <td>0.0</td>\n",
              "      <td>0</td>\n",
              "      <td>0.0</td>\n",
              "      <td>1</td>\n",
              "      <td>0.000000</td>\n",
              "      <td>0.20</td>\n",
              "      <td>0.20</td>\n",
              "      <td>0.0</td>\n",
              "      <td>0.0</td>\n",
              "      <td>Feb</td>\n",
              "      <td>1</td>\n",
              "      <td>1</td>\n",
              "      <td>1</td>\n",
              "      <td>1</td>\n",
              "      <td>Returning_Visitor</td>\n",
              "      <td>False</td>\n",
              "      <td>False</td>\n",
              "    </tr>\n",
              "    <tr>\n",
              "      <th>1</th>\n",
              "      <td>0</td>\n",
              "      <td>0.0</td>\n",
              "      <td>0</td>\n",
              "      <td>0.0</td>\n",
              "      <td>2</td>\n",
              "      <td>64.000000</td>\n",
              "      <td>0.00</td>\n",
              "      <td>0.10</td>\n",
              "      <td>0.0</td>\n",
              "      <td>0.0</td>\n",
              "      <td>Feb</td>\n",
              "      <td>2</td>\n",
              "      <td>2</td>\n",
              "      <td>1</td>\n",
              "      <td>2</td>\n",
              "      <td>Returning_Visitor</td>\n",
              "      <td>False</td>\n",
              "      <td>False</td>\n",
              "    </tr>\n",
              "    <tr>\n",
              "      <th>2</th>\n",
              "      <td>0</td>\n",
              "      <td>0.0</td>\n",
              "      <td>0</td>\n",
              "      <td>0.0</td>\n",
              "      <td>1</td>\n",
              "      <td>0.000000</td>\n",
              "      <td>0.20</td>\n",
              "      <td>0.20</td>\n",
              "      <td>0.0</td>\n",
              "      <td>0.0</td>\n",
              "      <td>Feb</td>\n",
              "      <td>4</td>\n",
              "      <td>1</td>\n",
              "      <td>9</td>\n",
              "      <td>3</td>\n",
              "      <td>Returning_Visitor</td>\n",
              "      <td>False</td>\n",
              "      <td>False</td>\n",
              "    </tr>\n",
              "    <tr>\n",
              "      <th>3</th>\n",
              "      <td>0</td>\n",
              "      <td>0.0</td>\n",
              "      <td>0</td>\n",
              "      <td>0.0</td>\n",
              "      <td>2</td>\n",
              "      <td>2.666667</td>\n",
              "      <td>0.05</td>\n",
              "      <td>0.14</td>\n",
              "      <td>0.0</td>\n",
              "      <td>0.0</td>\n",
              "      <td>Feb</td>\n",
              "      <td>3</td>\n",
              "      <td>2</td>\n",
              "      <td>2</td>\n",
              "      <td>4</td>\n",
              "      <td>Returning_Visitor</td>\n",
              "      <td>False</td>\n",
              "      <td>False</td>\n",
              "    </tr>\n",
              "    <tr>\n",
              "      <th>4</th>\n",
              "      <td>0</td>\n",
              "      <td>0.0</td>\n",
              "      <td>0</td>\n",
              "      <td>0.0</td>\n",
              "      <td>10</td>\n",
              "      <td>627.500000</td>\n",
              "      <td>0.02</td>\n",
              "      <td>0.05</td>\n",
              "      <td>0.0</td>\n",
              "      <td>0.0</td>\n",
              "      <td>Feb</td>\n",
              "      <td>3</td>\n",
              "      <td>3</td>\n",
              "      <td>1</td>\n",
              "      <td>4</td>\n",
              "      <td>Returning_Visitor</td>\n",
              "      <td>True</td>\n",
              "      <td>False</td>\n",
              "    </tr>\n",
              "  </tbody>\n",
              "</table>\n",
              "</div>"
            ],
            "text/plain": [
              "   Administrative  Administrative_Duration  ...  Weekend  Revenue\n",
              "0               0                      0.0  ...    False    False\n",
              "1               0                      0.0  ...    False    False\n",
              "2               0                      0.0  ...    False    False\n",
              "3               0                      0.0  ...    False    False\n",
              "4               0                      0.0  ...     True    False\n",
              "\n",
              "[5 rows x 18 columns]"
            ]
          },
          "metadata": {},
          "execution_count": 3
        }
      ]
    },
    {
      "cell_type": "code",
      "metadata": {
        "id": "pmXAkBP4Nv57"
      },
      "source": [
        "# Standardization, or mean removal and variance scaling"
      ],
      "execution_count": null,
      "outputs": []
    },
    {
      "cell_type": "code",
      "metadata": {
        "colab": {
          "base_uri": "https://localhost:8080/"
        },
        "id": "2v9Jll_GNyb7",
        "outputId": "4a1a73d0-fd7f-42b3-90b5-13d59a9394b3"
      },
      "source": [
        "# Normalization\n",
        "# Numerical data: Administrative\tAdministrative_Duration\tInformational\tInformational_Duration\tProductRelated\tProductRelated_Duration\tBounceRates\tExitRates\tPageValues\tSpecialDay\t\n",
        "#data = preprocessing.normalize(data[\"Administrative\",\"Administrative_Duration\"])\n",
        "#Scaled data has zero mean and unit variance\n",
        "dataArray = data.values\n",
        "numericData = dataArray[:,[0,1,2,3,4,5,6,7,8,9]]\n",
        "scaler = preprocessing.StandardScaler().fit(numericData)\n",
        "scalledNumericData = scaler.transform(numericData)\n",
        "print(scalledNumericData.mean(axis=0))\n",
        "print(scalledNumericData.std(axis=0))"
      ],
      "execution_count": 4,
      "outputs": [
        {
          "output_type": "stream",
          "name": "stdout",
          "text": [
            "[-2.99661170e-17  6.33898629e-17 -4.61017185e-18 -2.07457733e-17\n",
            "  4.61017185e-17 -1.01423781e-16 -5.99322340e-17  3.22712029e-17\n",
            "  1.06033952e-16 -5.53220622e-17]\n",
            "[1. 1. 1. 1. 1. 1. 1. 1. 1. 1.]\n"
          ]
        }
      ]
    },
    {
      "cell_type": "code",
      "metadata": {
        "id": "j93VgsTuNz0e",
        "colab": {
          "base_uri": "https://localhost:8080/"
        },
        "outputId": "8ea43233-fea6-4a22-b215-4345699015d2"
      },
      "source": [
        "# One hot encoding\n",
        "# Categorical data: Month\tOperatingSystems\tBrowser\tRegion\tTrafficType\tVisitorType\tWeekend\tRevenue\n",
        "# OperatingSystems\tBrowser\tRegion\tTrafficType are already converted to numbers\n",
        "categoricalData = dataArray[:,[10,15,16]]\n",
        "categoricalLabel = dataArray[:,[17]]\n",
        "encoder1 = preprocessing.OneHotEncoder()\n",
        "encoder2 = preprocessing.OneHotEncoder()\n",
        "encoder1.fit(categoricalData)\n",
        "encoder2.fit(categoricalLabel)\n",
        "categoricalData=encoder1.transform(categoricalData).toarray()\n",
        "categoricalLabel = encoder2.transform(categoricalLabel).toarray()\n",
        "print(categoricalData)\n",
        "print(categoricalLabel)\n",
        "print(encoder1.categories_)\n",
        "print(encoder2.categories_)"
      ],
      "execution_count": 51,
      "outputs": [
        {
          "output_type": "stream",
          "name": "stdout",
          "text": [
            "[[0. 0. 1. ... 1. 1. 0.]\n",
            " [0. 0. 1. ... 1. 1. 0.]\n",
            " [0. 0. 1. ... 1. 1. 0.]\n",
            " ...\n",
            " [0. 0. 0. ... 1. 0. 1.]\n",
            " [0. 0. 0. ... 1. 1. 0.]\n",
            " [0. 0. 0. ... 0. 0. 1.]]\n",
            "[[1. 0.]\n",
            " [1. 0.]\n",
            " [1. 0.]\n",
            " ...\n",
            " [1. 0.]\n",
            " [1. 0.]\n",
            " [1. 0.]]\n",
            "[array(['Aug', 'Dec', 'Feb', 'Jul', 'June', 'Mar', 'May', 'Nov', 'Oct',\n",
            "       'Sep'], dtype=object), array(['New_Visitor', 'Other', 'Returning_Visitor'], dtype=object), array([False, True], dtype=object)]\n",
            "[array([False, True], dtype=object)]\n"
          ]
        }
      ]
    },
    {
      "cell_type": "code",
      "metadata": {
        "colab": {
          "base_uri": "https://localhost:8080/"
        },
        "id": "IYgI7fdIEXua",
        "outputId": "ad6db55a-49ef-4413-bcee-38e1a2ce7b22"
      },
      "source": [
        "#join data back together\n",
        "#data=np.concatenate((scalledNumericData, categoricalData))\n",
        "data = np.column_stack((scalledNumericData, categoricalData))\n",
        "#add back columns 11 to 14 and 17\n",
        "data = np.column_stack((data, dataArray[:,[11,12,13,14]]))\n",
        "print(data[0],\"\\nAnswer: \",categoricalLabel[0])\n"
      ],
      "execution_count": 49,
      "outputs": [
        {
          "output_type": "stream",
          "name": "stdout",
          "text": [
            "[-0.6969929641233985 -0.4571914023726529 -0.39647790101721353\n",
            " -0.24493050612963665 -0.6910031807070663 -0.6243475187901789\n",
            " 3.667188794132383 3.229315594758881 -0.31717784430961626\n",
            " -0.3088213656157659 0.0 0.0 1.0 0.0 0.0 0.0 0.0 0.0 0.0 0.0 0.0 0.0 1.0\n",
            " 1.0 0.0 1 1 1 1] \n",
            "Answer:  [1. 0.]\n"
          ]
        }
      ]
    },
    {
      "cell_type": "code",
      "metadata": {
        "id": "h3F8BCcRPteS",
        "colab": {
          "base_uri": "https://localhost:8080/"
        },
        "outputId": "d9d645b2-cf58-4d70-de9f-8f12f04490a8"
      },
      "source": [
        "#Features(30): Administrative\tAdministrative_Duration\tInformational\tInformational_Duration\tProductRelated\tProductRelated_Duration\tBounceRates\tExitRates\tPageValues\tSpecialDay\tAug Dec Feb July June Mar May Nov Oct Sept New_Visitor other returning_visitor, false true\tOperatingSystems\tBrowser\tRegion\tTrafficTyp\tRevenue\n",
        "# Feature selection\n",
        "#todo\n",
        "#label does not need both values, so we'll only keep the value for true\n",
        "label = categoricalLabel[:,[1]]\n",
        "print(label)\n",
        "print(data[1],\"\\nAnswer: \",label[1])\n"
      ],
      "execution_count": 52,
      "outputs": [
        {
          "output_type": "stream",
          "name": "stdout",
          "text": [
            "[[0.]\n",
            " [0.]\n",
            " [0.]\n",
            " ...\n",
            " [0.]\n",
            " [0.]\n",
            " [0.]]\n",
            "[-0.6969929641233985 -0.4571914023726529 -0.39647790101721353\n",
            " -0.24493050612963665 -0.66851798144781 -0.5909025573961064\n",
            " -0.45768299649364935 1.171472500128347 -0.31717784430961626\n",
            " -0.3088213656157659 0.0 0.0 1.0 0.0 0.0 0.0 0.0 0.0 0.0 0.0 0.0 0.0 1.0\n",
            " 1.0 0.0 2 2 1 2] \n",
            "Answer:  [0.]\n"
          ]
        }
      ]
    },
    {
      "cell_type": "code",
      "metadata": {
        "colab": {
          "base_uri": "https://localhost:8080/"
        },
        "id": "MFtTWtptajuN",
        "outputId": "4bcf60a6-7ac9-40f3-85b0-3f60533871c8"
      },
      "source": [
        "#Divide data, 70% for training, 30% for testing\n",
        "#12330 rows * 0.7 = 8631\n",
        "training_data=data[0:8631]\n",
        "training_label=label[0:8631]\n",
        "\n",
        "testing_data=data[8631:12330]\n",
        "testing_label=label[8631:12330]\n",
        "\n",
        "print(\"Total number of lines:\", len(training_data)+len(testing_data))"
      ],
      "execution_count": 53,
      "outputs": [
        {
          "output_type": "stream",
          "name": "stdout",
          "text": [
            "Total number of lines: 12330\n"
          ]
        }
      ]
    },
    {
      "cell_type": "code",
      "metadata": {
        "colab": {
          "base_uri": "https://localhost:8080/"
        },
        "id": "VSND4UFtPEjb",
        "outputId": "29104311-aabc-463b-8160-48eeb7ca4de5"
      },
      "source": [
        "# single decision tree\n",
        "SDT = tree.DecisionTreeClassifier()\n",
        "SDT = SDT.fit(training_data,training_label)\n",
        "SDT.predict(training_data)"
      ],
      "execution_count": 57,
      "outputs": [
        {
          "output_type": "execute_result",
          "data": {
            "text/plain": [
              "array([0., 0., 0., ..., 0., 1., 0.])"
            ]
          },
          "metadata": {},
          "execution_count": 57
        }
      ]
    },
    {
      "cell_type": "code",
      "metadata": {
        "id": "IuspQjG0PHPO"
      },
      "source": [
        "# random forest\n"
      ],
      "execution_count": null,
      "outputs": []
    },
    {
      "cell_type": "code",
      "metadata": {
        "colab": {
          "base_uri": "https://localhost:8080/"
        },
        "id": "eHLRFAQwPKby",
        "outputId": "813dae31-f04e-4c4b-afca-1425507b92e9"
      },
      "source": [
        "# support vector machine (svm)\n",
        "s_v_m = svm.SVC()\n",
        "s_v_m = s_v_m.fit(training_data,training_label)\n",
        "s_v_m.predict(testing_data)"
      ],
      "execution_count": 61,
      "outputs": [
        {
          "output_type": "stream",
          "name": "stderr",
          "text": [
            "/usr/local/lib/python3.7/dist-packages/sklearn/utils/validation.py:760: DataConversionWarning: A column-vector y was passed when a 1d array was expected. Please change the shape of y to (n_samples, ), for example using ravel().\n",
            "  y = column_or_1d(y, warn=True)\n"
          ]
        },
        {
          "output_type": "execute_result",
          "data": {
            "text/plain": [
              "array([0., 0., 0., ..., 0., 0., 0.])"
            ]
          },
          "metadata": {},
          "execution_count": 61
        }
      ]
    },
    {
      "cell_type": "code",
      "metadata": {
        "id": "vbCL3QaEPN-5"
      },
      "source": [
        "# k-nearest neighbor (k-NN)"
      ],
      "execution_count": null,
      "outputs": []
    }
  ]
}